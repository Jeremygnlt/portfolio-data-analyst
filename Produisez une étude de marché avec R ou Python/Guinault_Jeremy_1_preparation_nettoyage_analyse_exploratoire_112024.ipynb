{
 "cells": [
  {
   "cell_type": "markdown",
   "id": "97dccc01",
   "metadata": {},
   "source": [
    "<div style=\"display: flex; background-color: RGB(255,114,0);\" >\n",
    "<h1 style=\"margin: auto; padding: 30px; \">LA POULE QUI CHANTE :\n",
    "Préparation et nettoyage des données</h1>\n",
    "</div>"
   ]
  },
  {
   "cell_type": "markdown",
   "id": "4d0d1bb8",
   "metadata": {},
   "source": [
    "# OBJECTIF DE CE NOTEBOOK\n",
    "\n",
    "Bienvenue dans l'outil plébiscité par les analystes de données Jupyter.\n",
    "\n",
    "Il s'agit d'un outil permettant de mixer et d'alterner codes, textes et graphique.\n",
    "\n",
    "Cet outil est formidable pour plusieurs raisons:\n",
    "\n",
    "+ il permet de tester des lignes de codes au fur et à mesure de votre rédaction, de constater immédiatement le résultat d'un instruction, de la corriger si nécessaire.\n",
    "+ De rédiger du texte pour expliquer l'approche suivie ou les résultats d'une analyse et de le mettre en forme grâce à du code html ou plus simple avec **Markdown**\n",
    "+ d'agrémenter de graphiques\n",
    "\n",
    "Pour vous aider dans vos premiers pas à l'usage de Jupyter et de Python, nous avons rédigé ce notebook en vous indiquant les instructions à suivre.\n",
    "\n",
    "Il vous suffit pour cela de saisir le code Python répondant à l'instruction donnée.\n",
    "\n",
    "Vous verrez de temps à autre le code Python répondant à une instruction donnée mais cela est fait pour vous aider à comprendre la nature du travail qui vous est demandée.\n",
    "\n",
    "Et garder à l'esprit, qu'il n'y a pas de solution unique pour résoudre un problème et qu'il y a autant de résolutions de problèmes que de développeurs ;)...\n",
    "\n"
   ]
  },
  {
   "cell_type": "markdown",
   "id": "b85efb87",
   "metadata": {},
   "source": [
    "<div style=\"background-color: RGB(51,165,182);\" >\n",
    "<h2 style=\"margin: auto; padding: 20px; color:#fff; \">Etape 1 - Importation des librairies et chargement des fichiers</h2>\n",
    "</div>"
   ]
  },
  {
   "cell_type": "markdown",
   "id": "b5449401",
   "metadata": {},
   "source": [
    "<div style=\"border: 1px solid RGB(51,165,182);\" >\n",
    "<h3 style=\"margin: auto; padding: 20px; color: RGB(51,165,182); \">1.1 - Importation des librairies</h3>\n",
    "</div>"
   ]
  },
  {
   "cell_type": "code",
   "execution_count": 5,
   "id": "e6ef06ec",
   "metadata": {},
   "outputs": [],
   "source": [
    "import pandas as pd\n",
    "import numpy as np\n",
    "import warnings\n",
    "warnings.simplefilter(action='ignore', category=UserWarning)\n",
    "warnings.simplefilter(action='ignore', category=FutureWarning)"
   ]
  },
  {
   "cell_type": "code",
   "execution_count": 6,
   "id": "a38ce0fc",
   "metadata": {},
   "outputs": [],
   "source": [
    "#Importation de la librairie plotly express\n",
    "import plotly.express as px\n",
    "import matplotlib.pyplot as plt\n",
    "from matplotlib.ticker import MultipleLocator"
   ]
  },
  {
   "cell_type": "code",
   "execution_count": 8,
   "id": "0a718067",
   "metadata": {},
   "outputs": [],
   "source": [
    "#Trouver dans Google l'instruction permettant d'afficher toutes les colonnes d'un dataframe\n",
    "#Saisir, dans Google, les mots clés \"display all columns dataframe Pandas\", par exemple.\n",
    "#Dans les résultats de la recherche, privilégiez les solutions provenants de Stack Overflow ou Medium\n",
    "pd.set_option('display.max_columns', None)"
   ]
  },
  {
   "cell_type": "markdown",
   "id": "f4918299",
   "metadata": {},
   "source": [
    "<div style=\"border: 1px solid RGB(51,165,182);\" >\n",
    "<h3 style=\"margin: auto; padding: 20px; color: RGB(51,165,182); \">1.2 - Chargements des fichiers</h3>\n",
    "</div>"
   ]
  },
  {
   "cell_type": "code",
   "execution_count": 10,
   "id": "9642cf03",
   "metadata": {},
   "outputs": [],
   "source": [
    "#Importation du fichier DisponibiliteAlimentaire_2017.csv\n",
    "df_dispoalim = pd.read_csv(\"DisponibiliteAlimentaire_2017.csv\")\n",
    "#Importation du fichier Population_2000_2018.csv\n",
    "df_population = pd.read_csv(\"Population_2000_2018.csv\")\n",
    "#Importation du fichier PIBHabitant2017.csv\n",
    "df_pib = pd.read_csv(\"PIBHabitant2017.csv\")\n",
    "#Importation du fichier kfcp11.csv\n",
    "df_kfc = pd.read_csv(\"kfcp11.csv\",)\n",
    "#Importation du fichier Satbilite_politique.csv\n",
    "df_stabilitepol = pd.read_csv(\"Stabilite_politique.csv\", on_bad_lines='skip')\n",
    "#Importation du fichier distance_fr.csv\n",
    "df_dist = pd.read_csv(\"distance_fr.csv\")"
   ]
  },
  {
   "cell_type": "markdown",
   "id": "605f7056",
   "metadata": {},
   "source": [
    "<div style=\"background-color: RGB(51,165,182);\" >\n",
    "<h2 style=\"margin: auto; padding: 20px; color:#fff; \">Etape 2 - Analyse exploratoire des fichiers</h2>\n",
    "</div>"
   ]
  },
  {
   "cell_type": "markdown",
   "id": "47d3a649",
   "metadata": {},
   "source": [
    "<div style=\"border: 1px solid RGB(51,165,182);\" >\n",
    "<h3 style=\"margin: auto; padding: 20px; color: RGB(51,165,182); \">2.1 - Analyse exploratoire du df_dispoalim</h3>\n",
    "</div>"
   ]
  },
  {
   "cell_type": "code",
   "execution_count": 13,
   "id": "094ef206",
   "metadata": {},
   "outputs": [
    {
     "name": "stdout",
     "output_type": "stream",
     "text": [
      "Le tableau comporte 176600 observation(s) ou article(s)\n",
      "Le tableau comporte 14 colonne(s)\n"
     ]
    }
   ],
   "source": [
    "#Afficher les dimensions du dataset\n",
    "print(\"Le tableau comporte {} observation(s) ou article(s)\".format(df_dispoalim.shape[0]))\n",
    "print(\"Le tableau comporte {} colonne(s)\".format(df_dispoalim.shape[1]))"
   ]
  },
  {
   "cell_type": "code",
   "execution_count": 14,
   "id": "182441f0",
   "metadata": {},
   "outputs": [
    {
     "name": "stdout",
     "output_type": "stream",
     "text": [
      "<class 'pandas.core.frame.DataFrame'>\n",
      "RangeIndex: 176600 entries, 0 to 176599\n",
      "Data columns (total 14 columns):\n",
      " #   Column                  Non-Null Count   Dtype  \n",
      "---  ------                  --------------   -----  \n",
      " 0   Code Domaine            176600 non-null  object \n",
      " 1   Domaine                 176600 non-null  object \n",
      " 2   Code zone               176600 non-null  int64  \n",
      " 3   Zone                    176600 non-null  object \n",
      " 4   Code Élément            176600 non-null  int64  \n",
      " 5   Élément                 176600 non-null  object \n",
      " 6   Code Produit            176600 non-null  int64  \n",
      " 7   Produit                 176600 non-null  object \n",
      " 8   Code année              176600 non-null  int64  \n",
      " 9   Année                   176600 non-null  int64  \n",
      " 10  Unité                   176600 non-null  object \n",
      " 11  Valeur                  176600 non-null  float64\n",
      " 12  Symbole                 176600 non-null  object \n",
      " 13  Description du Symbole  176600 non-null  object \n",
      "dtypes: float64(1), int64(5), object(8)\n",
      "memory usage: 18.9+ MB\n"
     ]
    }
   ],
   "source": [
    "#La nature des données dans chacune des colonnes\n",
    "df_dispoalim.info()"
   ]
  },
  {
   "cell_type": "code",
   "execution_count": 15,
   "id": "b7d702ea-ec8e-4da7-b99c-579c2cbe4321",
   "metadata": {},
   "outputs": [
    {
     "data": {
      "text/html": [
       "<div>\n",
       "<style scoped>\n",
       "    .dataframe tbody tr th:only-of-type {\n",
       "        vertical-align: middle;\n",
       "    }\n",
       "\n",
       "    .dataframe tbody tr th {\n",
       "        vertical-align: top;\n",
       "    }\n",
       "\n",
       "    .dataframe thead th {\n",
       "        text-align: right;\n",
       "    }\n",
       "</style>\n",
       "<table border=\"1\" class=\"dataframe\">\n",
       "  <thead>\n",
       "    <tr style=\"text-align: right;\">\n",
       "      <th></th>\n",
       "      <th>Code Domaine</th>\n",
       "      <th>Domaine</th>\n",
       "      <th>Code zone</th>\n",
       "      <th>Zone</th>\n",
       "      <th>Code Élément</th>\n",
       "      <th>Élément</th>\n",
       "      <th>Code Produit</th>\n",
       "      <th>Produit</th>\n",
       "      <th>Code année</th>\n",
       "      <th>Année</th>\n",
       "      <th>Unité</th>\n",
       "      <th>Valeur</th>\n",
       "      <th>Symbole</th>\n",
       "      <th>Description du Symbole</th>\n",
       "    </tr>\n",
       "  </thead>\n",
       "  <tbody>\n",
       "    <tr>\n",
       "      <th>0</th>\n",
       "      <td>FBS</td>\n",
       "      <td>Nouveaux Bilans Alimentaire</td>\n",
       "      <td>2</td>\n",
       "      <td>Afghanistan</td>\n",
       "      <td>5511</td>\n",
       "      <td>Production</td>\n",
       "      <td>2511</td>\n",
       "      <td>Blé et produits</td>\n",
       "      <td>2017</td>\n",
       "      <td>2017</td>\n",
       "      <td>Milliers de tonnes</td>\n",
       "      <td>4281.0</td>\n",
       "      <td>S</td>\n",
       "      <td>Données standardisées</td>\n",
       "    </tr>\n",
       "    <tr>\n",
       "      <th>1</th>\n",
       "      <td>FBS</td>\n",
       "      <td>Nouveaux Bilans Alimentaire</td>\n",
       "      <td>2</td>\n",
       "      <td>Afghanistan</td>\n",
       "      <td>5611</td>\n",
       "      <td>Importations - Quantité</td>\n",
       "      <td>2511</td>\n",
       "      <td>Blé et produits</td>\n",
       "      <td>2017</td>\n",
       "      <td>2017</td>\n",
       "      <td>Milliers de tonnes</td>\n",
       "      <td>2302.0</td>\n",
       "      <td>S</td>\n",
       "      <td>Données standardisées</td>\n",
       "    </tr>\n",
       "    <tr>\n",
       "      <th>2</th>\n",
       "      <td>FBS</td>\n",
       "      <td>Nouveaux Bilans Alimentaire</td>\n",
       "      <td>2</td>\n",
       "      <td>Afghanistan</td>\n",
       "      <td>5072</td>\n",
       "      <td>Variation de stock</td>\n",
       "      <td>2511</td>\n",
       "      <td>Blé et produits</td>\n",
       "      <td>2017</td>\n",
       "      <td>2017</td>\n",
       "      <td>Milliers de tonnes</td>\n",
       "      <td>-119.0</td>\n",
       "      <td>S</td>\n",
       "      <td>Données standardisées</td>\n",
       "    </tr>\n",
       "    <tr>\n",
       "      <th>3</th>\n",
       "      <td>FBS</td>\n",
       "      <td>Nouveaux Bilans Alimentaire</td>\n",
       "      <td>2</td>\n",
       "      <td>Afghanistan</td>\n",
       "      <td>5911</td>\n",
       "      <td>Exportations - Quantité</td>\n",
       "      <td>2511</td>\n",
       "      <td>Blé et produits</td>\n",
       "      <td>2017</td>\n",
       "      <td>2017</td>\n",
       "      <td>Milliers de tonnes</td>\n",
       "      <td>0.0</td>\n",
       "      <td>S</td>\n",
       "      <td>Données standardisées</td>\n",
       "    </tr>\n",
       "    <tr>\n",
       "      <th>4</th>\n",
       "      <td>FBS</td>\n",
       "      <td>Nouveaux Bilans Alimentaire</td>\n",
       "      <td>2</td>\n",
       "      <td>Afghanistan</td>\n",
       "      <td>5301</td>\n",
       "      <td>Disponibilité intérieure</td>\n",
       "      <td>2511</td>\n",
       "      <td>Blé et produits</td>\n",
       "      <td>2017</td>\n",
       "      <td>2017</td>\n",
       "      <td>Milliers de tonnes</td>\n",
       "      <td>6701.0</td>\n",
       "      <td>S</td>\n",
       "      <td>Données standardisées</td>\n",
       "    </tr>\n",
       "  </tbody>\n",
       "</table>\n",
       "</div>"
      ],
      "text/plain": [
       "  Code Domaine                      Domaine  Code zone         Zone  \\\n",
       "0          FBS  Nouveaux Bilans Alimentaire          2  Afghanistan   \n",
       "1          FBS  Nouveaux Bilans Alimentaire          2  Afghanistan   \n",
       "2          FBS  Nouveaux Bilans Alimentaire          2  Afghanistan   \n",
       "3          FBS  Nouveaux Bilans Alimentaire          2  Afghanistan   \n",
       "4          FBS  Nouveaux Bilans Alimentaire          2  Afghanistan   \n",
       "\n",
       "   Code Élément                   Élément  Code Produit          Produit  \\\n",
       "0          5511                Production          2511  Blé et produits   \n",
       "1          5611   Importations - Quantité          2511  Blé et produits   \n",
       "2          5072        Variation de stock          2511  Blé et produits   \n",
       "3          5911   Exportations - Quantité          2511  Blé et produits   \n",
       "4          5301  Disponibilité intérieure          2511  Blé et produits   \n",
       "\n",
       "   Code année  Année               Unité  Valeur Symbole  \\\n",
       "0        2017   2017  Milliers de tonnes  4281.0       S   \n",
       "1        2017   2017  Milliers de tonnes  2302.0       S   \n",
       "2        2017   2017  Milliers de tonnes  -119.0       S   \n",
       "3        2017   2017  Milliers de tonnes     0.0       S   \n",
       "4        2017   2017  Milliers de tonnes  6701.0       S   \n",
       "\n",
       "  Description du Symbole  \n",
       "0  Données standardisées  \n",
       "1  Données standardisées  \n",
       "2  Données standardisées  \n",
       "3  Données standardisées  \n",
       "4  Données standardisées  "
      ]
     },
     "execution_count": 15,
     "metadata": {},
     "output_type": "execute_result"
    }
   ],
   "source": [
    "#Affichage des 5 premières lignes de la table\n",
    "df_dispoalim.head()"
   ]
  },
  {
   "cell_type": "code",
   "execution_count": 16,
   "id": "db102a4a",
   "metadata": {},
   "outputs": [],
   "source": [
    "#Suppression des colonnes dont nous n'avons pas besoin\n",
    "df_dispoalim = df_dispoalim.drop(['Code Domaine', 'Domaine', 'Code année', 'Symbole', 'Description du Symbole'], axis=1, errors='ignore')"
   ]
  },
  {
   "cell_type": "markdown",
   "id": "3e2af72a-3632-48e6-9f88-d3be348b1fd1",
   "metadata": {},
   "source": [
    "<div style=\"border: 1px solid RGB(51,165,182);\" >\n",
    "<h3 style=\"margin: auto; padding: 20px; color: RGB(51,165,182); \">2.1.1. - Création du df_alim, pour la volaille alimentaire par pays</h3>\n",
    "</div>"
   ]
  },
  {
   "cell_type": "code",
   "execution_count": 18,
   "id": "0593a405-8e88-4633-8044-43157971a073",
   "metadata": {},
   "outputs": [],
   "source": [
    "#Filtre pour ne garder que les lignes concernant la nourriture de viande de vollailes\n",
    "df_alim = df_dispoalim[(df_dispoalim['Code Élément'] == 5142 ) & (df_dispoalim['Code Produit'] == 2734)].copy()"
   ]
  },
  {
   "cell_type": "code",
   "execution_count": 19,
   "id": "569db0dc-85fe-4f7b-9466-a110e9077045",
   "metadata": {},
   "outputs": [
    {
     "name": "stdout",
     "output_type": "stream",
     "text": [
      "Le tableau comporte 170 observation(s) ou article(s)\n",
      "Le tableau comporte 9 colonne(s)\n"
     ]
    }
   ],
   "source": [
    "#Afficher les dimensions du dataset\n",
    "print(\"Le tableau comporte {} observation(s) ou article(s)\".format(df_alim.shape[0]))\n",
    "print(\"Le tableau comporte {} colonne(s)\".format(df_alim.shape[1]))"
   ]
  },
  {
   "cell_type": "code",
   "execution_count": 20,
   "id": "cacdd9d7-7780-46cf-bb6e-a1a3672213b2",
   "metadata": {},
   "outputs": [
    {
     "name": "stdout",
     "output_type": "stream",
     "text": [
      "Il y a 0 valeur(s) nulle(s) dans la colonne 'Valeur'.\n"
     ]
    }
   ],
   "source": [
    "#Affichage du nombre de valeurs nulles dans la colonne 'Valeur'\n",
    "print(f\"Il y a {df_alim['Valeur'].isnull().sum()} valeur(s) nulle(s) dans la colonne 'Valeur'.\")"
   ]
  },
  {
   "cell_type": "code",
   "execution_count": 21,
   "id": "07f82900-56f7-4059-a842-e1ac5dc0b396",
   "metadata": {},
   "outputs": [],
   "source": [
    "#Conversion de la colonne 'Valeur' en tonnes\n",
    "df_alim.loc[:, 'Valeur'] = df_alim['Valeur'] * 1000"
   ]
  },
  {
   "cell_type": "code",
   "execution_count": 22,
   "id": "50cf05fc-3f21-4e57-9a30-dcb37e280e96",
   "metadata": {},
   "outputs": [
    {
     "name": "stdout",
     "output_type": "stream",
     "text": [
      "Il y a 0 valeur(s) nulle(s) dans la colonne 'Valeur'.\n"
     ]
    }
   ],
   "source": [
    "#Affichage du nombre de valeurs nulles dans la colonne 'Valeur'\n",
    "print(f\"Il y a {df_alim['Valeur'].isnull().sum()} valeur(s) nulle(s) dans la colonne 'Valeur'.\")"
   ]
  },
  {
   "cell_type": "code",
   "execution_count": 23,
   "id": "215e295f-5797-4fd7-bca6-f670ffcb0e9e",
   "metadata": {},
   "outputs": [],
   "source": [
    "#Modification du nom de la colonne 'Valeur'\n",
    "df_alim = df_alim.rename(columns={'Valeur': 'Volailles alimentaire en t'})"
   ]
  },
  {
   "cell_type": "code",
   "execution_count": 24,
   "id": "0afdfb8f-c3fb-4a28-96b7-ee0c549cda65",
   "metadata": {},
   "outputs": [],
   "source": [
    "#Suppression des colonnes dont nous n'avons plus besoin\n",
    "df_alim = df_alim.drop(['Code zone', 'Code Élément', 'Élément', 'Code Produit', 'Produit', 'Unité'], axis=1, errors='ignore')"
   ]
  },
  {
   "cell_type": "markdown",
   "id": "83e2f773-42ec-4657-bf2a-b471c06f579c",
   "metadata": {},
   "source": [
    "<div style=\"border: 1px solid RGB(51,165,182);\" >\n",
    "<h3 style=\"margin: auto; padding: 20px; color: RGB(51,165,182); \">2.1.2. - Création du df_prod, pour la volaille produite par pays</h3>\n",
    "</div>"
   ]
  },
  {
   "cell_type": "code",
   "execution_count": 28,
   "id": "21fe70e1-7d30-49ac-a9d4-1bd17dc2ce27",
   "metadata": {},
   "outputs": [],
   "source": [
    "#Filtre pour ne garder que les lignes concernant la production de viande de vollailes\n",
    "df_prod = df_dispoalim[(df_dispoalim['Code Élément'] == 5511 ) & (df_dispoalim['Code Produit'] == 2734)].copy()"
   ]
  },
  {
   "cell_type": "code",
   "execution_count": 29,
   "id": "2f7230f2-7f5c-44ff-b9fa-f1bc6a925083",
   "metadata": {},
   "outputs": [
    {
     "name": "stdout",
     "output_type": "stream",
     "text": [
      "Le tableau comporte 168 observation(s) ou article(s)\n",
      "Le tableau comporte 9 colonne(s)\n"
     ]
    }
   ],
   "source": [
    "#Afficher les dimensions du dataset\n",
    "print(\"Le tableau comporte {} observation(s) ou article(s)\".format(df_prod.shape[0]))\n",
    "print(\"Le tableau comporte {} colonne(s)\".format(df_prod.shape[1]))"
   ]
  },
  {
   "cell_type": "code",
   "execution_count": 30,
   "id": "2e6db3e3-a742-4a0c-8630-ba1ca55f45a6",
   "metadata": {},
   "outputs": [],
   "source": [
    "#Conversion de la colonne 'Valeur' en tonnes\n",
    "df_prod.loc[:, 'Valeur'] = df_prod['Valeur'] * 1000"
   ]
  },
  {
   "cell_type": "code",
   "execution_count": 31,
   "id": "53b53ea0-3c0e-4542-bf6b-d0cd30da8985",
   "metadata": {},
   "outputs": [
    {
     "name": "stdout",
     "output_type": "stream",
     "text": [
      "Il y a 0 valeur(s) nulle(s) dans la colonne 'Valeur'.\n"
     ]
    }
   ],
   "source": [
    "#Affichage du nombre de valeurs nulles dans la colonne 'Valeur'\n",
    "print(f\"Il y a {df_prod['Valeur'].isnull().sum()} valeur(s) nulle(s) dans la colonne 'Valeur'.\")"
   ]
  },
  {
   "cell_type": "code",
   "execution_count": 32,
   "id": "377e76a2-1d8f-4c02-a895-c79184c3c90d",
   "metadata": {},
   "outputs": [],
   "source": [
    "#Modification du nom de la colonne 'Valeur'\n",
    "df_prod = df_prod.rename(columns={'Valeur': 'Volailles produites en t'})"
   ]
  },
  {
   "cell_type": "code",
   "execution_count": 35,
   "id": "58c1332b-5b70-438c-b162-7602393839ae",
   "metadata": {},
   "outputs": [],
   "source": [
    "#Suppression des colonnes dont nous n'avons plus besoin\n",
    "df_prod = df_prod.drop(['Code zone', 'Code Élément', 'Élément', 'Année', 'Code Produit', 'Produit', 'Unité'], axis=1, errors='ignore')"
   ]
  },
  {
   "cell_type": "code",
   "execution_count": 52,
   "id": "2e86c5bb-775f-4b23-ae7c-770a0b0a9327",
   "metadata": {},
   "outputs": [],
   "source": [
    "#Jointure du df_alim au df_prod\n",
    "df_total = pd.merge(df_alim, df_prod, left_on='Zone', right_on='Zone', how='outer')"
   ]
  },
  {
   "cell_type": "code",
   "execution_count": 53,
   "id": "56c27844-5f92-4a7b-9546-2144fe1fdf19",
   "metadata": {},
   "outputs": [
    {
     "data": {
      "text/plain": [
       "array(['Djibouti', 'Maldives'], dtype=object)"
      ]
     },
     "execution_count": 53,
     "metadata": {},
     "output_type": "execute_result"
    }
   ],
   "source": [
    "#Identifier les lignes où la colonne 'Viande de volailles produites en t' contient des valeurs NaN\n",
    "nan_tot = df_total[df_total['Volailles produites en t'].isnull()]\n",
    "\n",
    "#Afficher les lignes avec des NaN\n",
    "nan_tot['Zone'].unique()"
   ]
  },
  {
   "cell_type": "code",
   "execution_count": 56,
   "id": "1461f7c2-55d3-4bf9-913e-412b880467fa",
   "metadata": {},
   "outputs": [],
   "source": [
    "#Remplacer les NaN dans la colonne 'Viande de volailles produites en t' par 0\n",
    "df_total['Volailles produites en t'] = df_total['Volailles produites en t'].fillna(0)"
   ]
  },
  {
   "cell_type": "markdown",
   "id": "705072dd-2e0b-4119-964b-593067cf2662",
   "metadata": {},
   "source": [
    "<div style=\"border: 1px solid RGB(51,165,182);\" >\n",
    "<h3 style=\"margin: auto; padding: 20px; color: RGB(51,165,182); \">2.1.3. - Création du df_import, pour la volaille importée par pays</h3>\n",
    "</div>"
   ]
  },
  {
   "cell_type": "code",
   "execution_count": 59,
   "id": "75ba870e-6cf0-4b79-a1fa-02c8fbdb1144",
   "metadata": {},
   "outputs": [],
   "source": [
    "#Filtre pour ne garder que les lignes concernant les importations de viande de vollailes\n",
    "df_import = df_dispoalim[(df_dispoalim['Code Élément'] == 5611 ) & (df_dispoalim['Code Produit'] == 2734)].copy()"
   ]
  },
  {
   "cell_type": "code",
   "execution_count": 61,
   "id": "e3a32f61-64e0-4175-adae-98fc86a101e2",
   "metadata": {},
   "outputs": [
    {
     "name": "stdout",
     "output_type": "stream",
     "text": [
      "Le tableau comporte 170 observation(s) ou article(s)\n",
      "Le tableau comporte 9 colonne(s)\n"
     ]
    }
   ],
   "source": [
    "#Afficher les dimensions du dataset\n",
    "print(\"Le tableau comporte {} observation(s) ou article(s)\".format(df_import.shape[0]))\n",
    "print(\"Le tableau comporte {} colonne(s)\".format(df_import.shape[1]))"
   ]
  },
  {
   "cell_type": "code",
   "execution_count": 63,
   "id": "f3200f88-6707-4d17-97fe-4ab2c177a4a0",
   "metadata": {},
   "outputs": [],
   "source": [
    "#Conversion de la colonne 'Valeur' en tonnes\n",
    "df_import.loc[:, 'Valeur'] = df_import['Valeur'] * 1000"
   ]
  },
  {
   "cell_type": "code",
   "execution_count": 65,
   "id": "6bcdf7bd-55c5-4d8b-9eb4-de8791bd7631",
   "metadata": {},
   "outputs": [
    {
     "name": "stdout",
     "output_type": "stream",
     "text": [
      "Il y a 0 valeur(s) nulle(s) dans la colonne 'Valeur'.\n"
     ]
    }
   ],
   "source": [
    "#Affichage du nombre de valeurs nulles dans la colonne 'Valeur'\n",
    "print(f\"Il y a {df_import['Valeur'].isnull().sum()} valeur(s) nulle(s) dans la colonne 'Valeur'.\")"
   ]
  },
  {
   "cell_type": "code",
   "execution_count": 67,
   "id": "b0570347-d1f5-4067-96e5-e5519f0fb261",
   "metadata": {},
   "outputs": [],
   "source": [
    "#Modification du nom de la colonne 'Valeur'\n",
    "df_import = df_import.rename(columns={'Valeur': 'Volailles importées en t'})"
   ]
  },
  {
   "cell_type": "code",
   "execution_count": 69,
   "id": "5fd29dbf-4285-4b03-bb08-09e79ff7cc5a",
   "metadata": {},
   "outputs": [],
   "source": [
    "#Suppression des colonnes dont nous n'avons plus besoin\n",
    "df_import = df_import.drop(['Code zone', 'Code Élément', 'Élément', 'Année', 'Code Produit', 'Produit', 'Unité'], axis=1, errors='ignore')"
   ]
  },
  {
   "cell_type": "code",
   "execution_count": 71,
   "id": "ceabf015-1202-4dbf-818a-2d8d3b76f5b9",
   "metadata": {},
   "outputs": [],
   "source": [
    "#Jointure du df_import au df_total\n",
    "df_total = pd.merge(df_total, df_import, left_on='Zone', right_on='Zone', how='inner')"
   ]
  },
  {
   "cell_type": "markdown",
   "id": "b2c3f8cb-e029-4a3d-81e9-baa6d0647359",
   "metadata": {},
   "source": [
    "<div style=\"border: 1px solid RGB(51,165,182);\" >\n",
    "<h3 style=\"margin: auto; padding: 20px; color: RGB(51,165,182); \">2.1.4. - Création du df_export, pour la volaille exportée par pays</h3>\n",
    "</div>"
   ]
  },
  {
   "cell_type": "code",
   "execution_count": 74,
   "id": "f2de19ce-c8e4-44c8-8c19-66e920b2a567",
   "metadata": {},
   "outputs": [],
   "source": [
    "#Filtre pour ne garder que les lignes concernant les exportations de viande de vollailes\n",
    "df_export = df_dispoalim[(df_dispoalim['Code Élément'] == 5911 ) & (df_dispoalim['Code Produit'] == 2734)].copy()"
   ]
  },
  {
   "cell_type": "code",
   "execution_count": 76,
   "id": "805459a4-4f6c-4fbe-8aaf-f0c3aa51ed99",
   "metadata": {},
   "outputs": [
    {
     "name": "stdout",
     "output_type": "stream",
     "text": [
      "Le tableau comporte 135 observation(s) ou article(s)\n",
      "Le tableau comporte 9 colonne(s)\n"
     ]
    }
   ],
   "source": [
    "#Afficher les dimensions du dataset\n",
    "print(\"Le tableau comporte {} observation(s) ou article(s)\".format(df_export.shape[0]))\n",
    "print(\"Le tableau comporte {} colonne(s)\".format(df_export.shape[1]))"
   ]
  },
  {
   "cell_type": "code",
   "execution_count": 78,
   "id": "db0ac771-22d9-43f1-980d-efc1c9df1e33",
   "metadata": {},
   "outputs": [],
   "source": [
    "#Conversion de la colonne 'Valeur' en tonnes\n",
    "df_export.loc[:, 'Valeur'] = df_export['Valeur'] * 1000"
   ]
  },
  {
   "cell_type": "code",
   "execution_count": 80,
   "id": "e6e6df79-7ca1-4c8f-9965-671864258549",
   "metadata": {},
   "outputs": [
    {
     "name": "stdout",
     "output_type": "stream",
     "text": [
      "Il y a 0 valeur(s) nulle(s) dans la colonne 'Valeur'.\n"
     ]
    }
   ],
   "source": [
    "#Affichage du nombre de valeurs nulles dans la colonne 'Valeur'\n",
    "print(f\"Il y a {df_export['Valeur'].isnull().sum()} valeur(s) nulle(s) dans la colonne 'Valeur'.\")"
   ]
  },
  {
   "cell_type": "code",
   "execution_count": 82,
   "id": "94f48a7e-bcb6-4549-9ee1-920064520258",
   "metadata": {},
   "outputs": [],
   "source": [
    "#Modification du nom de la colonne 'Valeur'\n",
    "df_export = df_export.rename(columns={'Valeur': 'Volailles exportées en t'})"
   ]
  },
  {
   "cell_type": "code",
   "execution_count": 84,
   "id": "01d82220-cc81-4691-b68a-4cc50340614b",
   "metadata": {},
   "outputs": [],
   "source": [
    "#Suppression des colonnes dont nous n'avons plus besoin\n",
    "df_export = df_export.drop(['Code zone', 'Code Élément', 'Élément', 'Année', 'Code Produit', 'Produit', 'Unité'], axis=1, errors='ignore')"
   ]
  },
  {
   "cell_type": "code",
   "execution_count": 86,
   "id": "1366be39-fe93-4842-83eb-6a5ec5a0a980",
   "metadata": {},
   "outputs": [],
   "source": [
    "#Jointure du df_import au df_total\n",
    "df_total = pd.merge(df_total, df_export, left_on='Zone', right_on='Zone', how='outer')"
   ]
  },
  {
   "cell_type": "code",
   "execution_count": 88,
   "id": "5984992b-3f65-4159-8486-1d15aabb0cbb",
   "metadata": {},
   "outputs": [
    {
     "data": {
      "text/plain": [
       "array(['Afghanistan', 'Bahamas', 'Bangladesh', 'Burkina Faso',\n",
       "       'Cabo Verde', 'Cambodge', 'Cuba', 'Djibouti', 'Gambie', 'Grenade',\n",
       "       'Guinée', 'Guinée-Bissau', 'Haïti', 'Kiribati', 'Madagascar',\n",
       "       'Malawi', 'Maldives', 'Mali', 'Mauritanie', 'Mongolie',\n",
       "       'Mozambique', 'Nouvelle-Calédonie', 'Népal',\n",
       "       'République centrafricaine', 'République-Unie de Tanzanie',\n",
       "       'Saint-Vincent-et-les Grenadines', 'Sainte-Lucie',\n",
       "       'Sao Tomé-et-Principe', 'Soudan', 'Tadjikistan', 'Timor-Leste',\n",
       "       'Turkménistan', 'Vanuatu', 'Zimbabwe', 'Éthiopie'], dtype=object)"
      ]
     },
     "execution_count": 88,
     "metadata": {},
     "output_type": "execute_result"
    }
   ],
   "source": [
    "#Identifier les lignes où la colonne 'Viande de volailles produites en t' contient des valeurs NaN\n",
    "nan_tot2 = df_total[df_total['Volailles exportées en t'].isnull()]\n",
    "\n",
    "#Afficher les lignes avec des NaN\n",
    "nan_tot2['Zone'].unique()"
   ]
  },
  {
   "cell_type": "code",
   "execution_count": 90,
   "id": "ff794125-34ab-4dee-ae7c-c3a2d2ef9c14",
   "metadata": {},
   "outputs": [],
   "source": [
    "#Remplacer les NaN dans la colonne 'Viandes de volailles exportées en t' par 0\n",
    "df_total['Volailles exportées en t'] = df_total['Volailles exportées en t'].fillna(0)"
   ]
  },
  {
   "cell_type": "markdown",
   "id": "2917665b-da73-4de5-8760-5883e2a7a525",
   "metadata": {},
   "source": [
    "<div style=\"border: 1px solid RGB(51,165,182);\" >\n",
    "<h3 style=\"margin: auto; padding: 20px; color: RGB(51,165,182); \">2.2 - Analyse exploratoire du df_population</h3>\n",
    "</div>"
   ]
  },
  {
   "cell_type": "code",
   "execution_count": 93,
   "id": "d443d4ff",
   "metadata": {},
   "outputs": [
    {
     "name": "stdout",
     "output_type": "stream",
     "text": [
      "Le tableau comporte 4411 observation(s) ou article(s)\n",
      "Le tableau comporte 15 colonne(s)\n"
     ]
    }
   ],
   "source": [
    "#Afficher les dimensions du dataset\n",
    "print(\"Le tableau comporte {} observation(s) ou article(s)\".format(df_population.shape[0]))\n",
    "print(\"Le tableau comporte {} colonne(s)\".format(df_population.shape[1]))"
   ]
  },
  {
   "cell_type": "code",
   "execution_count": 95,
   "id": "105af771-339e-499f-9d92-04127c22a0d1",
   "metadata": {},
   "outputs": [
    {
     "name": "stdout",
     "output_type": "stream",
     "text": [
      "<class 'pandas.core.frame.DataFrame'>\n",
      "RangeIndex: 4411 entries, 0 to 4410\n",
      "Data columns (total 15 columns):\n",
      " #   Column                  Non-Null Count  Dtype  \n",
      "---  ------                  --------------  -----  \n",
      " 0   Code Domaine            4411 non-null   object \n",
      " 1   Domaine                 4411 non-null   object \n",
      " 2   Code zone               4411 non-null   int64  \n",
      " 3   Zone                    4411 non-null   object \n",
      " 4   Code Élément            4411 non-null   int64  \n",
      " 5   Élément                 4411 non-null   object \n",
      " 6   Code Produit            4411 non-null   int64  \n",
      " 7   Produit                 4411 non-null   object \n",
      " 8   Code année              4411 non-null   int64  \n",
      " 9   Année                   4411 non-null   int64  \n",
      " 10  Unité                   4411 non-null   object \n",
      " 11  Valeur                  4411 non-null   float64\n",
      " 12  Symbole                 4411 non-null   object \n",
      " 13  Description du Symbole  4411 non-null   object \n",
      " 14  Note                    258 non-null    object \n",
      "dtypes: float64(1), int64(5), object(9)\n",
      "memory usage: 517.0+ KB\n"
     ]
    }
   ],
   "source": [
    "#La nature des données dans chacune des colonnes\n",
    "df_population.info()"
   ]
  },
  {
   "cell_type": "code",
   "execution_count": 97,
   "id": "c754b1a7-4972-4f7d-a845-0a259ffe7c07",
   "metadata": {},
   "outputs": [
    {
     "data": {
      "text/html": [
       "<div>\n",
       "<style scoped>\n",
       "    .dataframe tbody tr th:only-of-type {\n",
       "        vertical-align: middle;\n",
       "    }\n",
       "\n",
       "    .dataframe tbody tr th {\n",
       "        vertical-align: top;\n",
       "    }\n",
       "\n",
       "    .dataframe thead th {\n",
       "        text-align: right;\n",
       "    }\n",
       "</style>\n",
       "<table border=\"1\" class=\"dataframe\">\n",
       "  <thead>\n",
       "    <tr style=\"text-align: right;\">\n",
       "      <th></th>\n",
       "      <th>Code Domaine</th>\n",
       "      <th>Domaine</th>\n",
       "      <th>Code zone</th>\n",
       "      <th>Zone</th>\n",
       "      <th>Code Élément</th>\n",
       "      <th>Élément</th>\n",
       "      <th>Code Produit</th>\n",
       "      <th>Produit</th>\n",
       "      <th>Code année</th>\n",
       "      <th>Année</th>\n",
       "      <th>Unité</th>\n",
       "      <th>Valeur</th>\n",
       "      <th>Symbole</th>\n",
       "      <th>Description du Symbole</th>\n",
       "      <th>Note</th>\n",
       "    </tr>\n",
       "  </thead>\n",
       "  <tbody>\n",
       "    <tr>\n",
       "      <th>0</th>\n",
       "      <td>OA</td>\n",
       "      <td>Séries temporelles annuelles</td>\n",
       "      <td>2</td>\n",
       "      <td>Afghanistan</td>\n",
       "      <td>511</td>\n",
       "      <td>Population totale</td>\n",
       "      <td>3010</td>\n",
       "      <td>Population-Estimations</td>\n",
       "      <td>2000</td>\n",
       "      <td>2000</td>\n",
       "      <td>1000 personnes</td>\n",
       "      <td>20779.953</td>\n",
       "      <td>X</td>\n",
       "      <td>Sources internationales sûres</td>\n",
       "      <td>NaN</td>\n",
       "    </tr>\n",
       "    <tr>\n",
       "      <th>1</th>\n",
       "      <td>OA</td>\n",
       "      <td>Séries temporelles annuelles</td>\n",
       "      <td>2</td>\n",
       "      <td>Afghanistan</td>\n",
       "      <td>511</td>\n",
       "      <td>Population totale</td>\n",
       "      <td>3010</td>\n",
       "      <td>Population-Estimations</td>\n",
       "      <td>2001</td>\n",
       "      <td>2001</td>\n",
       "      <td>1000 personnes</td>\n",
       "      <td>21606.988</td>\n",
       "      <td>X</td>\n",
       "      <td>Sources internationales sûres</td>\n",
       "      <td>NaN</td>\n",
       "    </tr>\n",
       "    <tr>\n",
       "      <th>2</th>\n",
       "      <td>OA</td>\n",
       "      <td>Séries temporelles annuelles</td>\n",
       "      <td>2</td>\n",
       "      <td>Afghanistan</td>\n",
       "      <td>511</td>\n",
       "      <td>Population totale</td>\n",
       "      <td>3010</td>\n",
       "      <td>Population-Estimations</td>\n",
       "      <td>2002</td>\n",
       "      <td>2002</td>\n",
       "      <td>1000 personnes</td>\n",
       "      <td>22600.770</td>\n",
       "      <td>X</td>\n",
       "      <td>Sources internationales sûres</td>\n",
       "      <td>NaN</td>\n",
       "    </tr>\n",
       "    <tr>\n",
       "      <th>3</th>\n",
       "      <td>OA</td>\n",
       "      <td>Séries temporelles annuelles</td>\n",
       "      <td>2</td>\n",
       "      <td>Afghanistan</td>\n",
       "      <td>511</td>\n",
       "      <td>Population totale</td>\n",
       "      <td>3010</td>\n",
       "      <td>Population-Estimations</td>\n",
       "      <td>2003</td>\n",
       "      <td>2003</td>\n",
       "      <td>1000 personnes</td>\n",
       "      <td>23680.871</td>\n",
       "      <td>X</td>\n",
       "      <td>Sources internationales sûres</td>\n",
       "      <td>NaN</td>\n",
       "    </tr>\n",
       "    <tr>\n",
       "      <th>4</th>\n",
       "      <td>OA</td>\n",
       "      <td>Séries temporelles annuelles</td>\n",
       "      <td>2</td>\n",
       "      <td>Afghanistan</td>\n",
       "      <td>511</td>\n",
       "      <td>Population totale</td>\n",
       "      <td>3010</td>\n",
       "      <td>Population-Estimations</td>\n",
       "      <td>2004</td>\n",
       "      <td>2004</td>\n",
       "      <td>1000 personnes</td>\n",
       "      <td>24726.684</td>\n",
       "      <td>X</td>\n",
       "      <td>Sources internationales sûres</td>\n",
       "      <td>NaN</td>\n",
       "    </tr>\n",
       "  </tbody>\n",
       "</table>\n",
       "</div>"
      ],
      "text/plain": [
       "  Code Domaine                       Domaine  Code zone         Zone  \\\n",
       "0           OA  Séries temporelles annuelles          2  Afghanistan   \n",
       "1           OA  Séries temporelles annuelles          2  Afghanistan   \n",
       "2           OA  Séries temporelles annuelles          2  Afghanistan   \n",
       "3           OA  Séries temporelles annuelles          2  Afghanistan   \n",
       "4           OA  Séries temporelles annuelles          2  Afghanistan   \n",
       "\n",
       "   Code Élément            Élément  Code Produit                 Produit  \\\n",
       "0           511  Population totale          3010  Population-Estimations   \n",
       "1           511  Population totale          3010  Population-Estimations   \n",
       "2           511  Population totale          3010  Population-Estimations   \n",
       "3           511  Population totale          3010  Population-Estimations   \n",
       "4           511  Population totale          3010  Population-Estimations   \n",
       "\n",
       "   Code année  Année           Unité     Valeur Symbole  \\\n",
       "0        2000   2000  1000 personnes  20779.953       X   \n",
       "1        2001   2001  1000 personnes  21606.988       X   \n",
       "2        2002   2002  1000 personnes  22600.770       X   \n",
       "3        2003   2003  1000 personnes  23680.871       X   \n",
       "4        2004   2004  1000 personnes  24726.684       X   \n",
       "\n",
       "          Description du Symbole Note  \n",
       "0  Sources internationales sûres  NaN  \n",
       "1  Sources internationales sûres  NaN  \n",
       "2  Sources internationales sûres  NaN  \n",
       "3  Sources internationales sûres  NaN  \n",
       "4  Sources internationales sûres  NaN  "
      ]
     },
     "execution_count": 97,
     "metadata": {},
     "output_type": "execute_result"
    }
   ],
   "source": [
    "#Affichage des 5 premières lignes de la table\n",
    "df_population.head()"
   ]
  },
  {
   "cell_type": "code",
   "execution_count": 99,
   "id": "48f87239-09c7-48eb-a0f7-a6f5799eea4b",
   "metadata": {},
   "outputs": [],
   "source": [
    "#Filtre pour ne garder que les lignes concernant l'année 2017\n",
    "df_population = df_population[(df_population['Année'] == 2017)]"
   ]
  },
  {
   "cell_type": "code",
   "execution_count": 101,
   "id": "b3cfcf1b-9197-4f20-b0a6-72beb6c9df9d",
   "metadata": {},
   "outputs": [],
   "source": [
    "#Multiplication de la colonne 'Valeur' par 1000 et modification du nom de celle-ci\n",
    "df_population['Valeur'] = (df_population['Valeur'] * 1000).astype(int)\n",
    "df_population.rename(columns={'Valeur': 'Population'}, inplace=True)"
   ]
  },
  {
   "cell_type": "code",
   "execution_count": 103,
   "id": "dc4737ce-caad-476c-bbb2-959e754f4365",
   "metadata": {},
   "outputs": [],
   "source": [
    "#Suppression des colonnes dont nous n'avons plus besoin\n",
    "df_population = df_population.drop(['Code Domaine', 'Domaine', 'Code zone', 'Code Élément', 'Élément', 'Code Produit', 'Produit', 'Code année', \n",
    "                                    'Année', 'Unité', 'Symbole', 'Description du Symbole', 'Note'], axis=1, errors='ignore')"
   ]
  },
  {
   "cell_type": "code",
   "execution_count": 105,
   "id": "8addf330-adc6-48ea-b86f-58f093a7d3a8",
   "metadata": {},
   "outputs": [
    {
     "name": "stdout",
     "output_type": "stream",
     "text": [
      "Il y a 0 valeur(s) nulle(s) dans la colonne 'Population'.\n"
     ]
    }
   ],
   "source": [
    "#Affichage du nombre de valeurs nulles dans la colonne 'Population'\n",
    "print(f\"Il y a {df_population['Population'].isnull().sum()} valeur(s) nulle(s) dans la colonne 'Population'.\")"
   ]
  },
  {
   "cell_type": "code",
   "execution_count": 107,
   "id": "6455cb62-9caa-400e-9a2f-c3fb2cda8faa",
   "metadata": {},
   "outputs": [
    {
     "name": "stdout",
     "output_type": "stream",
     "text": [
      "La valeur mminimum de la colonne 'Population' est de : 793.\n",
      "La valeur maximum de la colonne 'Population' est de : 1421021791.\n"
     ]
    }
   ],
   "source": [
    "#Afficher la valeur minimum de la colonne 'Population'\n",
    "print(\"La valeur mminimum de la colonne 'Population' est de : {}.\".format(df_population['Population'].min()))\n",
    "#Afficher la valeur maximum de la colonne 'Population'\n",
    "print(\"La valeur maximum de la colonne 'Population' est de : {}.\".format(df_population['Population'].max()))"
   ]
  },
  {
   "cell_type": "code",
   "execution_count": 109,
   "id": "1b4c3ce8-0792-4a18-9f5e-e2107d86b0b4",
   "metadata": {},
   "outputs": [],
   "source": [
    "#Jointure du df_population au df_dispoalim\n",
    "df_total = pd.merge(df_total, df_population, left_on='Zone', right_on='Zone', how='inner')"
   ]
  },
  {
   "cell_type": "markdown",
   "id": "c3269af4-2083-48f0-b7ff-d4afa17de1b6",
   "metadata": {},
   "source": [
    "<div style=\"border: 1px solid RGB(51,165,182);\" >\n",
    "<h3 style=\"margin: auto; padding: 20px; color: RGB(51,165,182); \">2.5 - Analyse exploratoire du df_pib</h3>\n",
    "</div>"
   ]
  },
  {
   "cell_type": "code",
   "execution_count": 112,
   "id": "6b9177f1-f1de-4c09-8667-72d3055bf6a8",
   "metadata": {},
   "outputs": [
    {
     "name": "stdout",
     "output_type": "stream",
     "text": [
      "Le tableau comporte 211 observation(s) ou article(s)\n",
      "Le tableau comporte 15 colonne(s)\n"
     ]
    }
   ],
   "source": [
    "#Afficher les dimensions du dataset\n",
    "print(\"Le tableau comporte {} observation(s) ou article(s)\".format(df_pib.shape[0]))\n",
    "print(\"Le tableau comporte {} colonne(s)\".format(df_pib.shape[1]))"
   ]
  },
  {
   "cell_type": "code",
   "execution_count": 114,
   "id": "6efa65ec-937c-459b-b9cc-d6937edcbbaa",
   "metadata": {},
   "outputs": [
    {
     "name": "stdout",
     "output_type": "stream",
     "text": [
      "<class 'pandas.core.frame.DataFrame'>\n",
      "RangeIndex: 211 entries, 0 to 210\n",
      "Data columns (total 15 columns):\n",
      " #   Column                  Non-Null Count  Dtype  \n",
      "---  ------                  --------------  -----  \n",
      " 0   Code Domaine            211 non-null    object \n",
      " 1   Domaine                 211 non-null    object \n",
      " 2   Code zone (M49)         211 non-null    int64  \n",
      " 3   Zone                    211 non-null    object \n",
      " 4   Code Élément            211 non-null    int64  \n",
      " 5   Élément                 211 non-null    object \n",
      " 6   Code Produit            211 non-null    int64  \n",
      " 7   Produit                 211 non-null    object \n",
      " 8   Code année              211 non-null    int64  \n",
      " 9   Année                   211 non-null    int64  \n",
      " 10  Unité                   211 non-null    object \n",
      " 11  Valeur                  211 non-null    float64\n",
      " 12  Symbole                 211 non-null    object \n",
      " 13  Description du Symbole  211 non-null    object \n",
      " 14  Note                    0 non-null      float64\n",
      "dtypes: float64(2), int64(5), object(8)\n",
      "memory usage: 24.9+ KB\n"
     ]
    }
   ],
   "source": [
    "#La nature des données dans chacune des colonnes\n",
    "df_pib.info()"
   ]
  },
  {
   "cell_type": "code",
   "execution_count": 116,
   "id": "3b64e859-8ed3-4171-94ab-83bb86e80eb2",
   "metadata": {},
   "outputs": [
    {
     "data": {
      "text/html": [
       "<div>\n",
       "<style scoped>\n",
       "    .dataframe tbody tr th:only-of-type {\n",
       "        vertical-align: middle;\n",
       "    }\n",
       "\n",
       "    .dataframe tbody tr th {\n",
       "        vertical-align: top;\n",
       "    }\n",
       "\n",
       "    .dataframe thead th {\n",
       "        text-align: right;\n",
       "    }\n",
       "</style>\n",
       "<table border=\"1\" class=\"dataframe\">\n",
       "  <thead>\n",
       "    <tr style=\"text-align: right;\">\n",
       "      <th></th>\n",
       "      <th>Code Domaine</th>\n",
       "      <th>Domaine</th>\n",
       "      <th>Code zone (M49)</th>\n",
       "      <th>Zone</th>\n",
       "      <th>Code Élément</th>\n",
       "      <th>Élément</th>\n",
       "      <th>Code Produit</th>\n",
       "      <th>Produit</th>\n",
       "      <th>Code année</th>\n",
       "      <th>Année</th>\n",
       "      <th>Unité</th>\n",
       "      <th>Valeur</th>\n",
       "      <th>Symbole</th>\n",
       "      <th>Description du Symbole</th>\n",
       "      <th>Note</th>\n",
       "    </tr>\n",
       "  </thead>\n",
       "  <tbody>\n",
       "    <tr>\n",
       "      <th>0</th>\n",
       "      <td>MK</td>\n",
       "      <td>Indicateurs macro</td>\n",
       "      <td>4</td>\n",
       "      <td>Afghanistan</td>\n",
       "      <td>6119</td>\n",
       "      <td>Valeur US $ par habitant</td>\n",
       "      <td>22008</td>\n",
       "      <td>Produit Intérieur Brut</td>\n",
       "      <td>2017</td>\n",
       "      <td>2017</td>\n",
       "      <td>USD</td>\n",
       "      <td>534.020133</td>\n",
       "      <td>X</td>\n",
       "      <td>Ciffre de sources internationales</td>\n",
       "      <td>NaN</td>\n",
       "    </tr>\n",
       "    <tr>\n",
       "      <th>1</th>\n",
       "      <td>MK</td>\n",
       "      <td>Indicateurs macro</td>\n",
       "      <td>710</td>\n",
       "      <td>Afrique du Sud</td>\n",
       "      <td>6119</td>\n",
       "      <td>Valeur US $ par habitant</td>\n",
       "      <td>22008</td>\n",
       "      <td>Produit Intérieur Brut</td>\n",
       "      <td>2017</td>\n",
       "      <td>2017</td>\n",
       "      <td>USD</td>\n",
       "      <td>6723.928582</td>\n",
       "      <td>X</td>\n",
       "      <td>Ciffre de sources internationales</td>\n",
       "      <td>NaN</td>\n",
       "    </tr>\n",
       "    <tr>\n",
       "      <th>2</th>\n",
       "      <td>MK</td>\n",
       "      <td>Indicateurs macro</td>\n",
       "      <td>8</td>\n",
       "      <td>Albanie</td>\n",
       "      <td>6119</td>\n",
       "      <td>Valeur US $ par habitant</td>\n",
       "      <td>22008</td>\n",
       "      <td>Produit Intérieur Brut</td>\n",
       "      <td>2017</td>\n",
       "      <td>2017</td>\n",
       "      <td>USD</td>\n",
       "      <td>4521.752217</td>\n",
       "      <td>X</td>\n",
       "      <td>Ciffre de sources internationales</td>\n",
       "      <td>NaN</td>\n",
       "    </tr>\n",
       "    <tr>\n",
       "      <th>3</th>\n",
       "      <td>MK</td>\n",
       "      <td>Indicateurs macro</td>\n",
       "      <td>12</td>\n",
       "      <td>Algérie</td>\n",
       "      <td>6119</td>\n",
       "      <td>Valeur US $ par habitant</td>\n",
       "      <td>22008</td>\n",
       "      <td>Produit Intérieur Brut</td>\n",
       "      <td>2017</td>\n",
       "      <td>2017</td>\n",
       "      <td>USD</td>\n",
       "      <td>4134.936055</td>\n",
       "      <td>X</td>\n",
       "      <td>Ciffre de sources internationales</td>\n",
       "      <td>NaN</td>\n",
       "    </tr>\n",
       "    <tr>\n",
       "      <th>4</th>\n",
       "      <td>MK</td>\n",
       "      <td>Indicateurs macro</td>\n",
       "      <td>276</td>\n",
       "      <td>Allemagne</td>\n",
       "      <td>6119</td>\n",
       "      <td>Valeur US $ par habitant</td>\n",
       "      <td>22008</td>\n",
       "      <td>Produit Intérieur Brut</td>\n",
       "      <td>2017</td>\n",
       "      <td>2017</td>\n",
       "      <td>USD</td>\n",
       "      <td>44670.222282</td>\n",
       "      <td>X</td>\n",
       "      <td>Ciffre de sources internationales</td>\n",
       "      <td>NaN</td>\n",
       "    </tr>\n",
       "  </tbody>\n",
       "</table>\n",
       "</div>"
      ],
      "text/plain": [
       "  Code Domaine            Domaine  Code zone (M49)            Zone  \\\n",
       "0           MK  Indicateurs macro                4     Afghanistan   \n",
       "1           MK  Indicateurs macro              710  Afrique du Sud   \n",
       "2           MK  Indicateurs macro                8         Albanie   \n",
       "3           MK  Indicateurs macro               12         Algérie   \n",
       "4           MK  Indicateurs macro              276       Allemagne   \n",
       "\n",
       "   Code Élément                   Élément  Code Produit  \\\n",
       "0          6119  Valeur US $ par habitant         22008   \n",
       "1          6119  Valeur US $ par habitant         22008   \n",
       "2          6119  Valeur US $ par habitant         22008   \n",
       "3          6119  Valeur US $ par habitant         22008   \n",
       "4          6119  Valeur US $ par habitant         22008   \n",
       "\n",
       "                  Produit  Code année  Année Unité        Valeur Symbole  \\\n",
       "0  Produit Intérieur Brut        2017   2017   USD    534.020133       X   \n",
       "1  Produit Intérieur Brut        2017   2017   USD   6723.928582       X   \n",
       "2  Produit Intérieur Brut        2017   2017   USD   4521.752217       X   \n",
       "3  Produit Intérieur Brut        2017   2017   USD   4134.936055       X   \n",
       "4  Produit Intérieur Brut        2017   2017   USD  44670.222282       X   \n",
       "\n",
       "              Description du Symbole  Note  \n",
       "0  Ciffre de sources internationales   NaN  \n",
       "1  Ciffre de sources internationales   NaN  \n",
       "2  Ciffre de sources internationales   NaN  \n",
       "3  Ciffre de sources internationales   NaN  \n",
       "4  Ciffre de sources internationales   NaN  "
      ]
     },
     "execution_count": 116,
     "metadata": {},
     "output_type": "execute_result"
    }
   ],
   "source": [
    "#Affichage des 5 premières lignes de la table\n",
    "df_pib.head()"
   ]
  },
  {
   "cell_type": "code",
   "execution_count": 118,
   "id": "57b56881-3a92-431a-b4dc-09ce9836fc0f",
   "metadata": {},
   "outputs": [
    {
     "name": "stdout",
     "output_type": "stream",
     "text": [
      "Il y a 0 valeur(s) nulle(s) dans la colonne 'Valeur'.\n"
     ]
    }
   ],
   "source": [
    "#Affichage du nombre de valeurs nulles dans la colonne 'Valeur'\n",
    "print(f\"Il y a {df_pib['Valeur'].isnull().sum()} valeur(s) nulle(s) dans la colonne 'Valeur'.\")"
   ]
  },
  {
   "cell_type": "code",
   "execution_count": 120,
   "id": "b709be6c-4d96-4f3f-a317-27ee262e3252",
   "metadata": {},
   "outputs": [],
   "source": [
    "#Arrondir la colonne 'Valeur' à 2 chiffres après la virgule\n",
    "df_pib['Valeur'] = df_pib['Valeur'].round(2)"
   ]
  },
  {
   "cell_type": "code",
   "execution_count": 122,
   "id": "414d52d8-f116-4a48-ad73-b20375e4b4ac",
   "metadata": {},
   "outputs": [],
   "source": [
    "#Modification du nom de la colonne 'Valeur'\n",
    "df_pib.rename(columns={'Valeur': 'PIB par habitants en $'}, inplace=True)"
   ]
  },
  {
   "cell_type": "code",
   "execution_count": 124,
   "id": "33782257-3dbe-4707-abae-43b1f01e3912",
   "metadata": {},
   "outputs": [],
   "source": [
    "#Suppression des colonnes dont nous n'avons plus besoin\n",
    "df_pib = df_pib.drop(['Code Domaine', 'Domaine', 'Code zone (M49)', 'Code Élément', 'Élément', 'Code Produit', 'Produit', 'Code année', \n",
    "                                    'Année', 'Unité', 'Symbole', 'Description du Symbole', 'Note'], axis=1, errors='ignore')"
   ]
  },
  {
   "cell_type": "code",
   "execution_count": 126,
   "id": "ac6c6488-e5eb-451b-a366-a9fbb0688ab3",
   "metadata": {},
   "outputs": [
    {
     "name": "stdout",
     "output_type": "stream",
     "text": [
      "La valeur mminimum de la colonne 'PIB par habitants en $' est de : 295.62.\n",
      "La valeur maximum de la colonne 'PIB par habitants en $' est de : 173611.78\n"
     ]
    }
   ],
   "source": [
    "#Afficher la valeur minimum de la colonne 'PIB par habitants en $'\n",
    "print(\"La valeur mminimum de la colonne 'PIB par habitants en $' est de : {}.\".format(df_pib['PIB par habitants en $'].min()))\n",
    "#Afficher la valeur maximum de la colonne 'PIB par habitants en $'\n",
    "print(\"La valeur maximum de la colonne 'PIB par habitants en $' est de : {}\".format(df_pib['PIB par habitants en $'].max()))"
   ]
  },
  {
   "cell_type": "code",
   "execution_count": 128,
   "id": "f36c111a-5283-4f4d-a32b-327302db9a24",
   "metadata": {},
   "outputs": [],
   "source": [
    "#Remplacer la valeur dans la colonne 'Zone' pour la lignes correspondant à 'Pays-Bas (Royaume des)'\n",
    "df_pib.loc[df_pib['Zone'] == 'Pays-Bas (Royaume des)', 'Zone'] = 'Pays-Bas'"
   ]
  },
  {
   "cell_type": "code",
   "execution_count": 130,
   "id": "d75cc5f0-4a41-44a5-b24b-e0bd0a2b195b",
   "metadata": {},
   "outputs": [],
   "source": [
    "#Jointure du df_pib au df_total\n",
    "df_total = pd.merge(df_total, df_pib, left_on='Zone', right_on='Zone', how='left')"
   ]
  },
  {
   "cell_type": "code",
   "execution_count": 132,
   "id": "dca10c4d-183a-4d9e-a255-2f91cfbefd62",
   "metadata": {},
   "outputs": [
    {
     "data": {
      "text/plain": [
       "array(['Chine, Taiwan Province de'], dtype=object)"
      ]
     },
     "execution_count": 132,
     "metadata": {},
     "output_type": "execute_result"
    }
   ],
   "source": [
    "#Identifier les lignes où la colonne 'Viande de volailles produites en t' contient des valeurs NaN\n",
    "nan_tot3 = df_total[df_total['PIB par habitants en $'].isnull()]\n",
    "\n",
    "#Afficher les lignes avec des NaN\n",
    "nan_tot3['Zone'].unique()"
   ]
  },
  {
   "cell_type": "code",
   "execution_count": 134,
   "id": "3092c49f-8164-48bc-a226-827c54591cf7",
   "metadata": {},
   "outputs": [],
   "source": [
    "#Ajout du 'PIB par habitants en $' pour Taiwan suite recherche sur Statista\n",
    "df_total.loc[df_total['Zone'] == 'Chine, Taiwan Province de', 'PIB par habitants en $'] = 25061.62"
   ]
  },
  {
   "cell_type": "markdown",
   "id": "dd92dd39-ac27-4923-b02e-04fb43f8accb",
   "metadata": {},
   "source": [
    "<div style=\"border: 1px solid RGB(51,165,182);\" >\n",
    "<h3 style=\"margin: auto; padding: 20px; color: RGB(51,165,182); \">2.6 - Analyse exploratoire du df_kfc</h3>\n",
    "</div>"
   ]
  },
  {
   "cell_type": "code",
   "execution_count": 137,
   "id": "5c4df671-ff86-4e4e-b22b-8b4bd05b98a8",
   "metadata": {},
   "outputs": [
    {
     "name": "stdout",
     "output_type": "stream",
     "text": [
      "Le tableau comporte 107 observation(s) ou article(s)\n",
      "Le tableau comporte 2 colonne(s)\n"
     ]
    }
   ],
   "source": [
    "#Afficher les dimensions du dataset\n",
    "print(\"Le tableau comporte {} observation(s) ou article(s)\".format(df_kfc.shape[0]))\n",
    "print(\"Le tableau comporte {} colonne(s)\".format(df_kfc.shape[1]))"
   ]
  },
  {
   "cell_type": "code",
   "execution_count": 139,
   "id": "f0a4563a-4bcd-4155-a91c-e0485d07318d",
   "metadata": {},
   "outputs": [
    {
     "name": "stdout",
     "output_type": "stream",
     "text": [
      "<class 'pandas.core.frame.DataFrame'>\n",
      "RangeIndex: 107 entries, 0 to 106\n",
      "Data columns (total 2 columns):\n",
      " #   Column                 Non-Null Count  Dtype \n",
      "---  ------                 --------------  ----- \n",
      " 0   Pays                   107 non-null    object\n",
      " 1   Nombre de restaurants  107 non-null    int64 \n",
      "dtypes: int64(1), object(1)\n",
      "memory usage: 1.8+ KB\n"
     ]
    }
   ],
   "source": [
    "#La nature des données dans chacune des colonnes\n",
    "df_kfc.info()"
   ]
  },
  {
   "cell_type": "code",
   "execution_count": 141,
   "id": "724e3ff4-bbb7-4012-8fb5-a712f9ba49fe",
   "metadata": {},
   "outputs": [
    {
     "data": {
      "text/html": [
       "<div>\n",
       "<style scoped>\n",
       "    .dataframe tbody tr th:only-of-type {\n",
       "        vertical-align: middle;\n",
       "    }\n",
       "\n",
       "    .dataframe tbody tr th {\n",
       "        vertical-align: top;\n",
       "    }\n",
       "\n",
       "    .dataframe thead th {\n",
       "        text-align: right;\n",
       "    }\n",
       "</style>\n",
       "<table border=\"1\" class=\"dataframe\">\n",
       "  <thead>\n",
       "    <tr style=\"text-align: right;\">\n",
       "      <th></th>\n",
       "      <th>Pays</th>\n",
       "      <th>Nombre de restaurants</th>\n",
       "    </tr>\n",
       "  </thead>\n",
       "  <tbody>\n",
       "    <tr>\n",
       "      <th>0</th>\n",
       "      <td>Chine</td>\n",
       "      <td>7980</td>\n",
       "    </tr>\n",
       "    <tr>\n",
       "      <th>1</th>\n",
       "      <td>États-Unis</td>\n",
       "      <td>4062</td>\n",
       "    </tr>\n",
       "    <tr>\n",
       "      <th>2</th>\n",
       "      <td>Japon</td>\n",
       "      <td>1131</td>\n",
       "    </tr>\n",
       "    <tr>\n",
       "      <th>3</th>\n",
       "      <td>Afrique du Sud</td>\n",
       "      <td>955</td>\n",
       "    </tr>\n",
       "    <tr>\n",
       "      <th>4</th>\n",
       "      <td>Royaume-Uni</td>\n",
       "      <td>909</td>\n",
       "    </tr>\n",
       "  </tbody>\n",
       "</table>\n",
       "</div>"
      ],
      "text/plain": [
       "             Pays  Nombre de restaurants\n",
       "0           Chine                   7980\n",
       "1      États-Unis                   4062\n",
       "2           Japon                   1131\n",
       "3  Afrique du Sud                    955\n",
       "4     Royaume-Uni                    909"
      ]
     },
     "execution_count": 141,
     "metadata": {},
     "output_type": "execute_result"
    }
   ],
   "source": [
    "#Affichage des 5 premières lignes de la table\n",
    "df_kfc.head()"
   ]
  },
  {
   "cell_type": "code",
   "execution_count": 143,
   "id": "69034f43-a316-4b15-8b62-0c5b09e9acf0",
   "metadata": {},
   "outputs": [
    {
     "name": "stdout",
     "output_type": "stream",
     "text": [
      "Il y a 0 valeur(s) nulle(s) dans la colonne 'Nombre de restaurants'.\n"
     ]
    }
   ],
   "source": [
    "#Affichage du nombre de valeurs nulles dans la colonne 'Nombre de restaurants'\n",
    "print(f\"Il y a {df_kfc['Nombre de restaurants'].isnull().sum()} valeur(s) nulle(s) dans la colonne 'Nombre de restaurants'.\")"
   ]
  },
  {
   "cell_type": "code",
   "execution_count": 145,
   "id": "c6d5988f-ee18-40b8-b325-b857b499aa2e",
   "metadata": {},
   "outputs": [],
   "source": [
    "#Modification du nom de la colonne 'Nombre des restaurants'\n",
    "df_kfc.rename(columns={'Nombre de restaurants': 'Restaurants KFC'}, inplace=True)"
   ]
  },
  {
   "cell_type": "code",
   "execution_count": 147,
   "id": "c94898cd-1ba9-4f9f-832d-7b35bbfb0476",
   "metadata": {},
   "outputs": [],
   "source": [
    "#Modification du nom de la colonne 'Pays'\n",
    "df_kfc.rename(columns={'Pays': 'Zone'}, inplace=True)"
   ]
  },
  {
   "cell_type": "code",
   "execution_count": 149,
   "id": "75043003-3c85-478b-ac51-42f08193b712",
   "metadata": {},
   "outputs": [
    {
     "name": "stdout",
     "output_type": "stream",
     "text": [
      "La valeur mminimum de la colonne 'Restaurants KFC' est de : 1.\n",
      "La valeur maximum de la colonne 'Restaurants KFC' est de : 7980\n"
     ]
    }
   ],
   "source": [
    "#Afficher la valeur minimum de la colonne 'Restaurants KFC'\n",
    "print(\"La valeur mminimum de la colonne 'Restaurants KFC' est de : {}.\".format(df_kfc['Restaurants KFC'].min()))\n",
    "#Afficher la valeur maximum de la colonne 'Restaurants KFC'\n",
    "print(\"La valeur maximum de la colonne 'Restaurants KFC' est de : {}\".format(df_kfc['Restaurants KFC'].max()))"
   ]
  },
  {
   "cell_type": "code",
   "execution_count": 151,
   "id": "2b4a9c34-2075-4aeb-a1cb-83874429f055",
   "metadata": {},
   "outputs": [],
   "source": [
    "#Remplacer la valeur dans la colonne 'Zone' le nom des pays pour qu'ils soient au même format que le df_total\n",
    "df_kfc.loc[df_kfc['Zone'] == 'États-Unis', 'Zone'] = 'États-Unis d\\'Amérique'\n",
    "df_kfc.loc[df_kfc['Zone'] == 'Chine', 'Zone'] = 'Chine, continentale'\n",
    "df_kfc.loc[df_kfc['Zone'] == 'Corée du Sud', 'Zone'] = 'République de Corée'\n",
    "df_kfc.loc[df_kfc['Zone'] == 'Taïwan', 'Zone'] = 'Chine, Taiwan Province de'\n",
    "df_kfc.loc[df_kfc['Zone'] == 'Royaume-Uni', 'Zone'] = 'Royaume-Uni de Grande-Bretagne et d\\'Irlande du Nord'\n",
    "df_kfc.loc[df_kfc['Zone'] == 'Macédoine', 'Zone'] = 'Macédoine du Nord'\n",
    "df_kfc.loc[df_kfc['Zone'] == 'Tanzanie', 'Zone'] = 'République-Unie de Tanzanie'"
   ]
  },
  {
   "cell_type": "code",
   "execution_count": 153,
   "id": "1e15d817-1de6-48c3-bfb3-003158ee0a89",
   "metadata": {},
   "outputs": [],
   "source": [
    "#Jointure du df_kfc au df_total\n",
    "df_total = pd.merge(df_total, df_kfc, left_on='Zone', right_on='Zone', how='left')"
   ]
  },
  {
   "cell_type": "code",
   "execution_count": 155,
   "id": "072bc0b1-092f-4d1d-a6ce-1d74a5277ade",
   "metadata": {},
   "outputs": [],
   "source": [
    "#Remplacer les NaN dans la colonne 'Viandes de volailles exportées en t' par 0\n",
    "df_total['Restaurants KFC'] = df_total['Restaurants KFC'].fillna(0)"
   ]
  },
  {
   "cell_type": "markdown",
   "id": "6b657302-c31f-4aff-9c23-7d053816b2af",
   "metadata": {},
   "source": [
    "<div style=\"border: 1px solid RGB(51,165,182);\" >\n",
    "<h3 style=\"margin: auto; padding: 20px; color: RGB(51,165,182); \">2.7 - Analyse exploratoire du df_stabilitepol</h3>\n",
    "</div>"
   ]
  },
  {
   "cell_type": "code",
   "execution_count": 158,
   "id": "9b070c70-7de2-4ec0-822d-82da2a6ba5e3",
   "metadata": {},
   "outputs": [
    {
     "name": "stdout",
     "output_type": "stream",
     "text": [
      "Le tableau comporte 271 observation(s) ou article(s)\n",
      "Le tableau comporte 5 colonne(s)\n"
     ]
    }
   ],
   "source": [
    "#Afficher les dimensions du dataset\n",
    "print(\"Le tableau comporte {} observation(s) ou article(s)\".format(df_stabilitepol.shape[0]))\n",
    "print(\"Le tableau comporte {} colonne(s)\".format(df_stabilitepol.shape[1]))"
   ]
  },
  {
   "cell_type": "code",
   "execution_count": 160,
   "id": "09c9c1a8-678c-4d27-834e-5425e1cc8d29",
   "metadata": {},
   "outputs": [
    {
     "name": "stdout",
     "output_type": "stream",
     "text": [
      "<class 'pandas.core.frame.DataFrame'>\n",
      "RangeIndex: 271 entries, 0 to 270\n",
      "Data columns (total 5 columns):\n",
      " #   Column         Non-Null Count  Dtype \n",
      "---  ------         --------------  ----- \n",
      " 0   Country Name   268 non-null    object\n",
      " 1   Country Code   266 non-null    object\n",
      " 2   Series Name    266 non-null    object\n",
      " 3   Series Code    266 non-null    object\n",
      " 4   2017 [YR2017]  266 non-null    object\n",
      "dtypes: object(5)\n",
      "memory usage: 10.7+ KB\n"
     ]
    }
   ],
   "source": [
    "#La nature des données dans chacune des colonnes\n",
    "df_stabilitepol.info()"
   ]
  },
  {
   "cell_type": "code",
   "execution_count": 162,
   "id": "e029e4fe-fd3d-41c9-a9f8-aae87a9e99f5",
   "metadata": {},
   "outputs": [
    {
     "data": {
      "text/html": [
       "<div>\n",
       "<style scoped>\n",
       "    .dataframe tbody tr th:only-of-type {\n",
       "        vertical-align: middle;\n",
       "    }\n",
       "\n",
       "    .dataframe tbody tr th {\n",
       "        vertical-align: top;\n",
       "    }\n",
       "\n",
       "    .dataframe thead th {\n",
       "        text-align: right;\n",
       "    }\n",
       "</style>\n",
       "<table border=\"1\" class=\"dataframe\">\n",
       "  <thead>\n",
       "    <tr style=\"text-align: right;\">\n",
       "      <th></th>\n",
       "      <th>Country Name</th>\n",
       "      <th>Country Code</th>\n",
       "      <th>Series Name</th>\n",
       "      <th>Series Code</th>\n",
       "      <th>2017 [YR2017]</th>\n",
       "    </tr>\n",
       "  </thead>\n",
       "  <tbody>\n",
       "    <tr>\n",
       "      <th>0</th>\n",
       "      <td>Afghanistan</td>\n",
       "      <td>AFG</td>\n",
       "      <td>Political Stability and Absence of Violence/Te...</td>\n",
       "      <td>PV.EST</td>\n",
       "      <td>-2.7949755191803</td>\n",
       "    </tr>\n",
       "    <tr>\n",
       "      <th>1</th>\n",
       "      <td>Albania</td>\n",
       "      <td>ALB</td>\n",
       "      <td>Political Stability and Absence of Violence/Te...</td>\n",
       "      <td>PV.EST</td>\n",
       "      <td>0.373770743608475</td>\n",
       "    </tr>\n",
       "    <tr>\n",
       "      <th>2</th>\n",
       "      <td>Algeria</td>\n",
       "      <td>DZA</td>\n",
       "      <td>Political Stability and Absence of Violence/Te...</td>\n",
       "      <td>PV.EST</td>\n",
       "      <td>-0.919614315032959</td>\n",
       "    </tr>\n",
       "    <tr>\n",
       "      <th>3</th>\n",
       "      <td>American Samoa</td>\n",
       "      <td>ASM</td>\n",
       "      <td>Political Stability and Absence of Violence/Te...</td>\n",
       "      <td>PV.EST</td>\n",
       "      <td>1.18432366847992</td>\n",
       "    </tr>\n",
       "    <tr>\n",
       "      <th>4</th>\n",
       "      <td>Andorra</td>\n",
       "      <td>AND</td>\n",
       "      <td>Political Stability and Absence of Violence/Te...</td>\n",
       "      <td>PV.EST</td>\n",
       "      <td>1.39288973808289</td>\n",
       "    </tr>\n",
       "    <tr>\n",
       "      <th>...</th>\n",
       "      <td>...</td>\n",
       "      <td>...</td>\n",
       "      <td>...</td>\n",
       "      <td>...</td>\n",
       "      <td>...</td>\n",
       "    </tr>\n",
       "    <tr>\n",
       "      <th>266</th>\n",
       "      <td>NaN</td>\n",
       "      <td>NaN</td>\n",
       "      <td>NaN</td>\n",
       "      <td>NaN</td>\n",
       "      <td>NaN</td>\n",
       "    </tr>\n",
       "    <tr>\n",
       "      <th>267</th>\n",
       "      <td>NaN</td>\n",
       "      <td>NaN</td>\n",
       "      <td>NaN</td>\n",
       "      <td>NaN</td>\n",
       "      <td>NaN</td>\n",
       "    </tr>\n",
       "    <tr>\n",
       "      <th>268</th>\n",
       "      <td>NaN</td>\n",
       "      <td>NaN</td>\n",
       "      <td>NaN</td>\n",
       "      <td>NaN</td>\n",
       "      <td>NaN</td>\n",
       "    </tr>\n",
       "    <tr>\n",
       "      <th>269</th>\n",
       "      <td>Data from database: World Development Indicators</td>\n",
       "      <td>NaN</td>\n",
       "      <td>NaN</td>\n",
       "      <td>NaN</td>\n",
       "      <td>NaN</td>\n",
       "    </tr>\n",
       "    <tr>\n",
       "      <th>270</th>\n",
       "      <td>Last Updated: 11/13/2024</td>\n",
       "      <td>NaN</td>\n",
       "      <td>NaN</td>\n",
       "      <td>NaN</td>\n",
       "      <td>NaN</td>\n",
       "    </tr>\n",
       "  </tbody>\n",
       "</table>\n",
       "<p>271 rows × 5 columns</p>\n",
       "</div>"
      ],
      "text/plain": [
       "                                         Country Name Country Code  \\\n",
       "0                                         Afghanistan          AFG   \n",
       "1                                             Albania          ALB   \n",
       "2                                             Algeria          DZA   \n",
       "3                                      American Samoa          ASM   \n",
       "4                                             Andorra          AND   \n",
       "..                                                ...          ...   \n",
       "266                                               NaN          NaN   \n",
       "267                                               NaN          NaN   \n",
       "268                                               NaN          NaN   \n",
       "269  Data from database: World Development Indicators          NaN   \n",
       "270                          Last Updated: 11/13/2024          NaN   \n",
       "\n",
       "                                           Series Name Series Code  \\\n",
       "0    Political Stability and Absence of Violence/Te...      PV.EST   \n",
       "1    Political Stability and Absence of Violence/Te...      PV.EST   \n",
       "2    Political Stability and Absence of Violence/Te...      PV.EST   \n",
       "3    Political Stability and Absence of Violence/Te...      PV.EST   \n",
       "4    Political Stability and Absence of Violence/Te...      PV.EST   \n",
       "..                                                 ...         ...   \n",
       "266                                                NaN         NaN   \n",
       "267                                                NaN         NaN   \n",
       "268                                                NaN         NaN   \n",
       "269                                                NaN         NaN   \n",
       "270                                                NaN         NaN   \n",
       "\n",
       "          2017 [YR2017]  \n",
       "0      -2.7949755191803  \n",
       "1     0.373770743608475  \n",
       "2    -0.919614315032959  \n",
       "3      1.18432366847992  \n",
       "4      1.39288973808289  \n",
       "..                  ...  \n",
       "266                 NaN  \n",
       "267                 NaN  \n",
       "268                 NaN  \n",
       "269                 NaN  \n",
       "270                 NaN  \n",
       "\n",
       "[271 rows x 5 columns]"
      ]
     },
     "execution_count": 162,
     "metadata": {},
     "output_type": "execute_result"
    }
   ],
   "source": [
    "#Affichage des 5 premières lignes de la table\n",
    "df_stabilitepol"
   ]
  },
  {
   "cell_type": "code",
   "execution_count": 164,
   "id": "4e125576-c209-479f-8c79-d3eb0d402b9d",
   "metadata": {},
   "outputs": [
    {
     "data": {
      "text/html": [
       "<div>\n",
       "<style scoped>\n",
       "    .dataframe tbody tr th:only-of-type {\n",
       "        vertical-align: middle;\n",
       "    }\n",
       "\n",
       "    .dataframe tbody tr th {\n",
       "        vertical-align: top;\n",
       "    }\n",
       "\n",
       "    .dataframe thead th {\n",
       "        text-align: right;\n",
       "    }\n",
       "</style>\n",
       "<table border=\"1\" class=\"dataframe\">\n",
       "  <thead>\n",
       "    <tr style=\"text-align: right;\">\n",
       "      <th></th>\n",
       "      <th>Country Name</th>\n",
       "      <th>Country Code</th>\n",
       "      <th>Series Name</th>\n",
       "      <th>Series Code</th>\n",
       "      <th>2017 [YR2017]</th>\n",
       "    </tr>\n",
       "  </thead>\n",
       "  <tbody>\n",
       "    <tr>\n",
       "      <th>0</th>\n",
       "      <td>Afghanistan</td>\n",
       "      <td>AFG</td>\n",
       "      <td>Political Stability and Absence of Violence/Te...</td>\n",
       "      <td>PV.EST</td>\n",
       "      <td>-2.7949755191803</td>\n",
       "    </tr>\n",
       "    <tr>\n",
       "      <th>1</th>\n",
       "      <td>Albania</td>\n",
       "      <td>ALB</td>\n",
       "      <td>Political Stability and Absence of Violence/Te...</td>\n",
       "      <td>PV.EST</td>\n",
       "      <td>0.373770743608475</td>\n",
       "    </tr>\n",
       "    <tr>\n",
       "      <th>2</th>\n",
       "      <td>Algeria</td>\n",
       "      <td>DZA</td>\n",
       "      <td>Political Stability and Absence of Violence/Te...</td>\n",
       "      <td>PV.EST</td>\n",
       "      <td>-0.919614315032959</td>\n",
       "    </tr>\n",
       "    <tr>\n",
       "      <th>3</th>\n",
       "      <td>American Samoa</td>\n",
       "      <td>ASM</td>\n",
       "      <td>Political Stability and Absence of Violence/Te...</td>\n",
       "      <td>PV.EST</td>\n",
       "      <td>1.18432366847992</td>\n",
       "    </tr>\n",
       "    <tr>\n",
       "      <th>4</th>\n",
       "      <td>Andorra</td>\n",
       "      <td>AND</td>\n",
       "      <td>Political Stability and Absence of Violence/Te...</td>\n",
       "      <td>PV.EST</td>\n",
       "      <td>1.39288973808289</td>\n",
       "    </tr>\n",
       "  </tbody>\n",
       "</table>\n",
       "</div>"
      ],
      "text/plain": [
       "     Country Name Country Code  \\\n",
       "0     Afghanistan          AFG   \n",
       "1         Albania          ALB   \n",
       "2         Algeria          DZA   \n",
       "3  American Samoa          ASM   \n",
       "4         Andorra          AND   \n",
       "\n",
       "                                         Series Name Series Code  \\\n",
       "0  Political Stability and Absence of Violence/Te...      PV.EST   \n",
       "1  Political Stability and Absence of Violence/Te...      PV.EST   \n",
       "2  Political Stability and Absence of Violence/Te...      PV.EST   \n",
       "3  Political Stability and Absence of Violence/Te...      PV.EST   \n",
       "4  Political Stability and Absence of Violence/Te...      PV.EST   \n",
       "\n",
       "        2017 [YR2017]  \n",
       "0    -2.7949755191803  \n",
       "1   0.373770743608475  \n",
       "2  -0.919614315032959  \n",
       "3    1.18432366847992  \n",
       "4    1.39288973808289  "
      ]
     },
     "execution_count": 164,
     "metadata": {},
     "output_type": "execute_result"
    }
   ],
   "source": [
    "#Affichage des 5 premières lignes de la table\n",
    "df_stabilitepol.head()"
   ]
  },
  {
   "cell_type": "code",
   "execution_count": 166,
   "id": "bc835331-cf71-4dfc-9cc4-2c40adbb221b",
   "metadata": {},
   "outputs": [],
   "source": [
    "#Modification du nom de la colonne '2017[YR2017]'\n",
    "df_stabilitepol.rename(columns={'2017 [YR2017]': 'Stabilite politique', 'Country Name': 'Zone'}, inplace=True)"
   ]
  },
  {
   "cell_type": "code",
   "execution_count": 168,
   "id": "51a35c8e-7686-446c-8ad7-bbac183432d8",
   "metadata": {},
   "outputs": [],
   "source": [
    "df_stabilitepol['Stabilite politique'] = pd.to_numeric(df_stabilitepol['Stabilite politique'], errors='coerce')\n",
    "df_stabilitepol['Stabilite politique'] = df_stabilitepol['Stabilite politique'].round(2)"
   ]
  },
  {
   "cell_type": "code",
   "execution_count": 170,
   "id": "a0fb144f-859d-4daf-b434-f9a9d334720d",
   "metadata": {},
   "outputs": [
    {
     "name": "stdout",
     "output_type": "stream",
     "text": [
      "Il y a 66 valeur(s) NaN dans la colonne 'Stabilite politique'.\n"
     ]
    }
   ],
   "source": [
    "#Compter les valeurs NaN dans la colonne 'Stabilite politique'\n",
    "nan_stabpol = df_stabilitepol['Stabilite politique'].isnull().sum()\n",
    "\n",
    "print(f\"Il y a {nan_stabpol} valeur(s) NaN dans la colonne 'Stabilite politique'.\")"
   ]
  },
  {
   "cell_type": "code",
   "execution_count": 172,
   "id": "ed5def5a-2dba-4b73-b59b-9391cc840921",
   "metadata": {},
   "outputs": [
    {
     "name": "stdout",
     "output_type": "stream",
     "text": [
      "Je ne tiens pas compte des Zones où les valeurs sont manquantes, comme ce sont des petits territoires, ou des zones géographiques différentes des pays.\n"
     ]
    }
   ],
   "source": [
    "#Identifier les lignes où la colonne 'Stabilite politique' contient des valeurs NaN\n",
    "nan_rows = df_stabilitepol[df_stabilitepol['Stabilite politique'].isnull()]\n",
    "\n",
    "#Afficher les lignes avec des NaN\n",
    "nan_rows['Zone'].unique()\n",
    "\n",
    "print(\"Je ne tiens pas compte des Zones où les valeurs sont manquantes, comme ce sont des petits territoires, ou des zones géographiques différentes des pays.\")"
   ]
  },
  {
   "cell_type": "code",
   "execution_count": 174,
   "id": "7e250b9d-d5e3-43bd-bac6-ab6b4bec29f0",
   "metadata": {},
   "outputs": [
    {
     "name": "stdout",
     "output_type": "stream",
     "text": [
      "Il reste 0 valeur(s) nulle(s) dans la colonne 'Stabilite politique'.\n"
     ]
    }
   ],
   "source": [
    "#Supprimer les lignes où la colonne 'Stabilite politique' est NaN\n",
    "df_stabilitepol = df_stabilitepol.dropna(subset=['Stabilite politique'])\n",
    "\n",
    "#Vérification : nombre de valeurs nulles restantes\n",
    "print(f\"Il reste {df_stabilitepol['Stabilite politique'].isnull().sum()} valeur(s) nulle(s) dans la colonne 'Stabilite politique'.\")"
   ]
  },
  {
   "cell_type": "code",
   "execution_count": 176,
   "id": "3cf0bb65-3125-4c9d-a684-fb4de72ba01c",
   "metadata": {},
   "outputs": [],
   "source": [
    "#Suppression des colonnes dont nous n'avons plus besoin\n",
    "df_stabilitepol = df_stabilitepol.drop(['Country Code', 'Series Name', 'Series Code'], axis=1, errors='ignore')"
   ]
  },
  {
   "cell_type": "code",
   "execution_count": 178,
   "id": "3aac54d9-fde5-4cf4-9557-fc2169b683ee",
   "metadata": {},
   "outputs": [
    {
     "name": "stdout",
     "output_type": "stream",
     "text": [
      "La valeur mminimum de la colonne 'Stabilité politique' est de : -2.93.\n",
      "La valeur maximum de la colonne 'Stabilité politique' est de : 1.93\n"
     ]
    }
   ],
   "source": [
    "#Afficher la valeur minimum de la colonne 'Stabilité politique'\n",
    "print(\"La valeur mminimum de la colonne 'Stabilité politique' est de : {}.\".format(df_stabilitepol['Stabilite politique'].min()))\n",
    "#Afficher la valeur maximum de la colonne 'Stabilité politique'\n",
    "print(\"La valeur maximum de la colonne 'Stabilité politique' est de : {}\".format(df_stabilitepol['Stabilite politique'].max()))"
   ]
  },
  {
   "cell_type": "markdown",
   "id": "45b12953-e70b-4c54-a65e-8a58d073e397",
   "metadata": {},
   "source": [
    "<div style=\"border: 1px solid RGB(51,165,182);\" >\n",
    "<h3 style=\"margin: auto; padding: 20px; color: RGB(51,165,182); \">2.9 - Analyse exploratoire du df_dist</h3>\n",
    "</div>"
   ]
  },
  {
   "cell_type": "code",
   "execution_count": 181,
   "id": "c158df1b-8875-4324-a855-d7c83c7ccdc5",
   "metadata": {},
   "outputs": [
    {
     "name": "stdout",
     "output_type": "stream",
     "text": [
      "Le tableau comporte 194 observation(s) ou article(s)\n",
      "Le tableau comporte 4 colonne(s)\n"
     ]
    }
   ],
   "source": [
    "#Afficher les dimensions du dataset\n",
    "print(\"Le tableau comporte {} observation(s) ou article(s)\".format(df_dist.shape[0]))\n",
    "print(\"Le tableau comporte {} colonne(s)\".format(df_dist.shape[1]))"
   ]
  },
  {
   "cell_type": "code",
   "execution_count": 183,
   "id": "801c0336-c575-4209-b2eb-7f8278e303b4",
   "metadata": {},
   "outputs": [
    {
     "name": "stdout",
     "output_type": "stream",
     "text": [
      "<class 'pandas.core.frame.DataFrame'>\n",
      "RangeIndex: 194 entries, 0 to 193\n",
      "Data columns (total 4 columns):\n",
      " #   Column                 Non-Null Count  Dtype  \n",
      "---  ------                 --------------  -----  \n",
      " 0   country                194 non-null    object \n",
      " 1   latitude               194 non-null    float64\n",
      " 2   longitude              194 non-null    float64\n",
      " 3   distance_to_France_km  194 non-null    float64\n",
      "dtypes: float64(3), object(1)\n",
      "memory usage: 6.2+ KB\n"
     ]
    }
   ],
   "source": [
    "#La nature des données dans chacune des colonnes\n",
    "df_dist.info()"
   ]
  },
  {
   "cell_type": "code",
   "execution_count": 185,
   "id": "6380c53d-3613-423a-9182-68ea2a50653b",
   "metadata": {},
   "outputs": [
    {
     "data": {
      "text/html": [
       "<div>\n",
       "<style scoped>\n",
       "    .dataframe tbody tr th:only-of-type {\n",
       "        vertical-align: middle;\n",
       "    }\n",
       "\n",
       "    .dataframe tbody tr th {\n",
       "        vertical-align: top;\n",
       "    }\n",
       "\n",
       "    .dataframe thead th {\n",
       "        text-align: right;\n",
       "    }\n",
       "</style>\n",
       "<table border=\"1\" class=\"dataframe\">\n",
       "  <thead>\n",
       "    <tr style=\"text-align: right;\">\n",
       "      <th></th>\n",
       "      <th>country</th>\n",
       "      <th>latitude</th>\n",
       "      <th>longitude</th>\n",
       "      <th>distance_to_France_km</th>\n",
       "    </tr>\n",
       "  </thead>\n",
       "  <tbody>\n",
       "    <tr>\n",
       "      <th>0</th>\n",
       "      <td>Afghanistan</td>\n",
       "      <td>33.768006</td>\n",
       "      <td>66.238514</td>\n",
       "      <td>5490.266707</td>\n",
       "    </tr>\n",
       "    <tr>\n",
       "      <th>1</th>\n",
       "      <td>Albania</td>\n",
       "      <td>5.758765</td>\n",
       "      <td>-73.915162</td>\n",
       "      <td>8459.788358</td>\n",
       "    </tr>\n",
       "    <tr>\n",
       "      <th>2</th>\n",
       "      <td>Algeria</td>\n",
       "      <td>28.000027</td>\n",
       "      <td>2.999983</td>\n",
       "      <td>2070.874498</td>\n",
       "    </tr>\n",
       "    <tr>\n",
       "      <th>3</th>\n",
       "      <td>Andorra</td>\n",
       "      <td>42.540717</td>\n",
       "      <td>1.573203</td>\n",
       "      <td>452.432666</td>\n",
       "    </tr>\n",
       "    <tr>\n",
       "      <th>4</th>\n",
       "      <td>Angola</td>\n",
       "      <td>-11.877577</td>\n",
       "      <td>17.569124</td>\n",
       "      <td>6688.164856</td>\n",
       "    </tr>\n",
       "  </tbody>\n",
       "</table>\n",
       "</div>"
      ],
      "text/plain": [
       "       country   latitude  longitude  distance_to_France_km\n",
       "0  Afghanistan  33.768006  66.238514            5490.266707\n",
       "1      Albania   5.758765 -73.915162            8459.788358\n",
       "2      Algeria  28.000027   2.999983            2070.874498\n",
       "3      Andorra  42.540717   1.573203             452.432666\n",
       "4       Angola -11.877577  17.569124            6688.164856"
      ]
     },
     "execution_count": 185,
     "metadata": {},
     "output_type": "execute_result"
    }
   ],
   "source": [
    "#Affichage des 5 premières lignes de la table\n",
    "df_dist.head()"
   ]
  },
  {
   "cell_type": "code",
   "execution_count": 187,
   "id": "7a053ab0-8269-4d58-8f2c-f0324ec97635",
   "metadata": {},
   "outputs": [],
   "source": [
    "#Modification du nom de la colonne 'country' et 'distance_to_France_km'\n",
    "df_dist.rename(columns={'distance_to_France_km': 'Distance', 'country': 'Zone'}, inplace=True)"
   ]
  },
  {
   "cell_type": "code",
   "execution_count": 189,
   "id": "14d10205-511b-4f67-990a-afce2a5951e7",
   "metadata": {},
   "outputs": [],
   "source": [
    "#Arrondir les km en entier\n",
    "df_dist['Distance'] = df_dist['Distance'].astype(int)"
   ]
  },
  {
   "cell_type": "code",
   "execution_count": 191,
   "id": "7d467bfb-cfea-4e13-b84a-28c7097f953d",
   "metadata": {},
   "outputs": [
    {
     "name": "stdout",
     "output_type": "stream",
     "text": [
      "Il y a 0 valeur(s) NaN et 0 valeur(s) '..' dans la colonne 'Distance'.\n"
     ]
    }
   ],
   "source": [
    "#Compter les valeurs NaN et les valeurs '..' dans la colonne 'Distance'\n",
    "nan_dist = df_dist['Distance'].isnull().sum()\n",
    "dot_dist = (df_dist['Distance'] == '..').sum()\n",
    "\n",
    "print(f\"Il y a {nan_dist} valeur(s) NaN et {dot_dist} valeur(s) '..' dans la colonne 'Distance'.\")"
   ]
  },
  {
   "cell_type": "code",
   "execution_count": 193,
   "id": "9161bead-5db6-4453-9f4f-b3a757b92a74",
   "metadata": {},
   "outputs": [],
   "source": [
    "#Suppression des colonnes dont nous n'avons plus besoin\n",
    "df_dist = df_dist.drop(['latitude', 'longitude'], axis=1, errors='ignore')"
   ]
  },
  {
   "cell_type": "code",
   "execution_count": 195,
   "id": "3749b052-b981-4af1-b241-aed2b6db8a0a",
   "metadata": {},
   "outputs": [
    {
     "name": "stdout",
     "output_type": "stream",
     "text": [
      "La valeur mminimum de la colonne 'Distance' est de : 0.\n",
      "La valeur maximum de la colonne 'Distance' est de : 19096\n"
     ]
    }
   ],
   "source": [
    "#Afficher la valeur minimum de la colonne 'Distance'\n",
    "print(\"La valeur mminimum de la colonne 'Distance' est de : {}.\".format(df_dist['Distance'].min()))\n",
    "#Afficher la valeur maximum de la colonne 'Distance'\n",
    "print(\"La valeur maximum de la colonne 'Distance' est de : {}\".format(df_dist['Distance'].max()))"
   ]
  },
  {
   "cell_type": "code",
   "execution_count": 197,
   "id": "f94e1760-517d-40ae-8d10-ddc6e03f7734",
   "metadata": {},
   "outputs": [],
   "source": [
    "#Jointure du df_prod au df_total\n",
    "df_total2 = pd.merge(df_stabilitepol, df_dist, left_on='Zone', right_on='Zone', how='inner')"
   ]
  },
  {
   "cell_type": "markdown",
   "id": "2d0bdc0d-14dd-4067-a0e6-3a29fee21fc2",
   "metadata": {},
   "source": [
    "<div style=\"border: 1px solid RGB(51,165,182);\" >\n",
    "<h3 style=\"margin: auto; padding: 20px; color: RGB(51,165,182); \">2.10 - Harmonisation du noms des pays</h3>\n",
    "</div>"
   ]
  },
  {
   "cell_type": "code",
   "execution_count": 200,
   "id": "3d390898-29cd-4f9b-a42e-28c4235154cc",
   "metadata": {},
   "outputs": [],
   "source": [
    "pays = {\n",
    "    'Afghanistan': 'Afghanistan',\n",
    "    'South Africa': 'Afrique du Sud',\n",
    "    'Albania': 'Albanie',\n",
    "    'Algeria': 'Algérie',\n",
    "    'Germany': 'Allemagne',\n",
    "    'Angola': 'Angola',\n",
    "    'Antigua and Barbuda': 'Antigua-et-Barbuda',\n",
    "    'Saudi Arabia': 'Arabie saoudite',\n",
    "    'Argentina': 'Argentine',\n",
    "    'Armenia': 'Arménie',\n",
    "    'Australia': 'Australie',\n",
    "    'Austria': 'Autriche',\n",
    "    'Azerbaijan': 'Azerbaïdjan',\n",
    "    'Bahamas': 'Bahamas',\n",
    "    'Bangladesh': 'Bangladesh',\n",
    "    'Barbados': 'Barbade',\n",
    "    'Belgium': 'Belgique',\n",
    "    'Belize': 'Belize',\n",
    "    'Bolivia': 'Bolivie (État plurinational de)',\n",
    "    'Bosnia and Herzegovina': 'Bosnie-Herzégovine',\n",
    "    'Botswana': 'Botswana',\n",
    "    'Brazil': 'Brésil',\n",
    "    'Bulgaria': 'Bulgarie',\n",
    "    'Burkina Faso': 'Burkina Faso',\n",
    "    'Belarus': 'Bélarus',\n",
    "    'Benin': 'Bénin',\n",
    "    'Cabo Verde': 'Cabo Verde',\n",
    "    'Cambodia': 'Cambodge',\n",
    "    'Cameroon': 'Cameroun',\n",
    "    'Canada': 'Canada',\n",
    "    'Chile': 'Chili',\n",
    "    'China': 'Chine - RAS de Hong-Kong',\n",
    "    'China': 'Chine - RAS de Macao',\n",
    "    'Taiwan': 'Chine, Taiwan Province de',\n",
    "    'China': 'Chine, continentale',\n",
    "    'Cyprus': 'Chypre',\n",
    "    'Colombia': 'Colombie',\n",
    "    'Congo': 'Congo',\n",
    "    'Costa Rica': 'Costa Rica',\n",
    "    'Croatia': 'Croatie',\n",
    "    'Cuba': 'Cuba',\n",
    "    \"Ivory Coast\": \"Côte d'Ivoire\",\n",
    "    'Denmark': 'Danemark',\n",
    "    'Djibouti': 'Djibouti',\n",
    "    'Dominica': 'Dominique',\n",
    "    'El Salvador': 'El Salvador',\n",
    "    'Spain': 'Espagne',\n",
    "    'Estonia': 'Estonie',\n",
    "    'Eswatini': 'Eswatini',\n",
    "    'Fiji': 'Fidji',\n",
    "    'Finland': 'Finlande',\n",
    "    'France': 'France',\n",
    "    'Russia': 'Fédération de Russie',\n",
    "    'Gabon': 'Gabon',\n",
    "    'Gambia': 'Gambie',\n",
    "    'Ghana': 'Ghana',\n",
    "    'Grenada': 'Grenade',\n",
    "    'Greece': 'Grèce',\n",
    "    'Guatemala': 'Guatemala',\n",
    "    'Guinea': 'Guinée',\n",
    "    'Guinea-Bissau': 'Guinée-Bissau',\n",
    "    'Guyana': 'Guyana',\n",
    "    'Georgia': 'Géorgie',\n",
    "    'Haiti': 'Haïti',\n",
    "    'Honduras': 'Honduras',\n",
    "    'Hungary': 'Hongrie',\n",
    "    'India': 'Inde',\n",
    "    'Indonesia': 'Indonésie',\n",
    "    'Iran': \"Iran (République islamique d')\",\n",
    "    'Iraq': 'Iraq',\n",
    "    'Ireland': 'Irlande',\n",
    "    'Iceland': 'Islande',\n",
    "    'Israel': 'Israël',\n",
    "    'Italy': 'Italie',\n",
    "    'Jamaica': 'Jamaïque',\n",
    "    'Japan': 'Japon',\n",
    "    'Jordan': 'Jordanie',\n",
    "    'Kazakhstan': 'Kazakhstan',\n",
    "    'Kenya': 'Kenya',\n",
    "    'Kyrgyzstan': 'Kirghizistan',\n",
    "    'Kiribati': 'Kiribati',\n",
    "    'Kuwait': 'Koweït',\n",
    "    'Lesotho': 'Lesotho',\n",
    "    'Latvia': 'Lettonie',\n",
    "    'Lebanon': 'Liban',\n",
    "    'Liberia': 'Libéria',\n",
    "    'Lithuania': 'Lituanie',\n",
    "    'Luxembourg': 'Luxembourg',\n",
    "    'North Macedonia': 'Macédoine du Nord',\n",
    "    'Madagascar': 'Madagascar',\n",
    "    'Malaysia': 'Malaisie',\n",
    "    'Malawi': 'Malawi',\n",
    "    'Maldives': 'Maldives',\n",
    "    'Mali': 'Mali',\n",
    "    'Malta': 'Malte',\n",
    "    'Morocco': 'Maroc',\n",
    "    'Mauritius': 'Maurice',\n",
    "    'Mauritania': 'Mauritanie',\n",
    "    'Mexico': 'Mexique',\n",
    "    'Mongolia': 'Mongolie',\n",
    "    'Montenegro': 'Monténégro',\n",
    "    'Mozambique': 'Mozambique',\n",
    "    'Myanmar': 'Myanmar',\n",
    "    'Namibia': 'Namibie',\n",
    "    'Nicaragua': 'Nicaragua',\n",
    "    'Niger': 'Niger',\n",
    "    'Nigeria': 'Nigéria',\n",
    "    'Norway': 'Norvège',\n",
    "    'New Caledonia': 'Nouvelle-Calédonie',\n",
    "    'New Zealand': 'Nouvelle-Zélande',\n",
    "    'Nepal': 'Népal',\n",
    "    'Oman': 'Oman',\n",
    "    'Uganda': 'Ouganda',\n",
    "    'Pakistan': 'Pakistan',\n",
    "    'Panama': 'Panama',\n",
    "    'Paraguay': 'Paraguay',\n",
    "    'Netherlands': 'Pays-Bas',\n",
    "    'Philippines': 'Philippines',\n",
    "    'Poland': 'Pologne',\n",
    "    'French Polynesia': 'Polynésie française',\n",
    "    'Portugal': 'Portugal',\n",
    "    'Peru': 'Pérou',\n",
    "    'Romania': 'Roumanie',\n",
    "    'United Kingdom': \"Royaume-Uni de Grande-Bretagne et d'Irlande du Nord\",\n",
    "    'Rwanda': 'Rwanda',\n",
    "    'Central African Republic': 'République centrafricaine',\n",
    "    'South Korea': 'République de Corée',\n",
    "    'Moldova': 'République de Moldova',\n",
    "    'Dominican Republic': 'République dominicaine',\n",
    "    'North Korea': 'République populaire démocratique de Corée',\n",
    "    'Tanzania': 'République-Unie de Tanzanie',\n",
    "    'Saint Kitts and Nevis': 'Saint-Kitts-et-Nevis',\n",
    "    'Saint Vincent and the Grenadines': 'Saint-Vincent-et-les Grenadines',\n",
    "    'Saint Lucia': 'Sainte-Lucie',\n",
    "    'Samoa': 'Samoa',\n",
    "    'São Tomé and Príncipe': 'Sao Tomé-et-Principe',\n",
    "    'Serbia': 'Serbie',\n",
    "    'Sierra Leone': 'Sierra Leone',\n",
    "    'Slovakia': 'Slovaquie',\n",
    "    'Slovenia': 'Slovénie',\n",
    "    'Sudan': 'Soudan',\n",
    "    'Sri Lanka': 'Sri Lanka',\n",
    "    'Switzerland': 'Suisse',\n",
    "    'Suriname': 'Suriname',\n",
    "    'Sweden': 'Suède',\n",
    "    'Senegal': 'Sénégal',\n",
    "    'Tajikistan': 'Tadjikistan',\n",
    "    'Chad': 'Tchad',\n",
    "    'Czech Republic': 'Tchéquie',\n",
    "    'Thailand': 'Thaïlande',\n",
    "    'Timor-Leste': 'Timor-Leste',\n",
    "    'Togo': 'Togo',\n",
    "    'Trinidad and Tobago': 'Trinité-et-Tobago',\n",
    "    'Tunisia': 'Tunisie',\n",
    "    'Turkmenistan': 'Turkménistan',\n",
    "    'Turkey': 'Turquie',\n",
    "    'Ukraine': 'Ukraine',\n",
    "    'Uruguay': 'Uruguay',\n",
    "    'Vanuatu': 'Vanuatu',\n",
    "    'Venezuela': 'Venezuela (République bolivarienne du)',\n",
    "    'Vietnam': 'Viet Nam',\n",
    "    'Yemen': 'Yémen',\n",
    "    'Zambia': 'Zambie',\n",
    "    'Zimbabwe': 'Zimbabwe',\n",
    "    'Egypt': 'Égypte',\n",
    "    'United Arab Emirates': 'Émirats arabes unis',\n",
    "    'Ecuador': 'Équateur',\n",
    "    'United States': \"États-Unis d'Amérique\",\n",
    "    'Ethiopia': 'Éthiopie',\n",
    "    'Solomon Islands': 'Îles Salomon'\n",
    "}"
   ]
  },
  {
   "cell_type": "code",
   "execution_count": 202,
   "id": "029e653b-7052-458e-b795-86e6ac488891",
   "metadata": {},
   "outputs": [],
   "source": [
    "# Ajout de la colonne avec les noms de pays en français\n",
    "df_total2['Zone_fr'] = df_total2['Zone'].apply(lambda x: pays.get(x, x))\n",
    "\n",
    "#Suppression de la colonne 'Zone' dont nous n'avons plus besoin\n",
    "df_total2 = df_total2.drop(['Zone'], axis=1, errors='ignore')"
   ]
  },
  {
   "cell_type": "code",
   "execution_count": 204,
   "id": "da4b898f-147e-46dd-8fda-91ec0605e98a",
   "metadata": {},
   "outputs": [],
   "source": [
    "#Jointure du df_total2 au df_total\n",
    "df_total= pd.merge(df_total, df_total2, left_on='Zone', right_on='Zone_fr', how='inner')"
   ]
  },
  {
   "cell_type": "code",
   "execution_count": 206,
   "id": "94d25ded-40f6-4071-8438-bd1f896cd9a1",
   "metadata": {},
   "outputs": [],
   "source": [
    "#Suppression de la colonne 'Zone_fr' dont nous n'avons plus besoin\n",
    "df_total = df_total.drop(['Zone_fr'], axis=1, errors='ignore')"
   ]
  },
  {
   "cell_type": "code",
   "execution_count": 208,
   "id": "1ca6060a",
   "metadata": {},
   "outputs": [],
   "source": [
    "#Réorganisation des colonnes\n",
    "cols = list(df_total.columns)\n",
    "cols.insert(2, cols.pop(cols.index('Population')))\n",
    "df_total = df_total[cols]"
   ]
  },
  {
   "cell_type": "code",
   "execution_count": 210,
   "id": "b4e6f7ad-c41d-4414-aab6-5f9f7d2e1c50",
   "metadata": {},
   "outputs": [
    {
     "data": {
      "text/html": [
       "<div>\n",
       "<style scoped>\n",
       "    .dataframe tbody tr th:only-of-type {\n",
       "        vertical-align: middle;\n",
       "    }\n",
       "\n",
       "    .dataframe tbody tr th {\n",
       "        vertical-align: top;\n",
       "    }\n",
       "\n",
       "    .dataframe thead th {\n",
       "        text-align: right;\n",
       "    }\n",
       "</style>\n",
       "<table border=\"1\" class=\"dataframe\">\n",
       "  <thead>\n",
       "    <tr style=\"text-align: right;\">\n",
       "      <th></th>\n",
       "      <th>Zone</th>\n",
       "      <th>Année</th>\n",
       "      <th>Population</th>\n",
       "      <th>Volailles alimentaire en t</th>\n",
       "      <th>Volailles produites en t</th>\n",
       "      <th>Volailles importées en t</th>\n",
       "      <th>Volailles exportées en t</th>\n",
       "      <th>PIB par habitants en $</th>\n",
       "      <th>Restaurants KFC</th>\n",
       "      <th>Stabilite politique</th>\n",
       "      <th>Distance</th>\n",
       "    </tr>\n",
       "  </thead>\n",
       "  <tbody>\n",
       "    <tr>\n",
       "      <th>0</th>\n",
       "      <td>Afghanistan</td>\n",
       "      <td>2017</td>\n",
       "      <td>36296113</td>\n",
       "      <td>55000.0</td>\n",
       "      <td>28000.0</td>\n",
       "      <td>29000.0</td>\n",
       "      <td>0.0</td>\n",
       "      <td>534.02</td>\n",
       "      <td>0.0</td>\n",
       "      <td>-2.79</td>\n",
       "      <td>5490</td>\n",
       "    </tr>\n",
       "    <tr>\n",
       "      <th>1</th>\n",
       "      <td>Afrique du Sud</td>\n",
       "      <td>2017</td>\n",
       "      <td>57009756</td>\n",
       "      <td>2035000.0</td>\n",
       "      <td>1667000.0</td>\n",
       "      <td>514000.0</td>\n",
       "      <td>63000.0</td>\n",
       "      <td>6723.93</td>\n",
       "      <td>955.0</td>\n",
       "      <td>-0.28</td>\n",
       "      <td>8702</td>\n",
       "    </tr>\n",
       "    <tr>\n",
       "      <th>2</th>\n",
       "      <td>Albanie</td>\n",
       "      <td>2017</td>\n",
       "      <td>2884169</td>\n",
       "      <td>47000.0</td>\n",
       "      <td>13000.0</td>\n",
       "      <td>38000.0</td>\n",
       "      <td>0.0</td>\n",
       "      <td>4521.75</td>\n",
       "      <td>8.0</td>\n",
       "      <td>0.37</td>\n",
       "      <td>8459</td>\n",
       "    </tr>\n",
       "    <tr>\n",
       "      <th>3</th>\n",
       "      <td>Algérie</td>\n",
       "      <td>2017</td>\n",
       "      <td>41389189</td>\n",
       "      <td>264000.0</td>\n",
       "      <td>275000.0</td>\n",
       "      <td>2000.0</td>\n",
       "      <td>0.0</td>\n",
       "      <td>4134.94</td>\n",
       "      <td>2.0</td>\n",
       "      <td>-0.92</td>\n",
       "      <td>2070</td>\n",
       "    </tr>\n",
       "    <tr>\n",
       "      <th>4</th>\n",
       "      <td>Allemagne</td>\n",
       "      <td>2017</td>\n",
       "      <td>82658409</td>\n",
       "      <td>1609000.0</td>\n",
       "      <td>1514000.0</td>\n",
       "      <td>842000.0</td>\n",
       "      <td>646000.0</td>\n",
       "      <td>44670.22</td>\n",
       "      <td>189.0</td>\n",
       "      <td>0.57</td>\n",
       "      <td>804</td>\n",
       "    </tr>\n",
       "    <tr>\n",
       "      <th>...</th>\n",
       "      <td>...</td>\n",
       "      <td>...</td>\n",
       "      <td>...</td>\n",
       "      <td>...</td>\n",
       "      <td>...</td>\n",
       "      <td>...</td>\n",
       "      <td>...</td>\n",
       "      <td>...</td>\n",
       "      <td>...</td>\n",
       "      <td>...</td>\n",
       "      <td>...</td>\n",
       "    </tr>\n",
       "    <tr>\n",
       "      <th>140</th>\n",
       "      <td>Émirats arabes unis</td>\n",
       "      <td>2017</td>\n",
       "      <td>9487203</td>\n",
       "      <td>412000.0</td>\n",
       "      <td>48000.0</td>\n",
       "      <td>433000.0</td>\n",
       "      <td>94000.0</td>\n",
       "      <td>43063.97</td>\n",
       "      <td>151.0</td>\n",
       "      <td>0.60</td>\n",
       "      <td>5234</td>\n",
       "    </tr>\n",
       "    <tr>\n",
       "      <th>141</th>\n",
       "      <td>Équateur</td>\n",
       "      <td>2017</td>\n",
       "      <td>16785361</td>\n",
       "      <td>324000.0</td>\n",
       "      <td>340000.0</td>\n",
       "      <td>0.0</td>\n",
       "      <td>0.0</td>\n",
       "      <td>6246.40</td>\n",
       "      <td>0.0</td>\n",
       "      <td>-0.08</td>\n",
       "      <td>9449</td>\n",
       "    </tr>\n",
       "    <tr>\n",
       "      <th>142</th>\n",
       "      <td>États-Unis d'Amérique</td>\n",
       "      <td>2017</td>\n",
       "      <td>325084756</td>\n",
       "      <td>18100000.0</td>\n",
       "      <td>21914000.0</td>\n",
       "      <td>123000.0</td>\n",
       "      <td>3692000.0</td>\n",
       "      <td>59468.23</td>\n",
       "      <td>4062.0</td>\n",
       "      <td>0.26</td>\n",
       "      <td>7714</td>\n",
       "    </tr>\n",
       "    <tr>\n",
       "      <th>143</th>\n",
       "      <td>Éthiopie</td>\n",
       "      <td>2017</td>\n",
       "      <td>106399924</td>\n",
       "      <td>14000.0</td>\n",
       "      <td>14000.0</td>\n",
       "      <td>1000.0</td>\n",
       "      <td>0.0</td>\n",
       "      <td>709.76</td>\n",
       "      <td>0.0</td>\n",
       "      <td>-1.68</td>\n",
       "      <td>5325</td>\n",
       "    </tr>\n",
       "    <tr>\n",
       "      <th>144</th>\n",
       "      <td>Îles Salomon</td>\n",
       "      <td>2017</td>\n",
       "      <td>636039</td>\n",
       "      <td>3000.0</td>\n",
       "      <td>0.0</td>\n",
       "      <td>6000.0</td>\n",
       "      <td>0.0</td>\n",
       "      <td>2283.58</td>\n",
       "      <td>0.0</td>\n",
       "      <td>0.19</td>\n",
       "      <td>15278</td>\n",
       "    </tr>\n",
       "  </tbody>\n",
       "</table>\n",
       "<p>145 rows × 11 columns</p>\n",
       "</div>"
      ],
      "text/plain": [
       "                      Zone  Année  Population  Volailles alimentaire en t  \\\n",
       "0              Afghanistan   2017    36296113                     55000.0   \n",
       "1           Afrique du Sud   2017    57009756                   2035000.0   \n",
       "2                  Albanie   2017     2884169                     47000.0   \n",
       "3                  Algérie   2017    41389189                    264000.0   \n",
       "4                Allemagne   2017    82658409                   1609000.0   \n",
       "..                     ...    ...         ...                         ...   \n",
       "140    Émirats arabes unis   2017     9487203                    412000.0   \n",
       "141               Équateur   2017    16785361                    324000.0   \n",
       "142  États-Unis d'Amérique   2017   325084756                  18100000.0   \n",
       "143               Éthiopie   2017   106399924                     14000.0   \n",
       "144           Îles Salomon   2017      636039                      3000.0   \n",
       "\n",
       "     Volailles produites en t  Volailles importées en t  \\\n",
       "0                     28000.0                   29000.0   \n",
       "1                   1667000.0                  514000.0   \n",
       "2                     13000.0                   38000.0   \n",
       "3                    275000.0                    2000.0   \n",
       "4                   1514000.0                  842000.0   \n",
       "..                        ...                       ...   \n",
       "140                   48000.0                  433000.0   \n",
       "141                  340000.0                       0.0   \n",
       "142                21914000.0                  123000.0   \n",
       "143                   14000.0                    1000.0   \n",
       "144                       0.0                    6000.0   \n",
       "\n",
       "     Volailles exportées en t  PIB par habitants en $  Restaurants KFC  \\\n",
       "0                         0.0                  534.02              0.0   \n",
       "1                     63000.0                 6723.93            955.0   \n",
       "2                         0.0                 4521.75              8.0   \n",
       "3                         0.0                 4134.94              2.0   \n",
       "4                    646000.0                44670.22            189.0   \n",
       "..                        ...                     ...              ...   \n",
       "140                   94000.0                43063.97            151.0   \n",
       "141                       0.0                 6246.40              0.0   \n",
       "142                 3692000.0                59468.23           4062.0   \n",
       "143                       0.0                  709.76              0.0   \n",
       "144                       0.0                 2283.58              0.0   \n",
       "\n",
       "     Stabilite politique  Distance  \n",
       "0                  -2.79      5490  \n",
       "1                  -0.28      8702  \n",
       "2                   0.37      8459  \n",
       "3                  -0.92      2070  \n",
       "4                   0.57       804  \n",
       "..                   ...       ...  \n",
       "140                 0.60      5234  \n",
       "141                -0.08      9449  \n",
       "142                 0.26      7714  \n",
       "143                -1.68      5325  \n",
       "144                 0.19     15278  \n",
       "\n",
       "[145 rows x 11 columns]"
      ]
     },
     "execution_count": 210,
     "metadata": {},
     "output_type": "execute_result"
    }
   ],
   "source": [
    "#Visualisation du df_total\n",
    "df_total"
   ]
  },
  {
   "cell_type": "code",
   "execution_count": 212,
   "id": "9ce23c4d-c434-4076-bb51-f3ddb6d506ce",
   "metadata": {},
   "outputs": [
    {
     "data": {
      "text/plain": [
       "'Le dataframe df_total couvre 88.00% de la population mondiale.'"
      ]
     },
     "execution_count": 212,
     "metadata": {},
     "output_type": "execute_result"
    }
   ],
   "source": [
    "#Population dans le dataframe\n",
    "population = df_total['Population'].sum()\n",
    "\n",
    "#Population mondiale approximative en 2017\n",
    "population_mondiale = 7_500_000_000\n",
    "\n",
    "#Calcul du pourcentage de la population mondiale couverte par ce dataframe\n",
    "pourcentage_population = round((population / population_mondiale) * 100)\n",
    "\n",
    "f\"Le dataframe df_total couvre {pourcentage_population:.2f}% de la population mondiale.\""
   ]
  },
  {
   "cell_type": "markdown",
   "id": "8d3d7164-10e6-41da-a78f-ed0e70bb56fd",
   "metadata": {},
   "source": [
    "<div style=\"border: 1px solid RGB(51,165,182);\" >\n",
    "<h3 style=\"margin: auto; padding: 20px; color: RGB(51,165,182); \">3. - Création de nouveaux indicateurs</h3>\n",
    "</div>"
   ]
  },
  {
   "cell_type": "code",
   "execution_count": 215,
   "id": "16f146b0-9f91-4f07-88dd-19eddcb8af11",
   "metadata": {},
   "outputs": [],
   "source": [
    "#Copie de df_total\n",
    "df_total = df_total.copy()\n",
    "\n",
    "#Création de la colonne 'balance commerciale'\n",
    "df_total['Balance'] = (df_total['Volailles exportées en t'] - df_total['Volailles importées en t'])\n",
    "\n",
    "#Réorganisation des colonnes\n",
    "cols = list(df_total.columns)\n",
    "cols.insert(7, cols.pop(cols.index('Balance')))\n",
    "df_total = df_total[cols]"
   ]
  },
  {
   "cell_type": "code",
   "execution_count": 217,
   "id": "e088642c-3ef5-4171-ace6-49436bb93d92",
   "metadata": {},
   "outputs": [],
   "source": [
    "#Création de la colonne 'volailleskg/habitant'\n",
    "df_total['volailleskg / habitant'] = ((df_total['Volailles alimentaire en t'] / df_total['Population']) * 1000).round(2)"
   ]
  },
  {
   "cell_type": "code",
   "execution_count": 219,
   "id": "e77b4bc9-21fb-4904-8d24-15f94d5ba53a",
   "metadata": {},
   "outputs": [
    {
     "name": "stdout",
     "output_type": "stream",
     "text": [
      "La disponibilité moyenne de volailles par habitant est de 19.36kg par an.\n"
     ]
    }
   ],
   "source": [
    "#Calcul de disponilibité moyenne en 'vollaileskg/habitant'\n",
    "print(\"La disponibilité moyenne de volailles par habitant est de {}kg par an.\".format(df_total['volailleskg / habitant'].mean().round(2)))"
   ]
  },
  {
   "cell_type": "code",
   "execution_count": 221,
   "id": "9a69b531-70a0-4767-9035-1265829db23a",
   "metadata": {},
   "outputs": [],
   "source": [
    "#Création de la colonne 'Deficit en volailles'\n",
    "df_total['Deficit / habitant'] = (((df_total['volailleskg / habitant'].mean().round(2))) - df_total['volailleskg / habitant'])"
   ]
  },
  {
   "cell_type": "code",
   "execution_count": 223,
   "id": "58e201fc-728f-42bd-a9d9-4954a7d8bca0",
   "metadata": {},
   "outputs": [
    {
     "data": {
      "text/html": [
       "<div>\n",
       "<style scoped>\n",
       "    .dataframe tbody tr th:only-of-type {\n",
       "        vertical-align: middle;\n",
       "    }\n",
       "\n",
       "    .dataframe tbody tr th {\n",
       "        vertical-align: top;\n",
       "    }\n",
       "\n",
       "    .dataframe thead th {\n",
       "        text-align: right;\n",
       "    }\n",
       "</style>\n",
       "<table border=\"1\" class=\"dataframe\">\n",
       "  <thead>\n",
       "    <tr style=\"text-align: right;\">\n",
       "      <th></th>\n",
       "      <th>Zone</th>\n",
       "      <th>Année</th>\n",
       "      <th>Population</th>\n",
       "      <th>Volailles alimentaire en t</th>\n",
       "      <th>Volailles produites en t</th>\n",
       "      <th>Volailles importées en t</th>\n",
       "      <th>Volailles exportées en t</th>\n",
       "      <th>Balance</th>\n",
       "      <th>PIB par habitants en $</th>\n",
       "      <th>Restaurants KFC</th>\n",
       "      <th>Stabilite politique</th>\n",
       "      <th>Distance</th>\n",
       "      <th>volailleskg / habitant</th>\n",
       "      <th>Deficit / habitant</th>\n",
       "    </tr>\n",
       "  </thead>\n",
       "  <tbody>\n",
       "    <tr>\n",
       "      <th>0</th>\n",
       "      <td>Afghanistan</td>\n",
       "      <td>2017</td>\n",
       "      <td>36296113</td>\n",
       "      <td>55000.0</td>\n",
       "      <td>28000.0</td>\n",
       "      <td>29000.0</td>\n",
       "      <td>0.0</td>\n",
       "      <td>-29000.0</td>\n",
       "      <td>534.02</td>\n",
       "      <td>0.0</td>\n",
       "      <td>-2.79</td>\n",
       "      <td>5490</td>\n",
       "      <td>1.52</td>\n",
       "      <td>17.84</td>\n",
       "    </tr>\n",
       "    <tr>\n",
       "      <th>1</th>\n",
       "      <td>Afrique du Sud</td>\n",
       "      <td>2017</td>\n",
       "      <td>57009756</td>\n",
       "      <td>2035000.0</td>\n",
       "      <td>1667000.0</td>\n",
       "      <td>514000.0</td>\n",
       "      <td>63000.0</td>\n",
       "      <td>-451000.0</td>\n",
       "      <td>6723.93</td>\n",
       "      <td>955.0</td>\n",
       "      <td>-0.28</td>\n",
       "      <td>8702</td>\n",
       "      <td>35.70</td>\n",
       "      <td>-16.34</td>\n",
       "    </tr>\n",
       "    <tr>\n",
       "      <th>2</th>\n",
       "      <td>Albanie</td>\n",
       "      <td>2017</td>\n",
       "      <td>2884169</td>\n",
       "      <td>47000.0</td>\n",
       "      <td>13000.0</td>\n",
       "      <td>38000.0</td>\n",
       "      <td>0.0</td>\n",
       "      <td>-38000.0</td>\n",
       "      <td>4521.75</td>\n",
       "      <td>8.0</td>\n",
       "      <td>0.37</td>\n",
       "      <td>8459</td>\n",
       "      <td>16.30</td>\n",
       "      <td>3.06</td>\n",
       "    </tr>\n",
       "    <tr>\n",
       "      <th>3</th>\n",
       "      <td>Algérie</td>\n",
       "      <td>2017</td>\n",
       "      <td>41389189</td>\n",
       "      <td>264000.0</td>\n",
       "      <td>275000.0</td>\n",
       "      <td>2000.0</td>\n",
       "      <td>0.0</td>\n",
       "      <td>-2000.0</td>\n",
       "      <td>4134.94</td>\n",
       "      <td>2.0</td>\n",
       "      <td>-0.92</td>\n",
       "      <td>2070</td>\n",
       "      <td>6.38</td>\n",
       "      <td>12.98</td>\n",
       "    </tr>\n",
       "    <tr>\n",
       "      <th>4</th>\n",
       "      <td>Allemagne</td>\n",
       "      <td>2017</td>\n",
       "      <td>82658409</td>\n",
       "      <td>1609000.0</td>\n",
       "      <td>1514000.0</td>\n",
       "      <td>842000.0</td>\n",
       "      <td>646000.0</td>\n",
       "      <td>-196000.0</td>\n",
       "      <td>44670.22</td>\n",
       "      <td>189.0</td>\n",
       "      <td>0.57</td>\n",
       "      <td>804</td>\n",
       "      <td>19.47</td>\n",
       "      <td>-0.11</td>\n",
       "    </tr>\n",
       "    <tr>\n",
       "      <th>...</th>\n",
       "      <td>...</td>\n",
       "      <td>...</td>\n",
       "      <td>...</td>\n",
       "      <td>...</td>\n",
       "      <td>...</td>\n",
       "      <td>...</td>\n",
       "      <td>...</td>\n",
       "      <td>...</td>\n",
       "      <td>...</td>\n",
       "      <td>...</td>\n",
       "      <td>...</td>\n",
       "      <td>...</td>\n",
       "      <td>...</td>\n",
       "      <td>...</td>\n",
       "    </tr>\n",
       "    <tr>\n",
       "      <th>140</th>\n",
       "      <td>Émirats arabes unis</td>\n",
       "      <td>2017</td>\n",
       "      <td>9487203</td>\n",
       "      <td>412000.0</td>\n",
       "      <td>48000.0</td>\n",
       "      <td>433000.0</td>\n",
       "      <td>94000.0</td>\n",
       "      <td>-339000.0</td>\n",
       "      <td>43063.97</td>\n",
       "      <td>151.0</td>\n",
       "      <td>0.60</td>\n",
       "      <td>5234</td>\n",
       "      <td>43.43</td>\n",
       "      <td>-24.07</td>\n",
       "    </tr>\n",
       "    <tr>\n",
       "      <th>141</th>\n",
       "      <td>Équateur</td>\n",
       "      <td>2017</td>\n",
       "      <td>16785361</td>\n",
       "      <td>324000.0</td>\n",
       "      <td>340000.0</td>\n",
       "      <td>0.0</td>\n",
       "      <td>0.0</td>\n",
       "      <td>0.0</td>\n",
       "      <td>6246.40</td>\n",
       "      <td>0.0</td>\n",
       "      <td>-0.08</td>\n",
       "      <td>9449</td>\n",
       "      <td>19.30</td>\n",
       "      <td>0.06</td>\n",
       "    </tr>\n",
       "    <tr>\n",
       "      <th>142</th>\n",
       "      <td>États-Unis d'Amérique</td>\n",
       "      <td>2017</td>\n",
       "      <td>325084756</td>\n",
       "      <td>18100000.0</td>\n",
       "      <td>21914000.0</td>\n",
       "      <td>123000.0</td>\n",
       "      <td>3692000.0</td>\n",
       "      <td>3569000.0</td>\n",
       "      <td>59468.23</td>\n",
       "      <td>4062.0</td>\n",
       "      <td>0.26</td>\n",
       "      <td>7714</td>\n",
       "      <td>55.68</td>\n",
       "      <td>-36.32</td>\n",
       "    </tr>\n",
       "    <tr>\n",
       "      <th>143</th>\n",
       "      <td>Éthiopie</td>\n",
       "      <td>2017</td>\n",
       "      <td>106399924</td>\n",
       "      <td>14000.0</td>\n",
       "      <td>14000.0</td>\n",
       "      <td>1000.0</td>\n",
       "      <td>0.0</td>\n",
       "      <td>-1000.0</td>\n",
       "      <td>709.76</td>\n",
       "      <td>0.0</td>\n",
       "      <td>-1.68</td>\n",
       "      <td>5325</td>\n",
       "      <td>0.13</td>\n",
       "      <td>19.23</td>\n",
       "    </tr>\n",
       "    <tr>\n",
       "      <th>144</th>\n",
       "      <td>Îles Salomon</td>\n",
       "      <td>2017</td>\n",
       "      <td>636039</td>\n",
       "      <td>3000.0</td>\n",
       "      <td>0.0</td>\n",
       "      <td>6000.0</td>\n",
       "      <td>0.0</td>\n",
       "      <td>-6000.0</td>\n",
       "      <td>2283.58</td>\n",
       "      <td>0.0</td>\n",
       "      <td>0.19</td>\n",
       "      <td>15278</td>\n",
       "      <td>4.72</td>\n",
       "      <td>14.64</td>\n",
       "    </tr>\n",
       "  </tbody>\n",
       "</table>\n",
       "<p>145 rows × 14 columns</p>\n",
       "</div>"
      ],
      "text/plain": [
       "                      Zone  Année  Population  Volailles alimentaire en t  \\\n",
       "0              Afghanistan   2017    36296113                     55000.0   \n",
       "1           Afrique du Sud   2017    57009756                   2035000.0   \n",
       "2                  Albanie   2017     2884169                     47000.0   \n",
       "3                  Algérie   2017    41389189                    264000.0   \n",
       "4                Allemagne   2017    82658409                   1609000.0   \n",
       "..                     ...    ...         ...                         ...   \n",
       "140    Émirats arabes unis   2017     9487203                    412000.0   \n",
       "141               Équateur   2017    16785361                    324000.0   \n",
       "142  États-Unis d'Amérique   2017   325084756                  18100000.0   \n",
       "143               Éthiopie   2017   106399924                     14000.0   \n",
       "144           Îles Salomon   2017      636039                      3000.0   \n",
       "\n",
       "     Volailles produites en t  Volailles importées en t  \\\n",
       "0                     28000.0                   29000.0   \n",
       "1                   1667000.0                  514000.0   \n",
       "2                     13000.0                   38000.0   \n",
       "3                    275000.0                    2000.0   \n",
       "4                   1514000.0                  842000.0   \n",
       "..                        ...                       ...   \n",
       "140                   48000.0                  433000.0   \n",
       "141                  340000.0                       0.0   \n",
       "142                21914000.0                  123000.0   \n",
       "143                   14000.0                    1000.0   \n",
       "144                       0.0                    6000.0   \n",
       "\n",
       "     Volailles exportées en t    Balance  PIB par habitants en $  \\\n",
       "0                         0.0   -29000.0                  534.02   \n",
       "1                     63000.0  -451000.0                 6723.93   \n",
       "2                         0.0   -38000.0                 4521.75   \n",
       "3                         0.0    -2000.0                 4134.94   \n",
       "4                    646000.0  -196000.0                44670.22   \n",
       "..                        ...        ...                     ...   \n",
       "140                   94000.0  -339000.0                43063.97   \n",
       "141                       0.0        0.0                 6246.40   \n",
       "142                 3692000.0  3569000.0                59468.23   \n",
       "143                       0.0    -1000.0                  709.76   \n",
       "144                       0.0    -6000.0                 2283.58   \n",
       "\n",
       "     Restaurants KFC  Stabilite politique  Distance  volailleskg / habitant  \\\n",
       "0                0.0                -2.79      5490                    1.52   \n",
       "1              955.0                -0.28      8702                   35.70   \n",
       "2                8.0                 0.37      8459                   16.30   \n",
       "3                2.0                -0.92      2070                    6.38   \n",
       "4              189.0                 0.57       804                   19.47   \n",
       "..               ...                  ...       ...                     ...   \n",
       "140            151.0                 0.60      5234                   43.43   \n",
       "141              0.0                -0.08      9449                   19.30   \n",
       "142           4062.0                 0.26      7714                   55.68   \n",
       "143              0.0                -1.68      5325                    0.13   \n",
       "144              0.0                 0.19     15278                    4.72   \n",
       "\n",
       "     Deficit / habitant  \n",
       "0                 17.84  \n",
       "1                -16.34  \n",
       "2                  3.06  \n",
       "3                 12.98  \n",
       "4                 -0.11  \n",
       "..                  ...  \n",
       "140              -24.07  \n",
       "141                0.06  \n",
       "142              -36.32  \n",
       "143               19.23  \n",
       "144               14.64  \n",
       "\n",
       "[145 rows x 14 columns]"
      ]
     },
     "execution_count": 223,
     "metadata": {},
     "output_type": "execute_result"
    }
   ],
   "source": [
    "df_total"
   ]
  },
  {
   "cell_type": "code",
   "execution_count": 224,
   "id": "7d2ef7c3-e477-4c34-81f4-d6e6ecb6389c",
   "metadata": {},
   "outputs": [
    {
     "name": "stdout",
     "output_type": "stream",
     "text": [
      "Fichier enregistré ici : C:\\Users\\snowf/Documents\\donneesp11.csv\n"
     ]
    }
   ],
   "source": [
    "import os\n",
    "\n",
    "#Export du dataframe en fichier CSV\n",
    "documents_path = os.path.expanduser(\"~/Documents\")\n",
    "file_name = \"donneesp11.csv\"\n",
    "full_file_path = os.path.join(documents_path, file_name)\n",
    "df_total.to_csv(full_file_path, index=False)\n",
    "\n",
    "print(f\"Fichier enregistré ici : {full_file_path}\")"
   ]
  },
  {
   "cell_type": "code",
   "execution_count": null,
   "id": "f241b7c3-6948-4e47-9d51-c47608439dc2",
   "metadata": {},
   "outputs": [],
   "source": []
  }
 ],
 "metadata": {
  "kernelspec": {
   "display_name": "Python 3 (ipykernel)",
   "language": "python",
   "name": "python3"
  },
  "language_info": {
   "codemirror_mode": {
    "name": "ipython",
    "version": 3
   },
   "file_extension": ".py",
   "mimetype": "text/x-python",
   "name": "python",
   "nbconvert_exporter": "python",
   "pygments_lexer": "ipython3",
   "version": "3.11.7"
  }
 },
 "nbformat": 4,
 "nbformat_minor": 5
}
