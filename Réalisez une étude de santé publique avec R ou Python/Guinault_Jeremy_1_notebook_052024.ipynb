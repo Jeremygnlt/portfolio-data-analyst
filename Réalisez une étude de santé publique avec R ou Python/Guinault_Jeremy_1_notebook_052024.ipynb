{
 "cells": [
  {
   "cell_type": "markdown",
   "id": "e7316a32",
   "metadata": {},
   "source": [
    "<div style=\" background-color: RGB(0,114,200);\" >\n",
    "<h1 style=\"margin: auto; padding: 20px 0; color:#fff; text-align: center\">PROJET 4 DATA ANALYST</h1>\n",
    "<h2 style=\"margin: auto; padding: 20px 0; color:#fff; text-align: center\">Réalisez une étude de santé publique avec R ou Python\n",
    "</h2>\n",
    "</div>"
   ]
  },
  {
   "cell_type": "markdown",
   "id": "6e00fa8a",
   "metadata": {},
   "source": [
    "# OBJECTIF DE CE NOTEBOOK\n",
    "\n",
    "Bienvenue dans l'outil plébiscité par les analystes de données Jupyter.\n",
    "\n",
    "Il s'agit d'un outil permettant de mixer et d'alterner codes, textes et graphique.\n",
    "\n",
    "Cet outil est formidable pour plusieurs raisons:\n",
    "\n",
    "+ il permet de tester des lignes de codes au fur et à mesure de votre rédaction, de constater immédiatement le résultat d'un instruction, de la corriger si nécessaire.\n",
    "+ De rédiger du texte pour expliquer l'approche suivie ou les résultats d'une analyse et de le mettre en forme grâce à du code html ou plus simple avec **Markdown**\n",
    "+ d'agrémenter de graphiques\n",
    "\n",
    "Pour vous aider dans vos premiers pas à l'usage de Jupyter et de Python, nous avons rédigé ce notebook en vous indiquant les instructions à suivre.\n",
    "\n",
    "Il vous suffit pour cela de saisir le code Python répondant à l'instruction donnée.\n",
    "\n",
    "Vous verrez de temps à autre le code Python répondant à une instruction donnée mais cela est fait pour vous aider à comprendre la nature du travail qui vous est demandée.\n",
    "\n",
    "Et garder à l'esprit, qu'il n'y a pas de solution unique pour résoudre un problème et qu'il y a autant de résolutions de problèmes que de développeurs ;)...\n",
    "\n"
   ]
  },
  {
   "cell_type": "markdown",
   "id": "c33bcf57",
   "metadata": {},
   "source": [
    "Note jeremy \n",
    "Est ce qu'il faut faire le calcul de la sous nutrition sur les pays qu'on a ? \n",
    "Est ce qu'il faut faire des graphiques ?\n",
    "Rajouter le soja\n",
    "La liste des céréales est difficile a trouver ..."
   ]
  },
  {
   "cell_type": "markdown",
   "id": "9dad8326",
   "metadata": {},
   "source": [
    "<div style=\"background-color: RGB(0,150,250);\" >\n",
    "<h2 style=\"margin: auto; padding: 20px; color:#fff; \">Etape 1 - Importation des librairies et chargement des fichiers</h2>\n",
    "</div>"
   ]
  },
  {
   "cell_type": "markdown",
   "id": "4ee69457",
   "metadata": {},
   "source": [
    "<div style=\"border: 1px solid RGB(0,150,250);\" >\n",
    "<h3 style=\"margin: auto; padding: 20px; color: RGB(0,150,250); \">1.1 - Importation des librairies</h3>\n",
    "</div>"
   ]
  },
  {
   "cell_type": "code",
   "execution_count": 1,
   "id": "ffe62b56",
   "metadata": {},
   "outputs": [],
   "source": [
    "#Importation de la librairie Pandas\n",
    "import pandas as pd\n",
    "import seaborn as sns\n",
    "import matplotlib.pyplot as plt\n",
    "from matplotlib.ticker import FuncFormatter"
   ]
  },
  {
   "cell_type": "markdown",
   "id": "8bd8e7ed",
   "metadata": {},
   "source": [
    "<div style=\"border: 1px solid RGB(0,150,250);\" >\n",
    "<h3 style=\"margin: auto; padding: 20px; color: RGB(0,150,250); \">1.2 - Chargement des fichiers Excel</h3>\n",
    "</div>"
   ]
  },
  {
   "cell_type": "code",
   "execution_count": 2,
   "id": "b304f108",
   "metadata": {},
   "outputs": [],
   "source": [
    "#Importation du fichier population.csv\n",
    "population = pd.read_csv('population.csv')\n",
    "\n",
    "#Importation du fichier dispo_alimentaire.csv\n",
    "dispo_alimentaire = pd.read_csv('dispo_alimentaire.csv')\n",
    "\n",
    "#Importation du fichier aide_alimentaire.csv\n",
    "aide_alimentaire = pd.read_csv('aide_alimentaire.csv')\n",
    "\n",
    "#Importation du fichier sous_nutrition.csv\n",
    "sous_nutrition = pd.read_csv('sous_nutrition.csv')"
   ]
  },
  {
   "cell_type": "markdown",
   "id": "1249847a",
   "metadata": {},
   "source": [
    "<div style=\"background-color: RGB(0,150,250);\" >\n",
    "<h2 style=\"margin: auto; padding: 20px; color:#fff; \">Etape 2 - Analyse exploratoire des fichiers</h2>\n",
    "</div>"
   ]
  },
  {
   "cell_type": "markdown",
   "id": "235e6e91",
   "metadata": {},
   "source": [
    "<div style=\"border: 1px solid RGB(0,150,250);\" >\n",
    "<h3 style=\"margin: auto; padding: 20px; color: RGB(0,150,250); \">2.1 - Analyse exploratoire du fichier population</h3>\n",
    "</div>"
   ]
  },
  {
   "cell_type": "code",
   "execution_count": 3,
   "id": "e6b639d2",
   "metadata": {},
   "outputs": [
    {
     "name": "stdout",
     "output_type": "stream",
     "text": [
      "Le tableau comporte 1416 observation(s) ou article(s).\n",
      "Le tableau comporte 3 colonne(s).\n"
     ]
    }
   ],
   "source": [
    "#Afficher les dimensions du dataset\n",
    "print(\"Le tableau comporte {} observation(s) ou article(s).\".format(population.shape[0]))\n",
    "print(\"Le tableau comporte {} colonne(s).\".format(population.shape[1]))"
   ]
  },
  {
   "cell_type": "code",
   "execution_count": 4,
   "id": "fbbdfd5c",
   "metadata": {},
   "outputs": [
    {
     "name": "stdout",
     "output_type": "stream",
     "text": [
      "Le tableau comporte 3 colonne(s).\n",
      "La nature des données de chacune des colonnes sont :\n",
      "<class 'pandas.core.frame.DataFrame'>\n",
      "RangeIndex: 1416 entries, 0 to 1415\n",
      "Data columns (total 3 columns):\n",
      " #   Column  Non-Null Count  Dtype  \n",
      "---  ------  --------------  -----  \n",
      " 0   Zone    1416 non-null   object \n",
      " 1   Année   1416 non-null   int64  \n",
      " 2   Valeur  1416 non-null   float64\n",
      "dtypes: float64(1), int64(1), object(1)\n",
      "memory usage: 33.3+ KB\n",
      "Le tableau comporte 1416 valeurs présentent dans chacune des colonnes.\n"
     ]
    }
   ],
   "source": [
    "#Consulter le nombre de colonnes\n",
    "print(\"Le tableau comporte {} colonne(s).\".format(population.shape[1]))\n",
    "#La nature des données dans chacune des colonnes\n",
    "print(\"La nature des données de chacune des colonnes sont :\")\n",
    "population.info()\n",
    "#Le nombre de valeurs présentes dans chacune des colonnes\n",
    "print(\"Le tableau comporte {} valeurs présentent dans chacune des colonnes.\".format(population.shape[0]))"
   ]
  },
  {
   "cell_type": "code",
   "execution_count": 5,
   "id": "3e50d9e6",
   "metadata": {},
   "outputs": [
    {
     "data": {
      "text/html": [
       "<div>\n",
       "<style scoped>\n",
       "    .dataframe tbody tr th:only-of-type {\n",
       "        vertical-align: middle;\n",
       "    }\n",
       "\n",
       "    .dataframe tbody tr th {\n",
       "        vertical-align: top;\n",
       "    }\n",
       "\n",
       "    .dataframe thead th {\n",
       "        text-align: right;\n",
       "    }\n",
       "</style>\n",
       "<table border=\"1\" class=\"dataframe\">\n",
       "  <thead>\n",
       "    <tr style=\"text-align: right;\">\n",
       "      <th></th>\n",
       "      <th>Zone</th>\n",
       "      <th>Année</th>\n",
       "      <th>Valeur</th>\n",
       "    </tr>\n",
       "  </thead>\n",
       "  <tbody>\n",
       "    <tr>\n",
       "      <th>0</th>\n",
       "      <td>Afghanistan</td>\n",
       "      <td>2013</td>\n",
       "      <td>32269.589</td>\n",
       "    </tr>\n",
       "    <tr>\n",
       "      <th>1</th>\n",
       "      <td>Afghanistan</td>\n",
       "      <td>2014</td>\n",
       "      <td>33370.794</td>\n",
       "    </tr>\n",
       "    <tr>\n",
       "      <th>2</th>\n",
       "      <td>Afghanistan</td>\n",
       "      <td>2015</td>\n",
       "      <td>34413.603</td>\n",
       "    </tr>\n",
       "    <tr>\n",
       "      <th>3</th>\n",
       "      <td>Afghanistan</td>\n",
       "      <td>2016</td>\n",
       "      <td>35383.032</td>\n",
       "    </tr>\n",
       "    <tr>\n",
       "      <th>4</th>\n",
       "      <td>Afghanistan</td>\n",
       "      <td>2017</td>\n",
       "      <td>36296.113</td>\n",
       "    </tr>\n",
       "  </tbody>\n",
       "</table>\n",
       "</div>"
      ],
      "text/plain": [
       "          Zone  Année     Valeur\n",
       "0  Afghanistan   2013  32269.589\n",
       "1  Afghanistan   2014  33370.794\n",
       "2  Afghanistan   2015  34413.603\n",
       "3  Afghanistan   2016  35383.032\n",
       "4  Afghanistan   2017  36296.113"
      ]
     },
     "execution_count": 5,
     "metadata": {},
     "output_type": "execute_result"
    }
   ],
   "source": [
    "#Affichage les 5 premières lignes de la table\n",
    "population.head()"
   ]
  },
  {
   "cell_type": "code",
   "execution_count": 6,
   "id": "ab1a4af4",
   "metadata": {},
   "outputs": [],
   "source": [
    "#Nous allons harmoniser les unités. Pour cela, nous avons décidé de multiplier la population par 1000\n",
    "#Multiplication de la colonne valeur par 1000\n",
    "population['Valeur'] = population['Valeur']*1000\n",
    "population['Valeur'] = population['Valeur'].astype(int)"
   ]
  },
  {
   "cell_type": "code",
   "execution_count": 7,
   "id": "38836b61",
   "metadata": {},
   "outputs": [],
   "source": [
    "#changement du nom de la colonne Valeur par Population\n",
    "population.rename(columns={'Valeur': 'Population'}, inplace=True)"
   ]
  },
  {
   "cell_type": "code",
   "execution_count": 8,
   "id": "ff707561",
   "metadata": {},
   "outputs": [
    {
     "data": {
      "text/html": [
       "<div>\n",
       "<style scoped>\n",
       "    .dataframe tbody tr th:only-of-type {\n",
       "        vertical-align: middle;\n",
       "    }\n",
       "\n",
       "    .dataframe tbody tr th {\n",
       "        vertical-align: top;\n",
       "    }\n",
       "\n",
       "    .dataframe thead th {\n",
       "        text-align: right;\n",
       "    }\n",
       "</style>\n",
       "<table border=\"1\" class=\"dataframe\">\n",
       "  <thead>\n",
       "    <tr style=\"text-align: right;\">\n",
       "      <th></th>\n",
       "      <th>Zone</th>\n",
       "      <th>Année</th>\n",
       "      <th>Population</th>\n",
       "    </tr>\n",
       "  </thead>\n",
       "  <tbody>\n",
       "    <tr>\n",
       "      <th>0</th>\n",
       "      <td>Afghanistan</td>\n",
       "      <td>2013</td>\n",
       "      <td>32269589</td>\n",
       "    </tr>\n",
       "    <tr>\n",
       "      <th>1</th>\n",
       "      <td>Afghanistan</td>\n",
       "      <td>2014</td>\n",
       "      <td>33370794</td>\n",
       "    </tr>\n",
       "    <tr>\n",
       "      <th>2</th>\n",
       "      <td>Afghanistan</td>\n",
       "      <td>2015</td>\n",
       "      <td>34413603</td>\n",
       "    </tr>\n",
       "    <tr>\n",
       "      <th>3</th>\n",
       "      <td>Afghanistan</td>\n",
       "      <td>2016</td>\n",
       "      <td>35383032</td>\n",
       "    </tr>\n",
       "    <tr>\n",
       "      <th>4</th>\n",
       "      <td>Afghanistan</td>\n",
       "      <td>2017</td>\n",
       "      <td>36296113</td>\n",
       "    </tr>\n",
       "  </tbody>\n",
       "</table>\n",
       "</div>"
      ],
      "text/plain": [
       "          Zone  Année  Population\n",
       "0  Afghanistan   2013    32269589\n",
       "1  Afghanistan   2014    33370794\n",
       "2  Afghanistan   2015    34413603\n",
       "3  Afghanistan   2016    35383032\n",
       "4  Afghanistan   2017    36296113"
      ]
     },
     "execution_count": 8,
     "metadata": {},
     "output_type": "execute_result"
    }
   ],
   "source": [
    "#Affichage les 5 premières lignes de la table pour voir les modifications\n",
    "population.head()"
   ]
  },
  {
   "cell_type": "markdown",
   "id": "4224b896",
   "metadata": {},
   "source": [
    "<div style=\"border: 1px solid RGB(0,150,250);\" >\n",
    "<h3 style=\"margin: auto; padding: 20px; color: RGB(0,150,250); \">2.2 - Analyse exploratoire du fichier disponibilité alimentaire</h3>\n",
    "</div>"
   ]
  },
  {
   "cell_type": "code",
   "execution_count": 9,
   "id": "38f5b838",
   "metadata": {},
   "outputs": [
    {
     "name": "stdout",
     "output_type": "stream",
     "text": [
      "Le tableau comporte 15605 observation(s) ou article(s).\n",
      "Le tableau comporte 18 colonne(s).\n"
     ]
    }
   ],
   "source": [
    "#Afficher les dimensions du dataset\n",
    "print(\"Le tableau comporte {} observation(s) ou article(s).\".format(dispo_alimentaire.shape[0]))\n",
    "print(\"Le tableau comporte {} colonne(s).\".format(dispo_alimentaire.shape[1]))"
   ]
  },
  {
   "cell_type": "code",
   "execution_count": 10,
   "id": "99735a22",
   "metadata": {},
   "outputs": [
    {
     "name": "stdout",
     "output_type": "stream",
     "text": [
      "Le tableau comporte 18 colonne(s).\n"
     ]
    }
   ],
   "source": [
    "#Consulter le nombre de colonnes\n",
    "print(\"Le tableau comporte {} colonne(s).\".format(dispo_alimentaire.shape[1]))"
   ]
  },
  {
   "cell_type": "code",
   "execution_count": 11,
   "id": "0058032d",
   "metadata": {
    "scrolled": true
   },
   "outputs": [
    {
     "data": {
      "text/html": [
       "<div>\n",
       "<style scoped>\n",
       "    .dataframe tbody tr th:only-of-type {\n",
       "        vertical-align: middle;\n",
       "    }\n",
       "\n",
       "    .dataframe tbody tr th {\n",
       "        vertical-align: top;\n",
       "    }\n",
       "\n",
       "    .dataframe thead th {\n",
       "        text-align: right;\n",
       "    }\n",
       "</style>\n",
       "<table border=\"1\" class=\"dataframe\">\n",
       "  <thead>\n",
       "    <tr style=\"text-align: right;\">\n",
       "      <th></th>\n",
       "      <th>Zone</th>\n",
       "      <th>Produit</th>\n",
       "      <th>Origine</th>\n",
       "      <th>Aliments pour animaux</th>\n",
       "      <th>Autres Utilisations</th>\n",
       "      <th>Disponibilité alimentaire (Kcal/personne/jour)</th>\n",
       "      <th>Disponibilité alimentaire en quantité (kg/personne/an)</th>\n",
       "      <th>Disponibilité de matière grasse en quantité (g/personne/jour)</th>\n",
       "      <th>Disponibilité de protéines en quantité (g/personne/jour)</th>\n",
       "      <th>Disponibilité intérieure</th>\n",
       "      <th>Exportations - Quantité</th>\n",
       "      <th>Importations - Quantité</th>\n",
       "      <th>Nourriture</th>\n",
       "      <th>Pertes</th>\n",
       "      <th>Production</th>\n",
       "      <th>Semences</th>\n",
       "      <th>Traitement</th>\n",
       "      <th>Variation de stock</th>\n",
       "    </tr>\n",
       "  </thead>\n",
       "  <tbody>\n",
       "    <tr>\n",
       "      <th>0</th>\n",
       "      <td>Afghanistan</td>\n",
       "      <td>Abats Comestible</td>\n",
       "      <td>animale</td>\n",
       "      <td>NaN</td>\n",
       "      <td>NaN</td>\n",
       "      <td>5.0</td>\n",
       "      <td>1.72</td>\n",
       "      <td>0.20</td>\n",
       "      <td>0.77</td>\n",
       "      <td>53.0</td>\n",
       "      <td>NaN</td>\n",
       "      <td>NaN</td>\n",
       "      <td>53.0</td>\n",
       "      <td>NaN</td>\n",
       "      <td>53.0</td>\n",
       "      <td>NaN</td>\n",
       "      <td>NaN</td>\n",
       "      <td>NaN</td>\n",
       "    </tr>\n",
       "    <tr>\n",
       "      <th>1</th>\n",
       "      <td>Afghanistan</td>\n",
       "      <td>Agrumes, Autres</td>\n",
       "      <td>vegetale</td>\n",
       "      <td>NaN</td>\n",
       "      <td>NaN</td>\n",
       "      <td>1.0</td>\n",
       "      <td>1.29</td>\n",
       "      <td>0.01</td>\n",
       "      <td>0.02</td>\n",
       "      <td>41.0</td>\n",
       "      <td>2.0</td>\n",
       "      <td>40.0</td>\n",
       "      <td>39.0</td>\n",
       "      <td>2.0</td>\n",
       "      <td>3.0</td>\n",
       "      <td>NaN</td>\n",
       "      <td>NaN</td>\n",
       "      <td>NaN</td>\n",
       "    </tr>\n",
       "    <tr>\n",
       "      <th>2</th>\n",
       "      <td>Afghanistan</td>\n",
       "      <td>Aliments pour enfants</td>\n",
       "      <td>vegetale</td>\n",
       "      <td>NaN</td>\n",
       "      <td>NaN</td>\n",
       "      <td>1.0</td>\n",
       "      <td>0.06</td>\n",
       "      <td>0.01</td>\n",
       "      <td>0.03</td>\n",
       "      <td>2.0</td>\n",
       "      <td>NaN</td>\n",
       "      <td>2.0</td>\n",
       "      <td>2.0</td>\n",
       "      <td>NaN</td>\n",
       "      <td>NaN</td>\n",
       "      <td>NaN</td>\n",
       "      <td>NaN</td>\n",
       "      <td>NaN</td>\n",
       "    </tr>\n",
       "    <tr>\n",
       "      <th>3</th>\n",
       "      <td>Afghanistan</td>\n",
       "      <td>Ananas</td>\n",
       "      <td>vegetale</td>\n",
       "      <td>NaN</td>\n",
       "      <td>NaN</td>\n",
       "      <td>0.0</td>\n",
       "      <td>0.00</td>\n",
       "      <td>NaN</td>\n",
       "      <td>NaN</td>\n",
       "      <td>0.0</td>\n",
       "      <td>NaN</td>\n",
       "      <td>0.0</td>\n",
       "      <td>0.0</td>\n",
       "      <td>NaN</td>\n",
       "      <td>NaN</td>\n",
       "      <td>NaN</td>\n",
       "      <td>NaN</td>\n",
       "      <td>NaN</td>\n",
       "    </tr>\n",
       "    <tr>\n",
       "      <th>4</th>\n",
       "      <td>Afghanistan</td>\n",
       "      <td>Bananes</td>\n",
       "      <td>vegetale</td>\n",
       "      <td>NaN</td>\n",
       "      <td>NaN</td>\n",
       "      <td>4.0</td>\n",
       "      <td>2.70</td>\n",
       "      <td>0.02</td>\n",
       "      <td>0.05</td>\n",
       "      <td>82.0</td>\n",
       "      <td>NaN</td>\n",
       "      <td>82.0</td>\n",
       "      <td>82.0</td>\n",
       "      <td>NaN</td>\n",
       "      <td>NaN</td>\n",
       "      <td>NaN</td>\n",
       "      <td>NaN</td>\n",
       "      <td>NaN</td>\n",
       "    </tr>\n",
       "  </tbody>\n",
       "</table>\n",
       "</div>"
      ],
      "text/plain": [
       "          Zone                Produit   Origine  Aliments pour animaux  \\\n",
       "0  Afghanistan       Abats Comestible   animale                    NaN   \n",
       "1  Afghanistan        Agrumes, Autres  vegetale                    NaN   \n",
       "2  Afghanistan  Aliments pour enfants  vegetale                    NaN   \n",
       "3  Afghanistan                 Ananas  vegetale                    NaN   \n",
       "4  Afghanistan                Bananes  vegetale                    NaN   \n",
       "\n",
       "   Autres Utilisations  Disponibilité alimentaire (Kcal/personne/jour)  \\\n",
       "0                  NaN                                             5.0   \n",
       "1                  NaN                                             1.0   \n",
       "2                  NaN                                             1.0   \n",
       "3                  NaN                                             0.0   \n",
       "4                  NaN                                             4.0   \n",
       "\n",
       "   Disponibilité alimentaire en quantité (kg/personne/an)  \\\n",
       "0                                               1.72        \n",
       "1                                               1.29        \n",
       "2                                               0.06        \n",
       "3                                               0.00        \n",
       "4                                               2.70        \n",
       "\n",
       "   Disponibilité de matière grasse en quantité (g/personne/jour)  \\\n",
       "0                                               0.20               \n",
       "1                                               0.01               \n",
       "2                                               0.01               \n",
       "3                                                NaN               \n",
       "4                                               0.02               \n",
       "\n",
       "   Disponibilité de protéines en quantité (g/personne/jour)  \\\n",
       "0                                               0.77          \n",
       "1                                               0.02          \n",
       "2                                               0.03          \n",
       "3                                                NaN          \n",
       "4                                               0.05          \n",
       "\n",
       "   Disponibilité intérieure  Exportations - Quantité  Importations - Quantité  \\\n",
       "0                      53.0                      NaN                      NaN   \n",
       "1                      41.0                      2.0                     40.0   \n",
       "2                       2.0                      NaN                      2.0   \n",
       "3                       0.0                      NaN                      0.0   \n",
       "4                      82.0                      NaN                     82.0   \n",
       "\n",
       "   Nourriture  Pertes  Production  Semences  Traitement  Variation de stock  \n",
       "0        53.0     NaN        53.0       NaN         NaN                 NaN  \n",
       "1        39.0     2.0         3.0       NaN         NaN                 NaN  \n",
       "2         2.0     NaN         NaN       NaN         NaN                 NaN  \n",
       "3         0.0     NaN         NaN       NaN         NaN                 NaN  \n",
       "4        82.0     NaN         NaN       NaN         NaN                 NaN  "
      ]
     },
     "execution_count": 11,
     "metadata": {},
     "output_type": "execute_result"
    }
   ],
   "source": [
    "#Affichage les 5 premières lignes de la table\n",
    "dispo_alimentaire.head()"
   ]
  },
  {
   "cell_type": "code",
   "execution_count": 12,
   "id": "f3832569",
   "metadata": {},
   "outputs": [],
   "source": [
    "#remplacement des NaN dans le dataset par des 0\n",
    "dispo_alimentaire = dispo_alimentaire.fillna(0)"
   ]
  },
  {
   "cell_type": "code",
   "execution_count": 13,
   "id": "db4432e3",
   "metadata": {},
   "outputs": [],
   "source": [
    "#multiplication de toutes les lignes contenant des milliers de tonnes en Kg\n",
    "multikg = list(range(3, 5)) + list(range(-9, 0))\n",
    "dispo_alimentaire.iloc[:, multikg] *= 1000000"
   ]
  },
  {
   "cell_type": "code",
   "execution_count": 14,
   "id": "7f1689bf",
   "metadata": {},
   "outputs": [
    {
     "data": {
      "text/html": [
       "<div>\n",
       "<style scoped>\n",
       "    .dataframe tbody tr th:only-of-type {\n",
       "        vertical-align: middle;\n",
       "    }\n",
       "\n",
       "    .dataframe tbody tr th {\n",
       "        vertical-align: top;\n",
       "    }\n",
       "\n",
       "    .dataframe thead th {\n",
       "        text-align: right;\n",
       "    }\n",
       "</style>\n",
       "<table border=\"1\" class=\"dataframe\">\n",
       "  <thead>\n",
       "    <tr style=\"text-align: right;\">\n",
       "      <th></th>\n",
       "      <th>Zone</th>\n",
       "      <th>Produit</th>\n",
       "      <th>Origine</th>\n",
       "      <th>Aliments pour animaux</th>\n",
       "      <th>Autres Utilisations</th>\n",
       "      <th>Disponibilité alimentaire (Kcal/personne/jour)</th>\n",
       "      <th>Disponibilité alimentaire en quantité (kg/personne/an)</th>\n",
       "      <th>Disponibilité de matière grasse en quantité (g/personne/jour)</th>\n",
       "      <th>Disponibilité de protéines en quantité (g/personne/jour)</th>\n",
       "      <th>Disponibilité intérieure</th>\n",
       "      <th>Exportations - Quantité</th>\n",
       "      <th>Importations - Quantité</th>\n",
       "      <th>Nourriture</th>\n",
       "      <th>Pertes</th>\n",
       "      <th>Production</th>\n",
       "      <th>Semences</th>\n",
       "      <th>Traitement</th>\n",
       "      <th>Variation de stock</th>\n",
       "    </tr>\n",
       "  </thead>\n",
       "  <tbody>\n",
       "    <tr>\n",
       "      <th>0</th>\n",
       "      <td>Afghanistan</td>\n",
       "      <td>Abats Comestible</td>\n",
       "      <td>animale</td>\n",
       "      <td>0.0</td>\n",
       "      <td>0.0</td>\n",
       "      <td>5.0</td>\n",
       "      <td>1.72</td>\n",
       "      <td>0.20</td>\n",
       "      <td>0.77</td>\n",
       "      <td>53000000.0</td>\n",
       "      <td>0.0</td>\n",
       "      <td>0.0</td>\n",
       "      <td>53000000.0</td>\n",
       "      <td>0.0</td>\n",
       "      <td>53000000.0</td>\n",
       "      <td>0.0</td>\n",
       "      <td>0.0</td>\n",
       "      <td>0.0</td>\n",
       "    </tr>\n",
       "    <tr>\n",
       "      <th>1</th>\n",
       "      <td>Afghanistan</td>\n",
       "      <td>Agrumes, Autres</td>\n",
       "      <td>vegetale</td>\n",
       "      <td>0.0</td>\n",
       "      <td>0.0</td>\n",
       "      <td>1.0</td>\n",
       "      <td>1.29</td>\n",
       "      <td>0.01</td>\n",
       "      <td>0.02</td>\n",
       "      <td>41000000.0</td>\n",
       "      <td>2000000.0</td>\n",
       "      <td>40000000.0</td>\n",
       "      <td>39000000.0</td>\n",
       "      <td>2000000.0</td>\n",
       "      <td>3000000.0</td>\n",
       "      <td>0.0</td>\n",
       "      <td>0.0</td>\n",
       "      <td>0.0</td>\n",
       "    </tr>\n",
       "    <tr>\n",
       "      <th>2</th>\n",
       "      <td>Afghanistan</td>\n",
       "      <td>Aliments pour enfants</td>\n",
       "      <td>vegetale</td>\n",
       "      <td>0.0</td>\n",
       "      <td>0.0</td>\n",
       "      <td>1.0</td>\n",
       "      <td>0.06</td>\n",
       "      <td>0.01</td>\n",
       "      <td>0.03</td>\n",
       "      <td>2000000.0</td>\n",
       "      <td>0.0</td>\n",
       "      <td>2000000.0</td>\n",
       "      <td>2000000.0</td>\n",
       "      <td>0.0</td>\n",
       "      <td>0.0</td>\n",
       "      <td>0.0</td>\n",
       "      <td>0.0</td>\n",
       "      <td>0.0</td>\n",
       "    </tr>\n",
       "    <tr>\n",
       "      <th>3</th>\n",
       "      <td>Afghanistan</td>\n",
       "      <td>Ananas</td>\n",
       "      <td>vegetale</td>\n",
       "      <td>0.0</td>\n",
       "      <td>0.0</td>\n",
       "      <td>0.0</td>\n",
       "      <td>0.00</td>\n",
       "      <td>0.00</td>\n",
       "      <td>0.00</td>\n",
       "      <td>0.0</td>\n",
       "      <td>0.0</td>\n",
       "      <td>0.0</td>\n",
       "      <td>0.0</td>\n",
       "      <td>0.0</td>\n",
       "      <td>0.0</td>\n",
       "      <td>0.0</td>\n",
       "      <td>0.0</td>\n",
       "      <td>0.0</td>\n",
       "    </tr>\n",
       "    <tr>\n",
       "      <th>4</th>\n",
       "      <td>Afghanistan</td>\n",
       "      <td>Bananes</td>\n",
       "      <td>vegetale</td>\n",
       "      <td>0.0</td>\n",
       "      <td>0.0</td>\n",
       "      <td>4.0</td>\n",
       "      <td>2.70</td>\n",
       "      <td>0.02</td>\n",
       "      <td>0.05</td>\n",
       "      <td>82000000.0</td>\n",
       "      <td>0.0</td>\n",
       "      <td>82000000.0</td>\n",
       "      <td>82000000.0</td>\n",
       "      <td>0.0</td>\n",
       "      <td>0.0</td>\n",
       "      <td>0.0</td>\n",
       "      <td>0.0</td>\n",
       "      <td>0.0</td>\n",
       "    </tr>\n",
       "  </tbody>\n",
       "</table>\n",
       "</div>"
      ],
      "text/plain": [
       "          Zone                Produit   Origine  Aliments pour animaux  \\\n",
       "0  Afghanistan       Abats Comestible   animale                    0.0   \n",
       "1  Afghanistan        Agrumes, Autres  vegetale                    0.0   \n",
       "2  Afghanistan  Aliments pour enfants  vegetale                    0.0   \n",
       "3  Afghanistan                 Ananas  vegetale                    0.0   \n",
       "4  Afghanistan                Bananes  vegetale                    0.0   \n",
       "\n",
       "   Autres Utilisations  Disponibilité alimentaire (Kcal/personne/jour)  \\\n",
       "0                  0.0                                             5.0   \n",
       "1                  0.0                                             1.0   \n",
       "2                  0.0                                             1.0   \n",
       "3                  0.0                                             0.0   \n",
       "4                  0.0                                             4.0   \n",
       "\n",
       "   Disponibilité alimentaire en quantité (kg/personne/an)  \\\n",
       "0                                               1.72        \n",
       "1                                               1.29        \n",
       "2                                               0.06        \n",
       "3                                               0.00        \n",
       "4                                               2.70        \n",
       "\n",
       "   Disponibilité de matière grasse en quantité (g/personne/jour)  \\\n",
       "0                                               0.20               \n",
       "1                                               0.01               \n",
       "2                                               0.01               \n",
       "3                                               0.00               \n",
       "4                                               0.02               \n",
       "\n",
       "   Disponibilité de protéines en quantité (g/personne/jour)  \\\n",
       "0                                               0.77          \n",
       "1                                               0.02          \n",
       "2                                               0.03          \n",
       "3                                               0.00          \n",
       "4                                               0.05          \n",
       "\n",
       "   Disponibilité intérieure  Exportations - Quantité  Importations - Quantité  \\\n",
       "0                53000000.0                      0.0                      0.0   \n",
       "1                41000000.0                2000000.0               40000000.0   \n",
       "2                 2000000.0                      0.0                2000000.0   \n",
       "3                       0.0                      0.0                      0.0   \n",
       "4                82000000.0                      0.0               82000000.0   \n",
       "\n",
       "   Nourriture     Pertes  Production  Semences  Traitement  Variation de stock  \n",
       "0  53000000.0        0.0  53000000.0       0.0         0.0                 0.0  \n",
       "1  39000000.0  2000000.0   3000000.0       0.0         0.0                 0.0  \n",
       "2   2000000.0        0.0         0.0       0.0         0.0                 0.0  \n",
       "3         0.0        0.0         0.0       0.0         0.0                 0.0  \n",
       "4  82000000.0        0.0         0.0       0.0         0.0                 0.0  "
      ]
     },
     "execution_count": 14,
     "metadata": {},
     "output_type": "execute_result"
    }
   ],
   "source": [
    "#Affichage les 5 premières lignes de la table\n",
    "dispo_alimentaire.head()"
   ]
  },
  {
   "cell_type": "markdown",
   "id": "a09233e4",
   "metadata": {},
   "source": [
    "<div style=\"border: 1px solid RGB(0,150,250);\" >\n",
    "<h3 style=\"margin: auto; padding: 20px; color: RGB(0,150,250); \">2.3 - Analyse exploratoire du fichier aide alimentaire</h3>\n",
    "</div>"
   ]
  },
  {
   "cell_type": "code",
   "execution_count": 15,
   "id": "702f6322",
   "metadata": {},
   "outputs": [
    {
     "name": "stdout",
     "output_type": "stream",
     "text": [
      "Le tableau comporte 1475 observation(s) ou article(s).\n",
      "Le tableau comporte 4 colonne(s).\n"
     ]
    }
   ],
   "source": [
    "#Afficher les dimensions du dataset\n",
    "print(\"Le tableau comporte {} observation(s) ou article(s).\".format(aide_alimentaire.shape[0]))\n",
    "print(\"Le tableau comporte {} colonne(s).\".format(aide_alimentaire.shape[1]))"
   ]
  },
  {
   "cell_type": "code",
   "execution_count": 16,
   "id": "8fead3f9",
   "metadata": {},
   "outputs": [
    {
     "name": "stdout",
     "output_type": "stream",
     "text": [
      "Le tableau comporte 4 colonne(s).\n"
     ]
    }
   ],
   "source": [
    "#Consulter le nombre de colonnes\n",
    "print(\"Le tableau comporte {} colonne(s).\".format(aide_alimentaire.shape[1]))"
   ]
  },
  {
   "cell_type": "code",
   "execution_count": 17,
   "id": "443ec245",
   "metadata": {},
   "outputs": [
    {
     "data": {
      "text/html": [
       "<div>\n",
       "<style scoped>\n",
       "    .dataframe tbody tr th:only-of-type {\n",
       "        vertical-align: middle;\n",
       "    }\n",
       "\n",
       "    .dataframe tbody tr th {\n",
       "        vertical-align: top;\n",
       "    }\n",
       "\n",
       "    .dataframe thead th {\n",
       "        text-align: right;\n",
       "    }\n",
       "</style>\n",
       "<table border=\"1\" class=\"dataframe\">\n",
       "  <thead>\n",
       "    <tr style=\"text-align: right;\">\n",
       "      <th></th>\n",
       "      <th>Pays bénéficiaire</th>\n",
       "      <th>Année</th>\n",
       "      <th>Produit</th>\n",
       "      <th>Valeur</th>\n",
       "    </tr>\n",
       "  </thead>\n",
       "  <tbody>\n",
       "    <tr>\n",
       "      <th>0</th>\n",
       "      <td>Afghanistan</td>\n",
       "      <td>2013</td>\n",
       "      <td>Autres non-céréales</td>\n",
       "      <td>682</td>\n",
       "    </tr>\n",
       "    <tr>\n",
       "      <th>1</th>\n",
       "      <td>Afghanistan</td>\n",
       "      <td>2014</td>\n",
       "      <td>Autres non-céréales</td>\n",
       "      <td>335</td>\n",
       "    </tr>\n",
       "    <tr>\n",
       "      <th>2</th>\n",
       "      <td>Afghanistan</td>\n",
       "      <td>2013</td>\n",
       "      <td>Blé et Farin</td>\n",
       "      <td>39224</td>\n",
       "    </tr>\n",
       "    <tr>\n",
       "      <th>3</th>\n",
       "      <td>Afghanistan</td>\n",
       "      <td>2014</td>\n",
       "      <td>Blé et Farin</td>\n",
       "      <td>15160</td>\n",
       "    </tr>\n",
       "    <tr>\n",
       "      <th>4</th>\n",
       "      <td>Afghanistan</td>\n",
       "      <td>2013</td>\n",
       "      <td>Céréales</td>\n",
       "      <td>40504</td>\n",
       "    </tr>\n",
       "  </tbody>\n",
       "</table>\n",
       "</div>"
      ],
      "text/plain": [
       "  Pays bénéficiaire  Année              Produit  Valeur\n",
       "0       Afghanistan   2013  Autres non-céréales     682\n",
       "1       Afghanistan   2014  Autres non-céréales     335\n",
       "2       Afghanistan   2013         Blé et Farin   39224\n",
       "3       Afghanistan   2014         Blé et Farin   15160\n",
       "4       Afghanistan   2013             Céréales   40504"
      ]
     },
     "execution_count": 17,
     "metadata": {},
     "output_type": "execute_result"
    }
   ],
   "source": [
    "#Affichage les 5 premières lignes de la table\n",
    "aide_alimentaire.head()"
   ]
  },
  {
   "cell_type": "code",
   "execution_count": 18,
   "id": "af47212b",
   "metadata": {},
   "outputs": [],
   "source": [
    "#changement du nom de la colonne Pays bénéficiaire par Zone\n",
    "aide_alimentaire.rename(columns={'Pays bénéficiaire': 'Zone'}, inplace=True)"
   ]
  },
  {
   "cell_type": "code",
   "execution_count": 19,
   "id": "c32cd1d8",
   "metadata": {},
   "outputs": [],
   "source": [
    "#Multiplication de la colonne Aide_alimentaire qui contient des tonnes par 1000 pour avoir des kg\n",
    "aide_alimentaire['Valeur'] = aide_alimentaire['Valeur']*1000"
   ]
  },
  {
   "cell_type": "code",
   "execution_count": 20,
   "id": "d951d8df",
   "metadata": {},
   "outputs": [
    {
     "data": {
      "text/html": [
       "<div>\n",
       "<style scoped>\n",
       "    .dataframe tbody tr th:only-of-type {\n",
       "        vertical-align: middle;\n",
       "    }\n",
       "\n",
       "    .dataframe tbody tr th {\n",
       "        vertical-align: top;\n",
       "    }\n",
       "\n",
       "    .dataframe thead th {\n",
       "        text-align: right;\n",
       "    }\n",
       "</style>\n",
       "<table border=\"1\" class=\"dataframe\">\n",
       "  <thead>\n",
       "    <tr style=\"text-align: right;\">\n",
       "      <th></th>\n",
       "      <th>Zone</th>\n",
       "      <th>Année</th>\n",
       "      <th>Produit</th>\n",
       "      <th>Valeur</th>\n",
       "    </tr>\n",
       "  </thead>\n",
       "  <tbody>\n",
       "    <tr>\n",
       "      <th>0</th>\n",
       "      <td>Afghanistan</td>\n",
       "      <td>2013</td>\n",
       "      <td>Autres non-céréales</td>\n",
       "      <td>682000</td>\n",
       "    </tr>\n",
       "    <tr>\n",
       "      <th>1</th>\n",
       "      <td>Afghanistan</td>\n",
       "      <td>2014</td>\n",
       "      <td>Autres non-céréales</td>\n",
       "      <td>335000</td>\n",
       "    </tr>\n",
       "    <tr>\n",
       "      <th>2</th>\n",
       "      <td>Afghanistan</td>\n",
       "      <td>2013</td>\n",
       "      <td>Blé et Farin</td>\n",
       "      <td>39224000</td>\n",
       "    </tr>\n",
       "    <tr>\n",
       "      <th>3</th>\n",
       "      <td>Afghanistan</td>\n",
       "      <td>2014</td>\n",
       "      <td>Blé et Farin</td>\n",
       "      <td>15160000</td>\n",
       "    </tr>\n",
       "    <tr>\n",
       "      <th>4</th>\n",
       "      <td>Afghanistan</td>\n",
       "      <td>2013</td>\n",
       "      <td>Céréales</td>\n",
       "      <td>40504000</td>\n",
       "    </tr>\n",
       "  </tbody>\n",
       "</table>\n",
       "</div>"
      ],
      "text/plain": [
       "          Zone  Année              Produit    Valeur\n",
       "0  Afghanistan   2013  Autres non-céréales    682000\n",
       "1  Afghanistan   2014  Autres non-céréales    335000\n",
       "2  Afghanistan   2013         Blé et Farin  39224000\n",
       "3  Afghanistan   2014         Blé et Farin  15160000\n",
       "4  Afghanistan   2013             Céréales  40504000"
      ]
     },
     "execution_count": 20,
     "metadata": {},
     "output_type": "execute_result"
    }
   ],
   "source": [
    "#Affichage les 5 premières lignes de la table\n",
    "aide_alimentaire.head()"
   ]
  },
  {
   "cell_type": "markdown",
   "id": "eeae9043",
   "metadata": {},
   "source": [
    "<div style=\"border: 1px solid RGB(0,150,250);\" >\n",
    "<h3 style=\"margin: auto; padding: 20px; color: RGB(0,150,250); \">2.3 - Analyse exploratoire du fichier sous nutrition</h3>\n",
    "</div>"
   ]
  },
  {
   "cell_type": "code",
   "execution_count": 21,
   "id": "882add3d",
   "metadata": {},
   "outputs": [
    {
     "name": "stdout",
     "output_type": "stream",
     "text": [
      "Le tableau comporte 1218 observation(s) ou article(s).\n",
      "Le tableau comporte 3 colonne(s).\n"
     ]
    }
   ],
   "source": [
    "#Afficher les dimensions du dataset\n",
    "print(\"Le tableau comporte {} observation(s) ou article(s).\".format(sous_nutrition.shape[0]))\n",
    "print(\"Le tableau comporte {} colonne(s).\".format(sous_nutrition.shape[1]))"
   ]
  },
  {
   "cell_type": "code",
   "execution_count": 22,
   "id": "70c1a7a9",
   "metadata": {},
   "outputs": [
    {
     "name": "stdout",
     "output_type": "stream",
     "text": [
      "Le tableau comporte 3 colonne(s).\n"
     ]
    }
   ],
   "source": [
    "#Consulter le nombre de colonnes\n",
    "print(\"Le tableau comporte {} colonne(s).\".format(sous_nutrition.shape[1]))"
   ]
  },
  {
   "cell_type": "code",
   "execution_count": 23,
   "id": "5c6469e5",
   "metadata": {},
   "outputs": [
    {
     "data": {
      "text/html": [
       "<div>\n",
       "<style scoped>\n",
       "    .dataframe tbody tr th:only-of-type {\n",
       "        vertical-align: middle;\n",
       "    }\n",
       "\n",
       "    .dataframe tbody tr th {\n",
       "        vertical-align: top;\n",
       "    }\n",
       "\n",
       "    .dataframe thead th {\n",
       "        text-align: right;\n",
       "    }\n",
       "</style>\n",
       "<table border=\"1\" class=\"dataframe\">\n",
       "  <thead>\n",
       "    <tr style=\"text-align: right;\">\n",
       "      <th></th>\n",
       "      <th>Zone</th>\n",
       "      <th>Année</th>\n",
       "      <th>Valeur</th>\n",
       "    </tr>\n",
       "  </thead>\n",
       "  <tbody>\n",
       "    <tr>\n",
       "      <th>0</th>\n",
       "      <td>Afghanistan</td>\n",
       "      <td>2012-2014</td>\n",
       "      <td>8.6</td>\n",
       "    </tr>\n",
       "    <tr>\n",
       "      <th>1</th>\n",
       "      <td>Afghanistan</td>\n",
       "      <td>2013-2015</td>\n",
       "      <td>8.8</td>\n",
       "    </tr>\n",
       "    <tr>\n",
       "      <th>2</th>\n",
       "      <td>Afghanistan</td>\n",
       "      <td>2014-2016</td>\n",
       "      <td>8.9</td>\n",
       "    </tr>\n",
       "    <tr>\n",
       "      <th>3</th>\n",
       "      <td>Afghanistan</td>\n",
       "      <td>2015-2017</td>\n",
       "      <td>9.7</td>\n",
       "    </tr>\n",
       "    <tr>\n",
       "      <th>4</th>\n",
       "      <td>Afghanistan</td>\n",
       "      <td>2016-2018</td>\n",
       "      <td>10.5</td>\n",
       "    </tr>\n",
       "  </tbody>\n",
       "</table>\n",
       "</div>"
      ],
      "text/plain": [
       "          Zone      Année Valeur\n",
       "0  Afghanistan  2012-2014    8.6\n",
       "1  Afghanistan  2013-2015    8.8\n",
       "2  Afghanistan  2014-2016    8.9\n",
       "3  Afghanistan  2015-2017    9.7\n",
       "4  Afghanistan  2016-2018   10.5"
      ]
     },
     "execution_count": 23,
     "metadata": {},
     "output_type": "execute_result"
    }
   ],
   "source": [
    "#Afficher les 5 premières lignes de la table\n",
    "sous_nutrition.head()"
   ]
  },
  {
   "cell_type": "code",
   "execution_count": 24,
   "id": "11b6a6c8",
   "metadata": {},
   "outputs": [],
   "source": [
    "#Conversion de la colonne sous nutrition en numérique\n",
    "sous_nutrition['Valeur'] = pd.to_numeric(sous_nutrition['Valeur'], errors='coerce')"
   ]
  },
  {
   "cell_type": "code",
   "execution_count": 25,
   "id": "d31d2724",
   "metadata": {},
   "outputs": [],
   "source": [
    "#Conversion de la colonne (avec l'argument errors=coerce qui permet de convertir automatiquement les lignes qui ne sont pas des nombres en NaN)\n",
    "#Puis remplacement des NaN en 0\n",
    "sous_nutrition = sous_nutrition.fillna(0)"
   ]
  },
  {
   "cell_type": "code",
   "execution_count": 26,
   "id": "34c98232",
   "metadata": {},
   "outputs": [],
   "source": [
    "#changement du nom de la colonne Valeur par sous_nutrition\n",
    "sous_nutrition.rename(columns={'Valeur': 'Sous_nutrition'}, inplace=True)"
   ]
  },
  {
   "cell_type": "code",
   "execution_count": 27,
   "id": "002110fa",
   "metadata": {},
   "outputs": [],
   "source": [
    "#Multiplication de la colonne sous_nutrition par 1000000\n",
    "sous_nutrition['Sous_nutrition'] = sous_nutrition['Sous_nutrition']*1000000\n",
    "sous_nutrition['Sous_nutrition'] = sous_nutrition['Sous_nutrition'].astype(int)"
   ]
  },
  {
   "cell_type": "code",
   "execution_count": 28,
   "id": "58259b55",
   "metadata": {},
   "outputs": [
    {
     "data": {
      "text/html": [
       "<div>\n",
       "<style scoped>\n",
       "    .dataframe tbody tr th:only-of-type {\n",
       "        vertical-align: middle;\n",
       "    }\n",
       "\n",
       "    .dataframe tbody tr th {\n",
       "        vertical-align: top;\n",
       "    }\n",
       "\n",
       "    .dataframe thead th {\n",
       "        text-align: right;\n",
       "    }\n",
       "</style>\n",
       "<table border=\"1\" class=\"dataframe\">\n",
       "  <thead>\n",
       "    <tr style=\"text-align: right;\">\n",
       "      <th></th>\n",
       "      <th>Zone</th>\n",
       "      <th>Année</th>\n",
       "      <th>Sous_nutrition</th>\n",
       "    </tr>\n",
       "  </thead>\n",
       "  <tbody>\n",
       "    <tr>\n",
       "      <th>0</th>\n",
       "      <td>Afghanistan</td>\n",
       "      <td>2012-2014</td>\n",
       "      <td>8600000</td>\n",
       "    </tr>\n",
       "    <tr>\n",
       "      <th>1</th>\n",
       "      <td>Afghanistan</td>\n",
       "      <td>2013-2015</td>\n",
       "      <td>8800000</td>\n",
       "    </tr>\n",
       "    <tr>\n",
       "      <th>2</th>\n",
       "      <td>Afghanistan</td>\n",
       "      <td>2014-2016</td>\n",
       "      <td>8900000</td>\n",
       "    </tr>\n",
       "    <tr>\n",
       "      <th>3</th>\n",
       "      <td>Afghanistan</td>\n",
       "      <td>2015-2017</td>\n",
       "      <td>9700000</td>\n",
       "    </tr>\n",
       "    <tr>\n",
       "      <th>4</th>\n",
       "      <td>Afghanistan</td>\n",
       "      <td>2016-2018</td>\n",
       "      <td>10500000</td>\n",
       "    </tr>\n",
       "  </tbody>\n",
       "</table>\n",
       "</div>"
      ],
      "text/plain": [
       "          Zone      Année  Sous_nutrition\n",
       "0  Afghanistan  2012-2014         8600000\n",
       "1  Afghanistan  2013-2015         8800000\n",
       "2  Afghanistan  2014-2016         8900000\n",
       "3  Afghanistan  2015-2017         9700000\n",
       "4  Afghanistan  2016-2018        10500000"
      ]
     },
     "execution_count": 28,
     "metadata": {},
     "output_type": "execute_result"
    }
   ],
   "source": [
    "#Afficher les 5 premières lignes de la table\n",
    "sous_nutrition.head()"
   ]
  },
  {
   "cell_type": "markdown",
   "id": "df6dcabd",
   "metadata": {},
   "source": [
    "<div style=\"border: 1px solid RGB(0,150,250);\" >\n",
    "<h3 style=\"margin: auto; padding: 20px; color: RGB(0,150,250); \">3.1 - Proportion de personnes en sous nutrition</h3>\n",
    "</div>"
   ]
  },
  {
   "cell_type": "code",
   "execution_count": 29,
   "id": "a63e1567",
   "metadata": {},
   "outputs": [],
   "source": [
    "# Il faut tout d'abord faire une jointure entre la table population et la table sous nutrition, en ciblant l'année 2017\n",
    "SN_2017= pd.merge(population.loc[population['Année'] == 2017,[\"Zone\", \"Population\"]],\n",
    "                  sous_nutrition.loc[sous_nutrition['Année'] == '2016-2018',[\"Zone\", \"Sous_nutrition\"]],\n",
    "                  on='Zone')"
   ]
  },
  {
   "cell_type": "code",
   "execution_count": 30,
   "id": "731eea39",
   "metadata": {},
   "outputs": [
    {
     "data": {
      "text/html": [
       "<div>\n",
       "<style scoped>\n",
       "    .dataframe tbody tr th:only-of-type {\n",
       "        vertical-align: middle;\n",
       "    }\n",
       "\n",
       "    .dataframe tbody tr th {\n",
       "        vertical-align: top;\n",
       "    }\n",
       "\n",
       "    .dataframe thead th {\n",
       "        text-align: right;\n",
       "    }\n",
       "</style>\n",
       "<table border=\"1\" class=\"dataframe\">\n",
       "  <thead>\n",
       "    <tr style=\"text-align: right;\">\n",
       "      <th></th>\n",
       "      <th>Zone</th>\n",
       "      <th>Population</th>\n",
       "      <th>Sous_nutrition</th>\n",
       "    </tr>\n",
       "  </thead>\n",
       "  <tbody>\n",
       "    <tr>\n",
       "      <th>0</th>\n",
       "      <td>Afghanistan</td>\n",
       "      <td>36296113</td>\n",
       "      <td>10500000</td>\n",
       "    </tr>\n",
       "    <tr>\n",
       "      <th>1</th>\n",
       "      <td>Afrique du Sud</td>\n",
       "      <td>57009756</td>\n",
       "      <td>3100000</td>\n",
       "    </tr>\n",
       "    <tr>\n",
       "      <th>2</th>\n",
       "      <td>Albanie</td>\n",
       "      <td>2884169</td>\n",
       "      <td>100000</td>\n",
       "    </tr>\n",
       "    <tr>\n",
       "      <th>3</th>\n",
       "      <td>Algérie</td>\n",
       "      <td>41389189</td>\n",
       "      <td>1300000</td>\n",
       "    </tr>\n",
       "    <tr>\n",
       "      <th>4</th>\n",
       "      <td>Allemagne</td>\n",
       "      <td>82658409</td>\n",
       "      <td>0</td>\n",
       "    </tr>\n",
       "    <tr>\n",
       "      <th>...</th>\n",
       "      <td>...</td>\n",
       "      <td>...</td>\n",
       "      <td>...</td>\n",
       "    </tr>\n",
       "    <tr>\n",
       "      <th>198</th>\n",
       "      <td>Venezuela (République bolivarienne du)</td>\n",
       "      <td>29402484</td>\n",
       "      <td>8000000</td>\n",
       "    </tr>\n",
       "    <tr>\n",
       "      <th>199</th>\n",
       "      <td>Viet Nam</td>\n",
       "      <td>94600648</td>\n",
       "      <td>6500000</td>\n",
       "    </tr>\n",
       "    <tr>\n",
       "      <th>200</th>\n",
       "      <td>Yémen</td>\n",
       "      <td>27834819</td>\n",
       "      <td>0</td>\n",
       "    </tr>\n",
       "    <tr>\n",
       "      <th>201</th>\n",
       "      <td>Zambie</td>\n",
       "      <td>16853599</td>\n",
       "      <td>0</td>\n",
       "    </tr>\n",
       "    <tr>\n",
       "      <th>202</th>\n",
       "      <td>Zimbabwe</td>\n",
       "      <td>14236595</td>\n",
       "      <td>0</td>\n",
       "    </tr>\n",
       "  </tbody>\n",
       "</table>\n",
       "<p>203 rows × 3 columns</p>\n",
       "</div>"
      ],
      "text/plain": [
       "                                       Zone  Population  Sous_nutrition\n",
       "0                               Afghanistan    36296113        10500000\n",
       "1                            Afrique du Sud    57009756         3100000\n",
       "2                                   Albanie     2884169          100000\n",
       "3                                   Algérie    41389189         1300000\n",
       "4                                 Allemagne    82658409               0\n",
       "..                                      ...         ...             ...\n",
       "198  Venezuela (République bolivarienne du)    29402484         8000000\n",
       "199                                Viet Nam    94600648         6500000\n",
       "200                                   Yémen    27834819               0\n",
       "201                                  Zambie    16853599               0\n",
       "202                                Zimbabwe    14236595               0\n",
       "\n",
       "[203 rows x 3 columns]"
      ]
     },
     "metadata": {},
     "output_type": "display_data"
    }
   ],
   "source": [
    "#Affichage du dataset\n",
    "display(SN_2017)"
   ]
  },
  {
   "cell_type": "code",
   "execution_count": 31,
   "id": "28e2741f",
   "metadata": {},
   "outputs": [
    {
     "name": "stdout",
     "output_type": "stream",
     "text": [
      "Il y a 535700000 personnes en sous nutrition en 2017.\n",
      "Cela représente 7% de la population mondiale en 2017.\n"
     ]
    }
   ],
   "source": [
    "#Calcul et affichage du nombre de personnes en état de sous nutrition\n",
    "print(\"Il y a {} personnes en sous nutrition en 2017.\".format(SN_2017['Sous_nutrition'].sum()))\n",
    "print(\"Cela représente {}% de la population mondiale en 2017.\".format(int((SN_2017['Sous_nutrition'].sum()) / (SN_2017['Population'].sum())*100)))"
   ]
  },
  {
   "cell_type": "markdown",
   "id": "b4134a24",
   "metadata": {},
   "source": [
    "<div style=\"border: 1px solid RGB(0,150,250);\" >\n",
    "<h3 style=\"margin: auto; padding: 20px; color: RGB(0,150,250); \">3.2 - Nombre théorique de personne qui pourrait être nourries</h3>\n",
    "</div>"
   ]
  },
  {
   "cell_type": "code",
   "execution_count": 32,
   "id": "2b63df85",
   "metadata": {},
   "outputs": [
    {
     "name": "stdout",
     "output_type": "stream",
     "text": [
      "Un humain mange en moyenne 2500Kcal/jour.\n"
     ]
    }
   ],
   "source": [
    "#Combien mange en moyenne un être humain ? Source =>\n",
    "print(\"Un humain mange en moyenne 2500Kcal/jour.\")"
   ]
  },
  {
   "cell_type": "code",
   "execution_count": 33,
   "id": "5e3f262d",
   "metadata": {},
   "outputs": [],
   "source": [
    "#On commence par faire une jointure entre le data frame population et Dispo_alimentaire afin d'ajouter dans ce dernier la population\n",
    "popu_dispoAlim = pd.merge(population, dispo_alimentaire, on='Zone', how='inner')\n",
    "popu_dispoAlim = popu_dispoAlim.loc[(popu_dispoAlim['Année'] == 2017), :]"
   ]
  },
  {
   "cell_type": "code",
   "execution_count": 34,
   "id": "4538126c",
   "metadata": {},
   "outputs": [
    {
     "data": {
      "text/html": [
       "<div>\n",
       "<style scoped>\n",
       "    .dataframe tbody tr th:only-of-type {\n",
       "        vertical-align: middle;\n",
       "    }\n",
       "\n",
       "    .dataframe tbody tr th {\n",
       "        vertical-align: top;\n",
       "    }\n",
       "\n",
       "    .dataframe thead th {\n",
       "        text-align: right;\n",
       "    }\n",
       "</style>\n",
       "<table border=\"1\" class=\"dataframe\">\n",
       "  <thead>\n",
       "    <tr style=\"text-align: right;\">\n",
       "      <th></th>\n",
       "      <th>Zone</th>\n",
       "      <th>Année</th>\n",
       "      <th>Population</th>\n",
       "      <th>Produit</th>\n",
       "      <th>Origine</th>\n",
       "      <th>Aliments pour animaux</th>\n",
       "      <th>Autres Utilisations</th>\n",
       "      <th>Disponibilité alimentaire (Kcal/personne/jour)</th>\n",
       "      <th>Disponibilité alimentaire en quantité (kg/personne/an)</th>\n",
       "      <th>Disponibilité de matière grasse en quantité (g/personne/jour)</th>\n",
       "      <th>Disponibilité de protéines en quantité (g/personne/jour)</th>\n",
       "      <th>Disponibilité intérieure</th>\n",
       "      <th>Exportations - Quantité</th>\n",
       "      <th>Importations - Quantité</th>\n",
       "      <th>Nourriture</th>\n",
       "      <th>Pertes</th>\n",
       "      <th>Production</th>\n",
       "      <th>Semences</th>\n",
       "      <th>Traitement</th>\n",
       "      <th>Variation de stock</th>\n",
       "    </tr>\n",
       "  </thead>\n",
       "  <tbody>\n",
       "    <tr>\n",
       "      <th>240</th>\n",
       "      <td>Afghanistan</td>\n",
       "      <td>2017</td>\n",
       "      <td>36296113</td>\n",
       "      <td>Abats Comestible</td>\n",
       "      <td>animale</td>\n",
       "      <td>0.0</td>\n",
       "      <td>0.0</td>\n",
       "      <td>5.0</td>\n",
       "      <td>1.72</td>\n",
       "      <td>0.20</td>\n",
       "      <td>0.77</td>\n",
       "      <td>53000000.0</td>\n",
       "      <td>0.0</td>\n",
       "      <td>0.0</td>\n",
       "      <td>53000000.0</td>\n",
       "      <td>0.0</td>\n",
       "      <td>53000000.0</td>\n",
       "      <td>0.0</td>\n",
       "      <td>0.0</td>\n",
       "      <td>0.0</td>\n",
       "    </tr>\n",
       "    <tr>\n",
       "      <th>241</th>\n",
       "      <td>Afghanistan</td>\n",
       "      <td>2017</td>\n",
       "      <td>36296113</td>\n",
       "      <td>Agrumes, Autres</td>\n",
       "      <td>vegetale</td>\n",
       "      <td>0.0</td>\n",
       "      <td>0.0</td>\n",
       "      <td>1.0</td>\n",
       "      <td>1.29</td>\n",
       "      <td>0.01</td>\n",
       "      <td>0.02</td>\n",
       "      <td>41000000.0</td>\n",
       "      <td>2000000.0</td>\n",
       "      <td>40000000.0</td>\n",
       "      <td>39000000.0</td>\n",
       "      <td>2000000.0</td>\n",
       "      <td>3000000.0</td>\n",
       "      <td>0.0</td>\n",
       "      <td>0.0</td>\n",
       "      <td>0.0</td>\n",
       "    </tr>\n",
       "    <tr>\n",
       "      <th>242</th>\n",
       "      <td>Afghanistan</td>\n",
       "      <td>2017</td>\n",
       "      <td>36296113</td>\n",
       "      <td>Aliments pour enfants</td>\n",
       "      <td>vegetale</td>\n",
       "      <td>0.0</td>\n",
       "      <td>0.0</td>\n",
       "      <td>1.0</td>\n",
       "      <td>0.06</td>\n",
       "      <td>0.01</td>\n",
       "      <td>0.03</td>\n",
       "      <td>2000000.0</td>\n",
       "      <td>0.0</td>\n",
       "      <td>2000000.0</td>\n",
       "      <td>2000000.0</td>\n",
       "      <td>0.0</td>\n",
       "      <td>0.0</td>\n",
       "      <td>0.0</td>\n",
       "      <td>0.0</td>\n",
       "      <td>0.0</td>\n",
       "    </tr>\n",
       "    <tr>\n",
       "      <th>243</th>\n",
       "      <td>Afghanistan</td>\n",
       "      <td>2017</td>\n",
       "      <td>36296113</td>\n",
       "      <td>Ananas</td>\n",
       "      <td>vegetale</td>\n",
       "      <td>0.0</td>\n",
       "      <td>0.0</td>\n",
       "      <td>0.0</td>\n",
       "      <td>0.00</td>\n",
       "      <td>0.00</td>\n",
       "      <td>0.00</td>\n",
       "      <td>0.0</td>\n",
       "      <td>0.0</td>\n",
       "      <td>0.0</td>\n",
       "      <td>0.0</td>\n",
       "      <td>0.0</td>\n",
       "      <td>0.0</td>\n",
       "      <td>0.0</td>\n",
       "      <td>0.0</td>\n",
       "      <td>0.0</td>\n",
       "    </tr>\n",
       "    <tr>\n",
       "      <th>244</th>\n",
       "      <td>Afghanistan</td>\n",
       "      <td>2017</td>\n",
       "      <td>36296113</td>\n",
       "      <td>Bananes</td>\n",
       "      <td>vegetale</td>\n",
       "      <td>0.0</td>\n",
       "      <td>0.0</td>\n",
       "      <td>4.0</td>\n",
       "      <td>2.70</td>\n",
       "      <td>0.02</td>\n",
       "      <td>0.05</td>\n",
       "      <td>82000000.0</td>\n",
       "      <td>0.0</td>\n",
       "      <td>82000000.0</td>\n",
       "      <td>82000000.0</td>\n",
       "      <td>0.0</td>\n",
       "      <td>0.0</td>\n",
       "      <td>0.0</td>\n",
       "      <td>0.0</td>\n",
       "      <td>0.0</td>\n",
       "    </tr>\n",
       "    <tr>\n",
       "      <th>...</th>\n",
       "      <td>...</td>\n",
       "      <td>...</td>\n",
       "      <td>...</td>\n",
       "      <td>...</td>\n",
       "      <td>...</td>\n",
       "      <td>...</td>\n",
       "      <td>...</td>\n",
       "      <td>...</td>\n",
       "      <td>...</td>\n",
       "      <td>...</td>\n",
       "      <td>...</td>\n",
       "      <td>...</td>\n",
       "      <td>...</td>\n",
       "      <td>...</td>\n",
       "      <td>...</td>\n",
       "      <td>...</td>\n",
       "      <td>...</td>\n",
       "      <td>...</td>\n",
       "      <td>...</td>\n",
       "      <td>...</td>\n",
       "    </tr>\n",
       "    <tr>\n",
       "      <th>92399</th>\n",
       "      <td>Zimbabwe</td>\n",
       "      <td>2017</td>\n",
       "      <td>14236595</td>\n",
       "      <td>Viande de Suides</td>\n",
       "      <td>animale</td>\n",
       "      <td>0.0</td>\n",
       "      <td>0.0</td>\n",
       "      <td>24.0</td>\n",
       "      <td>2.65</td>\n",
       "      <td>2.25</td>\n",
       "      <td>0.83</td>\n",
       "      <td>37000000.0</td>\n",
       "      <td>0.0</td>\n",
       "      <td>6000000.0</td>\n",
       "      <td>37000000.0</td>\n",
       "      <td>0.0</td>\n",
       "      <td>32000000.0</td>\n",
       "      <td>0.0</td>\n",
       "      <td>0.0</td>\n",
       "      <td>0.0</td>\n",
       "    </tr>\n",
       "    <tr>\n",
       "      <th>92400</th>\n",
       "      <td>Zimbabwe</td>\n",
       "      <td>2017</td>\n",
       "      <td>14236595</td>\n",
       "      <td>Viande de Volailles</td>\n",
       "      <td>animale</td>\n",
       "      <td>0.0</td>\n",
       "      <td>0.0</td>\n",
       "      <td>17.0</td>\n",
       "      <td>4.97</td>\n",
       "      <td>1.05</td>\n",
       "      <td>1.69</td>\n",
       "      <td>70000000.0</td>\n",
       "      <td>0.0</td>\n",
       "      <td>6000000.0</td>\n",
       "      <td>70000000.0</td>\n",
       "      <td>0.0</td>\n",
       "      <td>64000000.0</td>\n",
       "      <td>0.0</td>\n",
       "      <td>0.0</td>\n",
       "      <td>0.0</td>\n",
       "    </tr>\n",
       "    <tr>\n",
       "      <th>92401</th>\n",
       "      <td>Zimbabwe</td>\n",
       "      <td>2017</td>\n",
       "      <td>14236595</td>\n",
       "      <td>Viande, Autre</td>\n",
       "      <td>animale</td>\n",
       "      <td>0.0</td>\n",
       "      <td>1000000.0</td>\n",
       "      <td>7.0</td>\n",
       "      <td>2.29</td>\n",
       "      <td>0.21</td>\n",
       "      <td>1.12</td>\n",
       "      <td>34000000.0</td>\n",
       "      <td>3000000.0</td>\n",
       "      <td>1000000.0</td>\n",
       "      <td>32000000.0</td>\n",
       "      <td>0.0</td>\n",
       "      <td>36000000.0</td>\n",
       "      <td>0.0</td>\n",
       "      <td>0.0</td>\n",
       "      <td>0.0</td>\n",
       "    </tr>\n",
       "    <tr>\n",
       "      <th>92402</th>\n",
       "      <td>Zimbabwe</td>\n",
       "      <td>2017</td>\n",
       "      <td>14236595</td>\n",
       "      <td>Vin</td>\n",
       "      <td>vegetale</td>\n",
       "      <td>0.0</td>\n",
       "      <td>0.0</td>\n",
       "      <td>1.0</td>\n",
       "      <td>0.27</td>\n",
       "      <td>0.00</td>\n",
       "      <td>0.00</td>\n",
       "      <td>4000000.0</td>\n",
       "      <td>0.0</td>\n",
       "      <td>2000000.0</td>\n",
       "      <td>4000000.0</td>\n",
       "      <td>0.0</td>\n",
       "      <td>2000000.0</td>\n",
       "      <td>0.0</td>\n",
       "      <td>0.0</td>\n",
       "      <td>0.0</td>\n",
       "    </tr>\n",
       "    <tr>\n",
       "      <th>92403</th>\n",
       "      <td>Zimbabwe</td>\n",
       "      <td>2017</td>\n",
       "      <td>14236595</td>\n",
       "      <td>Épices, Autres</td>\n",
       "      <td>vegetale</td>\n",
       "      <td>0.0</td>\n",
       "      <td>0.0</td>\n",
       "      <td>1.0</td>\n",
       "      <td>0.06</td>\n",
       "      <td>0.02</td>\n",
       "      <td>0.02</td>\n",
       "      <td>1000000.0</td>\n",
       "      <td>0.0</td>\n",
       "      <td>0.0</td>\n",
       "      <td>1000000.0</td>\n",
       "      <td>0.0</td>\n",
       "      <td>1000000.0</td>\n",
       "      <td>0.0</td>\n",
       "      <td>0.0</td>\n",
       "      <td>0.0</td>\n",
       "    </tr>\n",
       "  </tbody>\n",
       "</table>\n",
       "<p>15416 rows × 20 columns</p>\n",
       "</div>"
      ],
      "text/plain": [
       "              Zone  Année  Population                Produit   Origine  \\\n",
       "240    Afghanistan   2017    36296113       Abats Comestible   animale   \n",
       "241    Afghanistan   2017    36296113        Agrumes, Autres  vegetale   \n",
       "242    Afghanistan   2017    36296113  Aliments pour enfants  vegetale   \n",
       "243    Afghanistan   2017    36296113                 Ananas  vegetale   \n",
       "244    Afghanistan   2017    36296113                Bananes  vegetale   \n",
       "...            ...    ...         ...                    ...       ...   \n",
       "92399     Zimbabwe   2017    14236595       Viande de Suides   animale   \n",
       "92400     Zimbabwe   2017    14236595    Viande de Volailles   animale   \n",
       "92401     Zimbabwe   2017    14236595          Viande, Autre   animale   \n",
       "92402     Zimbabwe   2017    14236595                    Vin  vegetale   \n",
       "92403     Zimbabwe   2017    14236595         Épices, Autres  vegetale   \n",
       "\n",
       "       Aliments pour animaux  Autres Utilisations  \\\n",
       "240                      0.0                  0.0   \n",
       "241                      0.0                  0.0   \n",
       "242                      0.0                  0.0   \n",
       "243                      0.0                  0.0   \n",
       "244                      0.0                  0.0   \n",
       "...                      ...                  ...   \n",
       "92399                    0.0                  0.0   \n",
       "92400                    0.0                  0.0   \n",
       "92401                    0.0            1000000.0   \n",
       "92402                    0.0                  0.0   \n",
       "92403                    0.0                  0.0   \n",
       "\n",
       "       Disponibilité alimentaire (Kcal/personne/jour)  \\\n",
       "240                                               5.0   \n",
       "241                                               1.0   \n",
       "242                                               1.0   \n",
       "243                                               0.0   \n",
       "244                                               4.0   \n",
       "...                                               ...   \n",
       "92399                                            24.0   \n",
       "92400                                            17.0   \n",
       "92401                                             7.0   \n",
       "92402                                             1.0   \n",
       "92403                                             1.0   \n",
       "\n",
       "       Disponibilité alimentaire en quantité (kg/personne/an)  \\\n",
       "240                                                 1.72        \n",
       "241                                                 1.29        \n",
       "242                                                 0.06        \n",
       "243                                                 0.00        \n",
       "244                                                 2.70        \n",
       "...                                                  ...        \n",
       "92399                                               2.65        \n",
       "92400                                               4.97        \n",
       "92401                                               2.29        \n",
       "92402                                               0.27        \n",
       "92403                                               0.06        \n",
       "\n",
       "       Disponibilité de matière grasse en quantité (g/personne/jour)  \\\n",
       "240                                                 0.20               \n",
       "241                                                 0.01               \n",
       "242                                                 0.01               \n",
       "243                                                 0.00               \n",
       "244                                                 0.02               \n",
       "...                                                  ...               \n",
       "92399                                               2.25               \n",
       "92400                                               1.05               \n",
       "92401                                               0.21               \n",
       "92402                                               0.00               \n",
       "92403                                               0.02               \n",
       "\n",
       "       Disponibilité de protéines en quantité (g/personne/jour)  \\\n",
       "240                                                 0.77          \n",
       "241                                                 0.02          \n",
       "242                                                 0.03          \n",
       "243                                                 0.00          \n",
       "244                                                 0.05          \n",
       "...                                                  ...          \n",
       "92399                                               0.83          \n",
       "92400                                               1.69          \n",
       "92401                                               1.12          \n",
       "92402                                               0.00          \n",
       "92403                                               0.02          \n",
       "\n",
       "       Disponibilité intérieure  Exportations - Quantité  \\\n",
       "240                  53000000.0                      0.0   \n",
       "241                  41000000.0                2000000.0   \n",
       "242                   2000000.0                      0.0   \n",
       "243                         0.0                      0.0   \n",
       "244                  82000000.0                      0.0   \n",
       "...                         ...                      ...   \n",
       "92399                37000000.0                      0.0   \n",
       "92400                70000000.0                      0.0   \n",
       "92401                34000000.0                3000000.0   \n",
       "92402                 4000000.0                      0.0   \n",
       "92403                 1000000.0                      0.0   \n",
       "\n",
       "       Importations - Quantité  Nourriture     Pertes  Production  Semences  \\\n",
       "240                        0.0  53000000.0        0.0  53000000.0       0.0   \n",
       "241                 40000000.0  39000000.0  2000000.0   3000000.0       0.0   \n",
       "242                  2000000.0   2000000.0        0.0         0.0       0.0   \n",
       "243                        0.0         0.0        0.0         0.0       0.0   \n",
       "244                 82000000.0  82000000.0        0.0         0.0       0.0   \n",
       "...                        ...         ...        ...         ...       ...   \n",
       "92399                6000000.0  37000000.0        0.0  32000000.0       0.0   \n",
       "92400                6000000.0  70000000.0        0.0  64000000.0       0.0   \n",
       "92401                1000000.0  32000000.0        0.0  36000000.0       0.0   \n",
       "92402                2000000.0   4000000.0        0.0   2000000.0       0.0   \n",
       "92403                      0.0   1000000.0        0.0   1000000.0       0.0   \n",
       "\n",
       "       Traitement  Variation de stock  \n",
       "240           0.0                 0.0  \n",
       "241           0.0                 0.0  \n",
       "242           0.0                 0.0  \n",
       "243           0.0                 0.0  \n",
       "244           0.0                 0.0  \n",
       "...           ...                 ...  \n",
       "92399         0.0                 0.0  \n",
       "92400         0.0                 0.0  \n",
       "92401         0.0                 0.0  \n",
       "92402         0.0                 0.0  \n",
       "92403         0.0                 0.0  \n",
       "\n",
       "[15416 rows x 20 columns]"
      ]
     },
     "metadata": {},
     "output_type": "display_data"
    }
   ],
   "source": [
    "#Affichage du nouveau dataframe\n",
    "display(popu_dispoAlim)"
   ]
  },
  {
   "cell_type": "code",
   "execution_count": 35,
   "id": "5305ba25",
   "metadata": {},
   "outputs": [],
   "source": [
    "#Création de la colonne dispo_kcal avec calcul des kcal disponibles mondialement\n",
    "popu_dispoAlim['dispo_kcal'] = popu_dispoAlim['Population'] * popu_dispoAlim['Disponibilité alimentaire (Kcal/personne/jour)']"
   ]
  },
  {
   "cell_type": "code",
   "execution_count": 36,
   "id": "a6d4af90",
   "metadata": {},
   "outputs": [
    {
     "name": "stdout",
     "output_type": "stream",
     "text": [
      "Il y avait 8367593843 humains pouvant etre nourris en 2017.\n",
      "Cela représente 110% de la population mondiale en 2017.\n"
     ]
    }
   ],
   "source": [
    "#Calcul du nombre d'humains pouvant être nourris\n",
    "print(\"Il y avait {} humains pouvant etre nourris en 2017.\".format(int((popu_dispoAlim['dispo_kcal'].sum()) / 2500)))\n",
    "print(\"Cela représente {}% de la population mondiale en 2017.\".format(int((popu_dispoAlim['dispo_kcal'].sum() / 2500) / (SN_2017['Population'].sum())*100)))"
   ]
  },
  {
   "cell_type": "markdown",
   "id": "e97c8886",
   "metadata": {},
   "source": [
    "<div style=\"border: 1px solid RGB(0,150,250);\" >\n",
    "<h3 style=\"margin: auto; padding: 20px; color: RGB(0,150,250); \">3.3 - Nombre théorique de personne qui pourrait être nourrie avec les produits végétaux</h3>\n",
    "</div>"
   ]
  },
  {
   "cell_type": "code",
   "execution_count": 37,
   "id": "c2e3c87c",
   "metadata": {},
   "outputs": [],
   "source": [
    "#Transfert des données avec les végétaux dans un nouveau dataframe\n",
    "popu_dispoAlimVege = popu_dispoAlim.loc[(popu_dispoAlim['Origine'] == 'vegetale'), :]"
   ]
  },
  {
   "cell_type": "code",
   "execution_count": 38,
   "id": "534f3ad7",
   "metadata": {},
   "outputs": [
    {
     "name": "stdout",
     "output_type": "stream",
     "text": [
      "Il y avait 17260764197424 kcal/jours disponibles en 2017.\n"
     ]
    }
   ],
   "source": [
    "#Calcul du nombre de kcal disponible pour les végétaux\n",
    "print(\"Il y avait {} kcal/jours disponibles en 2017.\".format(int((popu_dispoAlimVege['dispo_kcal'].sum())))) "
   ]
  },
  {
   "cell_type": "code",
   "execution_count": 39,
   "id": "8c82da41",
   "metadata": {},
   "outputs": [
    {
     "name": "stdout",
     "output_type": "stream",
     "text": [
      "Il y avait 6904305678 humains pouvant etre nourris avec les végétaux en 2017.\n",
      "Cela représente 91% de la population mondiale en 2017.\n"
     ]
    }
   ],
   "source": [
    "#Calcul du nombre d'humains pouvant être nourris avec les végétaux\n",
    "print(\"Il y avait {} humains pouvant etre nourris avec les végétaux en 2017.\".format(int((popu_dispoAlimVege['dispo_kcal'].sum()) / 2500)))\n",
    "print(\"Cela représente {}% de la population mondiale en 2017.\".format(int((popu_dispoAlimVege['dispo_kcal'].sum() / 2500) / (SN_2017['Population'].sum())*100)))"
   ]
  },
  {
   "cell_type": "markdown",
   "id": "cd07afb1",
   "metadata": {},
   "source": [
    "<div style=\"border: 1px solid RGB(0,150,250);\" >\n",
    "<h3 style=\"margin: auto; padding: 20px; color: RGB(0,150,250); \">3.4 - Utilisation de la disponibilité intérieure</h3>\n",
    "</div>"
   ]
  },
  {
   "cell_type": "code",
   "execution_count": 40,
   "id": "71328746",
   "metadata": {},
   "outputs": [
    {
     "name": "stdout",
     "output_type": "stream",
     "text": [
      "En 2017, la disponibilité totale intérieure mondiale était de 9733927000000 Kg.\n"
     ]
    }
   ],
   "source": [
    "#Calcul de la disponibilité totale\n",
    "dispo_totale = (int((popu_dispoAlim['Disponibilité intérieure'].sum())))\n",
    "print(\"En 2017, la disponibilité totale intérieure mondiale était de {} Kg.\".format(int((popu_dispoAlim['Disponibilité intérieure'].sum()))))"
   ]
  },
  {
   "cell_type": "code",
   "execution_count": 41,
   "id": "03248095",
   "metadata": {},
   "outputs": [
    {
     "data": {
      "text/plain": [
       "Text(0.5, 1.0, 'Répartition de la disponibilité intérieure par catégorie')"
      ]
     },
     "execution_count": 41,
     "metadata": {},
     "output_type": "execute_result"
    },
    {
     "data": {
      "image/png": "[encoded data removed]",
      "text/plain": [
       "<Figure size 640x480 with 1 Axes>"
      ]
     },
     "metadata": {},
     "output_type": "display_data"
    }
   ],
   "source": [
    "#création d'une boucle for pour afficher les différentes valeurs en fonction des colonnes aliments pour animaux, pertes, nourritures, \n",
    "APN = ['Aliments pour animaux', 'Pertes', 'Nourriture', 'Autres Utilisations', 'Semences', 'Traitement']\n",
    "PourcentagesAPN = []\n",
    "for element in APN:\n",
    "    resultat = round((popu_dispoAlim[element].sum()) / (popu_dispoAlim['Disponibilité intérieure'].sum()) * 100, 2)\n",
    "    PourcentagesAPN.append(resultat)\n",
    "plt.pie(PourcentagesAPN, labels=APN, autopct='%1.1f%%', startangle=140)\n",
    "plt.title('Répartition de la disponibilité intérieure par catégorie')"
   ]
  },
  {
   "cell_type": "markdown",
   "id": "141d05df",
   "metadata": {},
   "source": [
    "<div style=\"border: 1px solid RGB(0,150,250);\" >\n",
    "<h3 style=\"margin: auto; padding: 20px; color: RGB(0,150,250); \">3.5 - Utilisation des céréales</h3>\n",
    "</div>"
   ]
  },
  {
   "cell_type": "code",
   "execution_count": 42,
   "id": "c27448ff",
   "metadata": {},
   "outputs": [
    {
     "name": "stdout",
     "output_type": "stream",
     "text": [
      "['Abats Comestible', 'Agrumes, Autres', 'Aliments pour enfants', 'Ananas', 'Bananes', 'Beurre, Ghee', 'Bière', 'Blé', 'Boissons Alcooliques', 'Café', 'Coco (Incl Coprah)', 'Crème', 'Céréales, Autres', 'Dattes', 'Edulcorants Autres', 'Feve de Cacao', 'Fruits, Autres', 'Graines de coton', 'Graines de tournesol', 'Graisses Animales Crue', 'Huil Plantes Oleif Autr', 'Huile Graines de Coton', \"Huile d'Arachide\", \"Huile d'Olive\", 'Huile de Colza&Moutarde', 'Huile de Palme', 'Huile de Soja', 'Huile de Sésame', 'Huile de Tournesol', 'Lait - Excl Beurre', 'Légumes, Autres', 'Légumineuses Autres', 'Maïs', 'Miel', 'Millet', 'Miscellanees', 'Noix', 'Oeufs', 'Olives', 'Oranges, Mandarines', 'Orge', 'Plantes Oleiferes, Autre', 'Poissons Eau Douce', 'Poivre', 'Pommes', 'Pommes de Terre', 'Raisin', 'Riz (Eq Blanchi)', 'Sucre Eq Brut', 'Sucre, betterave', 'Sucre, canne', 'Sésame', 'Thé', 'Tomates', \"Viande d'Ovins/Caprins\", 'Viande de Bovins', 'Viande de Volailles', 'Viande, Autre', 'Vin', 'Épices, Autres', 'Alcool, non Comestible', 'Animaux Aquatiques Autre', 'Arachides Decortiquees', 'Avoine', 'Bananes plantains', 'Boissons Fermentés', 'Cephalopodes', 'Citrons & Limes', 'Crustacés', 'Girofles', 'Graines Colza/Moutarde', 'Haricots', 'Huile de Coco', 'Huile de Germe de Maïs', 'Huile de Palmistes', 'Huiles de Foie de Poisso', 'Huiles de Poissons', 'Ignames', 'Manioc', 'Mollusques, Autres', 'Oignons', 'Palmistes', 'Pamplemousse', 'Patates douces', 'Perciform', 'Piments', 'Plantes Aquatiques', 'Pois', 'Poissons Marins, Autres', 'Poissons Pelagiques', 'Racines nda', 'Seigle', 'Soja', 'Sorgho', 'Viande de Suides', 'Huile de Son de Riz', 'Sucre non centrifugé', 'Viande de Anim Aquatiq']\n"
     ]
    }
   ],
   "source": [
    "#Création d'une liste avec toutes les variables\n",
    "liste_variables = popu_dispoAlim['Produit'].unique().tolist()\n",
    "print(liste_variables)\n",
    "cereales = ['Blé', 'Céréales, Autres', 'Maïs', 'Millet', 'Orge', 'Riz (Eq Blanchi)', 'Avoine', 'Seigle', 'Sorgho']"
   ]
  },
  {
   "cell_type": "code",
   "execution_count": 43,
   "id": "5dc5586d",
   "metadata": {},
   "outputs": [],
   "source": [
    "#Création d'un dataframe avec les informations uniquement pour ces céréales\n",
    "popu_dispoAlimCere = popu_dispoAlim[popu_dispoAlim['Produit'].isin(cereales)]"
   ]
  },
  {
   "cell_type": "code",
   "execution_count": 44,
   "id": "8365de95",
   "metadata": {},
   "outputs": [
    {
     "name": "stdout",
     "output_type": "stream",
     "text": [
      "La proporition d'alimentation animale représente 36% des produits céréaliers.\n"
     ]
    }
   ],
   "source": [
    "#Affichage de la proportion d'alimentation animale\n",
    "print(\"La proporition d'alimentation animale représente {}% des produits céréaliers.\".format(int((popu_dispoAlimCere['Aliments pour animaux'].sum()) / (popu_dispoAlimCere['Disponibilité intérieure'].sum())*100)))"
   ]
  },
  {
   "cell_type": "code",
   "execution_count": 45,
   "id": "6f5e93c7",
   "metadata": {},
   "outputs": [
    {
     "name": "stdout",
     "output_type": "stream",
     "text": [
      "La proporition d'alimentation humaine représente 42% des produits céréaliers.\n"
     ]
    }
   ],
   "source": [
    "#Affichage de la proportion d'alimentation humaine\n",
    "print(\"La proporition d'alimentation humaine représente {}% des produits céréaliers.\".format(int((popu_dispoAlimCere['Nourriture'].sum()) / (popu_dispoAlimCere['Disponibilité intérieure'].sum())*100)))"
   ]
  },
  {
   "cell_type": "markdown",
   "id": "a603be79",
   "metadata": {},
   "source": [
    "<div style=\"border: 1px solid RGB(0,150,250);\" >\n",
    "<h3 style=\"margin: auto; padding: 20px; color: RGB(0,150,250); \">3.6 - Pays avec la proportion de personnes sous-alimentée la plus forte en 2017</h3>\n",
    "</div>"
   ]
  },
  {
   "cell_type": "code",
   "execution_count": 46,
   "id": "1884c270",
   "metadata": {},
   "outputs": [],
   "source": [
    "#Création de la colonne proportion par pays\n",
    "SN_2017['Proportion_par_pays_en_%'] = ((SN_2017['Sous_nutrition'] / SN_2017['Population'])*100).astype(int)"
   ]
  },
  {
   "cell_type": "code",
   "execution_count": 47,
   "id": "25a185b6",
   "metadata": {},
   "outputs": [
    {
     "data": {
      "text/html": [
       "<div>\n",
       "<style scoped>\n",
       "    .dataframe tbody tr th:only-of-type {\n",
       "        vertical-align: middle;\n",
       "    }\n",
       "\n",
       "    .dataframe tbody tr th {\n",
       "        vertical-align: top;\n",
       "    }\n",
       "\n",
       "    .dataframe thead th {\n",
       "        text-align: right;\n",
       "    }\n",
       "</style>\n",
       "<table border=\"1\" class=\"dataframe\">\n",
       "  <thead>\n",
       "    <tr style=\"text-align: right;\">\n",
       "      <th></th>\n",
       "      <th>Zone</th>\n",
       "      <th>Population</th>\n",
       "      <th>Sous_nutrition</th>\n",
       "      <th>Proportion_par_pays_en_%</th>\n",
       "    </tr>\n",
       "  </thead>\n",
       "  <tbody>\n",
       "    <tr>\n",
       "      <th>78</th>\n",
       "      <td>Haïti</td>\n",
       "      <td>10982366</td>\n",
       "      <td>5300000</td>\n",
       "      <td>48</td>\n",
       "    </tr>\n",
       "    <tr>\n",
       "      <th>157</th>\n",
       "      <td>République populaire démocratique de Corée</td>\n",
       "      <td>25429825</td>\n",
       "      <td>12000000</td>\n",
       "      <td>47</td>\n",
       "    </tr>\n",
       "    <tr>\n",
       "      <th>108</th>\n",
       "      <td>Madagascar</td>\n",
       "      <td>25570512</td>\n",
       "      <td>10500000</td>\n",
       "      <td>41</td>\n",
       "    </tr>\n",
       "    <tr>\n",
       "      <th>103</th>\n",
       "      <td>Libéria</td>\n",
       "      <td>4702226</td>\n",
       "      <td>1800000</td>\n",
       "      <td>38</td>\n",
       "    </tr>\n",
       "    <tr>\n",
       "      <th>100</th>\n",
       "      <td>Lesotho</td>\n",
       "      <td>2091534</td>\n",
       "      <td>800000</td>\n",
       "      <td>38</td>\n",
       "    </tr>\n",
       "    <tr>\n",
       "      <th>183</th>\n",
       "      <td>Tchad</td>\n",
       "      <td>15016753</td>\n",
       "      <td>5700000</td>\n",
       "      <td>37</td>\n",
       "    </tr>\n",
       "    <tr>\n",
       "      <th>161</th>\n",
       "      <td>Rwanda</td>\n",
       "      <td>11980961</td>\n",
       "      <td>4200000</td>\n",
       "      <td>35</td>\n",
       "    </tr>\n",
       "    <tr>\n",
       "      <th>121</th>\n",
       "      <td>Mozambique</td>\n",
       "      <td>28649018</td>\n",
       "      <td>9400000</td>\n",
       "      <td>32</td>\n",
       "    </tr>\n",
       "    <tr>\n",
       "      <th>186</th>\n",
       "      <td>Timor-Leste</td>\n",
       "      <td>1243258</td>\n",
       "      <td>400000</td>\n",
       "      <td>32</td>\n",
       "    </tr>\n",
       "    <tr>\n",
       "      <th>0</th>\n",
       "      <td>Afghanistan</td>\n",
       "      <td>36296113</td>\n",
       "      <td>10500000</td>\n",
       "      <td>28</td>\n",
       "    </tr>\n",
       "  </tbody>\n",
       "</table>\n",
       "</div>"
      ],
      "text/plain": [
       "                                           Zone  Population  Sous_nutrition  \\\n",
       "78                                        Haïti    10982366         5300000   \n",
       "157  République populaire démocratique de Corée    25429825        12000000   \n",
       "108                                  Madagascar    25570512        10500000   \n",
       "103                                     Libéria     4702226         1800000   \n",
       "100                                     Lesotho     2091534          800000   \n",
       "183                                       Tchad    15016753         5700000   \n",
       "161                                      Rwanda    11980961         4200000   \n",
       "121                                  Mozambique    28649018         9400000   \n",
       "186                                 Timor-Leste     1243258          400000   \n",
       "0                                   Afghanistan    36296113        10500000   \n",
       "\n",
       "     Proportion_par_pays_en_%  \n",
       "78                         48  \n",
       "157                        47  \n",
       "108                        41  \n",
       "103                        38  \n",
       "100                        38  \n",
       "183                        37  \n",
       "161                        35  \n",
       "121                        32  \n",
       "186                        32  \n",
       "0                          28  "
      ]
     },
     "execution_count": 47,
     "metadata": {},
     "output_type": "execute_result"
    }
   ],
   "source": [
    "#affichage après trie des 10 pires pays\n",
    "SN_2017.sort_values(by='Proportion_par_pays_en_%', ascending=False).head(10)"
   ]
  },
  {
   "cell_type": "markdown",
   "id": "4f610008",
   "metadata": {},
   "source": [
    "<div style=\"border: 1px solid RGB(0,150,250);\" >\n",
    "<h3 style=\"margin: auto; padding: 20px; color: RGB(0,150,250); \">3.7 - Pays qui ont le plus bénéficié d'aide alimentaire depuis 2013</h3>\n",
    "</div>"
   ]
  },
  {
   "cell_type": "code",
   "execution_count": 48,
   "id": "ff1b24a3",
   "metadata": {},
   "outputs": [],
   "source": [
    "#calcul du total de l'aide alimentaire par pays\n",
    "total_aide = aide_alimentaire.groupby('Zone')['Valeur'].sum().reset_index()"
   ]
  },
  {
   "cell_type": "code",
   "execution_count": 49,
   "id": "ee1ac6fb",
   "metadata": {},
   "outputs": [
    {
     "data": {
      "text/html": [
       "<div>\n",
       "<style scoped>\n",
       "    .dataframe tbody tr th:only-of-type {\n",
       "        vertical-align: middle;\n",
       "    }\n",
       "\n",
       "    .dataframe tbody tr th {\n",
       "        vertical-align: top;\n",
       "    }\n",
       "\n",
       "    .dataframe thead th {\n",
       "        text-align: right;\n",
       "    }\n",
       "</style>\n",
       "<table border=\"1\" class=\"dataframe\">\n",
       "  <thead>\n",
       "    <tr style=\"text-align: right;\">\n",
       "      <th></th>\n",
       "      <th>Zone</th>\n",
       "      <th>Valeur</th>\n",
       "    </tr>\n",
       "  </thead>\n",
       "  <tbody>\n",
       "    <tr>\n",
       "      <th>50</th>\n",
       "      <td>République arabe syrienne</td>\n",
       "      <td>1858943000</td>\n",
       "    </tr>\n",
       "    <tr>\n",
       "      <th>75</th>\n",
       "      <td>Éthiopie</td>\n",
       "      <td>1381294000</td>\n",
       "    </tr>\n",
       "    <tr>\n",
       "      <th>70</th>\n",
       "      <td>Yémen</td>\n",
       "      <td>1206484000</td>\n",
       "    </tr>\n",
       "    <tr>\n",
       "      <th>61</th>\n",
       "      <td>Soudan du Sud</td>\n",
       "      <td>695248000</td>\n",
       "    </tr>\n",
       "    <tr>\n",
       "      <th>60</th>\n",
       "      <td>Soudan</td>\n",
       "      <td>669784000</td>\n",
       "    </tr>\n",
       "    <tr>\n",
       "      <th>30</th>\n",
       "      <td>Kenya</td>\n",
       "      <td>552836000</td>\n",
       "    </tr>\n",
       "    <tr>\n",
       "      <th>3</th>\n",
       "      <td>Bangladesh</td>\n",
       "      <td>348188000</td>\n",
       "    </tr>\n",
       "    <tr>\n",
       "      <th>59</th>\n",
       "      <td>Somalie</td>\n",
       "      <td>292678000</td>\n",
       "    </tr>\n",
       "    <tr>\n",
       "      <th>53</th>\n",
       "      <td>République démocratique du Congo</td>\n",
       "      <td>288502000</td>\n",
       "    </tr>\n",
       "    <tr>\n",
       "      <th>43</th>\n",
       "      <td>Niger</td>\n",
       "      <td>276344000</td>\n",
       "    </tr>\n",
       "  </tbody>\n",
       "</table>\n",
       "</div>"
      ],
      "text/plain": [
       "                                Zone      Valeur\n",
       "50         République arabe syrienne  1858943000\n",
       "75                          Éthiopie  1381294000\n",
       "70                             Yémen  1206484000\n",
       "61                     Soudan du Sud   695248000\n",
       "60                            Soudan   669784000\n",
       "30                             Kenya   552836000\n",
       "3                         Bangladesh   348188000\n",
       "59                           Somalie   292678000\n",
       "53  République démocratique du Congo   288502000\n",
       "43                             Niger   276344000"
      ]
     },
     "execution_count": 49,
     "metadata": {},
     "output_type": "execute_result"
    }
   ],
   "source": [
    "#affichage après trie des 10 pays qui ont bénéficié le plus de l'aide alimentaire\n",
    "total_aide.sort_values(by='Valeur', ascending=False).head(10)"
   ]
  },
  {
   "cell_type": "markdown",
   "id": "a361ce61",
   "metadata": {},
   "source": [
    "<div style=\"border: 1px solid RGB(0,150,250);\" >\n",
    "<h3 style=\"margin: auto; padding: 20px; color: RGB(0,150,250); \">3.8 - Evolution des 5 pays qui ont le plus bénéficiés de l'aide alimentaire entre 2013 et 2016</h3>\n",
    "</div>"
   ]
  },
  {
   "cell_type": "code",
   "execution_count": 50,
   "id": "09d55114",
   "metadata": {},
   "outputs": [],
   "source": [
    "#Création d'un dataframe avec la zone, l'année et l'aide alimentaire puis groupby sur zone et année \n",
    "aide_alimgroup = aide_alimentaire.groupby(['Zone', 'Année']).agg({'Valeur': 'sum'}).reset_index()"
   ]
  },
  {
   "cell_type": "code",
   "execution_count": 51,
   "id": "6bd577b0",
   "metadata": {},
   "outputs": [],
   "source": [
    "#Création d'une liste contenant les 5 pays qui ont le plus bénéficiées de l'aide alimentaire\n",
    "aide_alim5 = ['République arabe syrienne', 'Éthiopie', 'Yémen', 'Soudan du Sud', 'Soudan']"
   ]
  },
  {
   "cell_type": "code",
   "execution_count": 52,
   "id": "41612dbd",
   "metadata": {},
   "outputs": [],
   "source": [
    "#On filtre sur le dataframe avec notre liste\n",
    "aide_alimgroup5 = aide_alimgroup[aide_alimgroup['Zone'].isin(aide_alim5)]"
   ]
  },
  {
   "cell_type": "code",
   "execution_count": 53,
   "id": "5680e72d",
   "metadata": {},
   "outputs": [
    {
     "name": "stderr",
     "output_type": "stream",
     "text": [
      "C:\\Users\\snowf\\anaconda3\\Lib\\site-packages\\seaborn\\_oldcore.py:1119: FutureWarning: use_inf_as_na option is deprecated and will be removed in a future version. Convert inf values to NaN before operating instead.\n",
      "  with pd.option_context('mode.use_inf_as_na', True):\n",
      "C:\\Users\\snowf\\anaconda3\\Lib\\site-packages\\seaborn\\_oldcore.py:1119: FutureWarning: use_inf_as_na option is deprecated and will be removed in a future version. Convert inf values to NaN before operating instead.\n",
      "  with pd.option_context('mode.use_inf_as_na', True):\n"
     ]
    },
    {
     "data": {
      "text/plain": [
       "([<matplotlib.axis.XTick at 0x1a99c3dca50>,\n",
       "  <matplotlib.axis.XTick at 0x1a99c3d2c50>,\n",
       "  <matplotlib.axis.XTick at 0x1a99c433810>,\n",
       "  <matplotlib.axis.XTick at 0x1a99c443c50>],\n",
       " [Text(2013, 0, '2013'),\n",
       "  Text(2014, 0, '2014'),\n",
       "  Text(2015, 0, '2015'),\n",
       "  Text(2016, 0, '2016')])"
      ]
     },
     "execution_count": 53,
     "metadata": {},
     "output_type": "execute_result"
    },
    {
     "data": {
      "image/png": "[encoded data removed]",
      "text/plain": [
       "<Figure size 1000x600 with 1 Axes>"
      ]
     },
     "metadata": {},
     "output_type": "display_data"
    }
   ],
   "source": [
    "# Affichage des pays avec l'aide alimentaire par année\n",
    "plt.figure(figsize=(10,6))\n",
    "sns.lineplot(data=aide_alimgroup5, x='Année', y='Valeur', hue='Zone', marker='o')\n",
    "plt.title('Évolution de l aide alimentaire par année')\n",
    "plt.xlabel('Année')\n",
    "plt.ylabel('Valeur en kg')\n",
    "plt.legend(title='Zone')\n",
    "plt.grid(color='gray', linestyle='-', linewidth=0.5)\n",
    "plt.gca().get_yaxis().set_major_formatter(FuncFormatter(lambda x, _: '{:,.0f}'.format(x)))\n",
    "plt.xticks(aide_alimgroup5['Année'].unique())"
   ]
  },
  {
   "cell_type": "markdown",
   "id": "bd392dac",
   "metadata": {},
   "source": [
    "<div style=\"border: 1px solid RGB(0,150,250);\" >\n",
    "<h3 style=\"margin: auto; padding: 20px; color: RGB(0,150,250); \">3.9 - Pays avec le moins de disponibilité par habitant</h3>\n",
    "</div>"
   ]
  },
  {
   "cell_type": "code",
   "execution_count": 54,
   "id": "fb3a378b",
   "metadata": {},
   "outputs": [],
   "source": [
    "#Calcul de la disponibilité en kcal par personne par jour par pays\n",
    "dispoAlimjp = popu_dispoAlim.groupby(['Zone', 'Population']).agg({'dispo_kcal': 'sum'}).reset_index()\n",
    "dispoAlimjp['dispo_kcal_pers_jour'] = ((dispoAlimjp['dispo_kcal'] / dispoAlimjp['Population'])).astype(int)"
   ]
  },
  {
   "cell_type": "code",
   "execution_count": 55,
   "id": "70c0f689",
   "metadata": {},
   "outputs": [
    {
     "data": {
      "image/png": "[encoded data removed]",
      "text/plain": [
       "<Figure size 1100x900 with 1 Axes>"
      ]
     },
     "metadata": {},
     "output_type": "display_data"
    }
   ],
   "source": [
    "#Affichage des 10 pays qui ont le moins de dispo alimentaire par personne \n",
    "Min = dispoAlimjp.sort_values(by='dispo_kcal_pers_jour', ascending=True).head(10)\n",
    "plt.figure(figsize=(11,9))\n",
    "paletteMin = sns.dark_palette(\"red\", len(Min))\n",
    "sns.barplot(data=Min, x='dispo_kcal_pers_jour', y='Zone', palette=paletteMin, errorbar=None)\n",
    "plt.title('Les 10 pays avec le moins de disponibilité alimentaire par personne.')\n",
    "plt.ylabel('Zone')\n",
    "plt.xlabel('Disponibilité alimentaire (kcal/personne/jour)')\n",
    "for index, value in enumerate(Min['dispo_kcal_pers_jour']):\n",
    "    plt.text(value + 0.5, index, str(round(value, 2)), ha='left', va='center')"
   ]
  },
  {
   "cell_type": "markdown",
   "id": "2553ed12",
   "metadata": {},
   "source": [
    "<div style=\"border: 1px solid RGB(0,150,250);\" >\n",
    "<h3 style=\"margin: auto; padding: 20px; color: RGB(0,150,250); \">3.10 - Pays avec le plus de disponibilité par habitant</h3>\n",
    "</div>"
   ]
  },
  {
   "cell_type": "code",
   "execution_count": 56,
   "id": "63e835c6",
   "metadata": {
    "scrolled": false
   },
   "outputs": [
    {
     "data": {
      "image/png": "[encoded data removed]",
      "text/plain": [
       "<Figure size 1100x900 with 1 Axes>"
      ]
     },
     "metadata": {},
     "output_type": "display_data"
    }
   ],
   "source": [
    "#Affichage des 10 pays qui ont le plus de dispo alimentaire par personne \n",
    "Max = dispoAlimjp.sort_values(by='dispo_kcal_pers_jour', ascending=False).head(10)\n",
    "plt.figure(figsize=(11,9))\n",
    "paletteMax = sns.light_palette(\"green\", len(Max))\n",
    "sns.barplot(data=Max, x='dispo_kcal_pers_jour', y='Zone', palette=paletteMax, errorbar=None)\n",
    "plt.title('Les 10 pays avec le maximum de disponibilité alimentaire par personne.')\n",
    "plt.xlabel('Disponibilité alimentaire (kcal/personne/jour)')\n",
    "plt.ylabel('Zone')\n",
    "for index, value in enumerate(Max['dispo_kcal_pers_jour']):\n",
    "    plt.text(value + 0.5, index, str(round(value, 2)), ha='left', va='center')"
   ]
  },
  {
   "cell_type": "markdown",
   "id": "58d7248b",
   "metadata": {},
   "source": [
    "<div style=\"border: 1px solid RGB(0,150,250);\" >\n",
    "<h3 style=\"margin: auto; padding: 20px; color: RGB(0,150,250); \">3.11 - Exemple de la Thaïlande pour le Manioc</h3>\n",
    "</div>"
   ]
  },
  {
   "cell_type": "code",
   "execution_count": 57,
   "id": "ec9ca912",
   "metadata": {},
   "outputs": [],
   "source": [
    "#création d'un dataframe avec uniquement la Thaïlande \n",
    "Thailande = pd.merge(popu_dispoAlim.loc[popu_dispoAlim['Zone'] == 'Thaïlande'],\n",
    "                  SN_2017.loc[SN_2017['Zone'] == 'Thaïlande',[\"Zone\", \"Sous_nutrition\"]],\n",
    "                  on='Zone', how='inner')\n",
    "ThailandeManioc = Thailande.loc[Thailande['Produit'] == 'Manioc']"
   ]
  },
  {
   "cell_type": "code",
   "execution_count": 58,
   "id": "85693912",
   "metadata": {},
   "outputs": [
    {
     "name": "stdout",
     "output_type": "stream",
     "text": [
      "Le pourcentage de sous-nutrition en Thaïlande est de 8%.\n"
     ]
    }
   ],
   "source": [
    "#Calcul de la sous nutrition en Thaïlande\n",
    "print(f\"Le pourcentage de sous-nutrition en Thaïlande est de {int((Thailande.iloc[0]['Sous_nutrition'] / Thailande.iloc[0]['Population']) * 100)}%.\")"
   ]
  },
  {
   "cell_type": "code",
   "execution_count": 59,
   "id": "f19cd96e",
   "metadata": {},
   "outputs": [
    {
     "name": "stdout",
     "output_type": "stream",
     "text": [
      "En 2017, la Thaïlande exportait 83.41% de sa production de manioc.\n"
     ]
    }
   ],
   "source": [
    "# On calcule la proportion exportée en fonction de la proportion\n",
    "ExportManioc =(ThailandeManioc['Exportations - Quantité'] / ThailandeManioc['Production'] * 100).mean()\n",
    "print(\"En 2017, la Thaïlande exportait {:.2f}% de sa production de manioc.\".format(ExportManioc))"
   ]
  },
  {
   "cell_type": "markdown",
   "id": "7de4e914",
   "metadata": {},
   "source": [
    "<div style=\"background-color: RGB(0,150,250);\" >\n",
    "<h2 style=\"margin: auto; padding: 20px; color:#fff; \">Etape 6 - Analyse complémentaires</h2>\n",
    "</div>"
   ]
  },
  {
   "cell_type": "code",
   "execution_count": 60,
   "id": "e42062e9",
   "metadata": {},
   "outputs": [],
   "source": [
    "#Rajouter en dessous toutes les analyses complémtaires suite à la demande de mélanie :\n",
    "#\"et toutes les infos que tu trouverais utiles pour mettre en relief les pays qui semblent être \n",
    "#le plus en difficulté au niveau alimentaire\""
   ]
  },
  {
   "cell_type": "code",
   "execution_count": 61,
   "id": "f6edc8fe",
   "metadata": {},
   "outputs": [
    {
     "name": "stdout",
     "output_type": "stream",
     "text": [
      "En tout, en 2017 la Thaïlande exportait 24% de sa production intérieure.\n"
     ]
    }
   ],
   "source": [
    "print(\"En tout, en 2017 la Thaïlande exportait {}% de sa production intérieure.\".format(int(Thailande['Exportations - Quantité'].sum() / Thailande['Production'].sum() *100)))"
   ]
  },
  {
   "cell_type": "code",
   "execution_count": 62,
   "id": "0d24a9be",
   "metadata": {},
   "outputs": [
    {
     "data": {
      "text/html": [
       "<div>\n",
       "<style scoped>\n",
       "    .dataframe tbody tr th:only-of-type {\n",
       "        vertical-align: middle;\n",
       "    }\n",
       "\n",
       "    .dataframe tbody tr th {\n",
       "        vertical-align: top;\n",
       "    }\n",
       "\n",
       "    .dataframe thead th {\n",
       "        text-align: right;\n",
       "    }\n",
       "</style>\n",
       "<table border=\"1\" class=\"dataframe\">\n",
       "  <thead>\n",
       "    <tr style=\"text-align: right;\">\n",
       "      <th></th>\n",
       "      <th>Zone</th>\n",
       "      <th>Année</th>\n",
       "      <th>Produit</th>\n",
       "      <th>Exportations - Quantité</th>\n",
       "      <th>Production</th>\n",
       "    </tr>\n",
       "  </thead>\n",
       "  <tbody>\n",
       "    <tr>\n",
       "      <th>85143</th>\n",
       "      <td>Thaïlande</td>\n",
       "      <td>2017</td>\n",
       "      <td>Plantes Aquatiques</td>\n",
       "      <td>1000000.0</td>\n",
       "      <td>0.0</td>\n",
       "    </tr>\n",
       "    <tr>\n",
       "      <th>85085</th>\n",
       "      <td>Thaïlande</td>\n",
       "      <td>2017</td>\n",
       "      <td>Beurre, Ghee</td>\n",
       "      <td>1000000.0</td>\n",
       "      <td>0.0</td>\n",
       "    </tr>\n",
       "    <tr>\n",
       "      <th>85129</th>\n",
       "      <td>Thaïlande</td>\n",
       "      <td>2017</td>\n",
       "      <td>Millet</td>\n",
       "      <td>1000000.0</td>\n",
       "      <td>0.0</td>\n",
       "    </tr>\n",
       "    <tr>\n",
       "      <th>85168</th>\n",
       "      <td>Thaïlande</td>\n",
       "      <td>2017</td>\n",
       "      <td>Viande, Autre</td>\n",
       "      <td>96000000.0</td>\n",
       "      <td>0.0</td>\n",
       "    </tr>\n",
       "    <tr>\n",
       "      <th>85169</th>\n",
       "      <td>Thaïlande</td>\n",
       "      <td>2017</td>\n",
       "      <td>Vin</td>\n",
       "      <td>8000000.0</td>\n",
       "      <td>0.0</td>\n",
       "    </tr>\n",
       "    <tr>\n",
       "      <th>85150</th>\n",
       "      <td>Thaïlande</td>\n",
       "      <td>2017</td>\n",
       "      <td>Pommes</td>\n",
       "      <td>43000000.0</td>\n",
       "      <td>0.0</td>\n",
       "    </tr>\n",
       "    <tr>\n",
       "      <th>85079</th>\n",
       "      <td>Thaïlande</td>\n",
       "      <td>2017</td>\n",
       "      <td>Aliments pour enfants</td>\n",
       "      <td>7000000.0</td>\n",
       "      <td>0.0</td>\n",
       "    </tr>\n",
       "    <tr>\n",
       "      <th>85087</th>\n",
       "      <td>Thaïlande</td>\n",
       "      <td>2017</td>\n",
       "      <td>Blé</td>\n",
       "      <td>237000000.0</td>\n",
       "      <td>2000000.0</td>\n",
       "    </tr>\n",
       "    <tr>\n",
       "      <th>85099</th>\n",
       "      <td>Thaïlande</td>\n",
       "      <td>2017</td>\n",
       "      <td>Feve de Cacao</td>\n",
       "      <td>22000000.0</td>\n",
       "      <td>1000000.0</td>\n",
       "    </tr>\n",
       "    <tr>\n",
       "      <th>85090</th>\n",
       "      <td>Thaïlande</td>\n",
       "      <td>2017</td>\n",
       "      <td>Café</td>\n",
       "      <td>150000000.0</td>\n",
       "      <td>50000000.0</td>\n",
       "    </tr>\n",
       "  </tbody>\n",
       "</table>\n",
       "</div>"
      ],
      "text/plain": [
       "            Zone  Année                Produit  Exportations - Quantité  \\\n",
       "85143  Thaïlande   2017     Plantes Aquatiques                1000000.0   \n",
       "85085  Thaïlande   2017           Beurre, Ghee                1000000.0   \n",
       "85129  Thaïlande   2017                 Millet                1000000.0   \n",
       "85168  Thaïlande   2017          Viande, Autre               96000000.0   \n",
       "85169  Thaïlande   2017                    Vin                8000000.0   \n",
       "85150  Thaïlande   2017                 Pommes               43000000.0   \n",
       "85079  Thaïlande   2017  Aliments pour enfants                7000000.0   \n",
       "85087  Thaïlande   2017                    Blé              237000000.0   \n",
       "85099  Thaïlande   2017          Feve de Cacao               22000000.0   \n",
       "85090  Thaïlande   2017                   Café              150000000.0   \n",
       "\n",
       "       Production  \n",
       "85143         0.0  \n",
       "85085         0.0  \n",
       "85129         0.0  \n",
       "85168         0.0  \n",
       "85169         0.0  \n",
       "85150         0.0  \n",
       "85079         0.0  \n",
       "85087   2000000.0  \n",
       "85099   1000000.0  \n",
       "85090  50000000.0  "
      ]
     },
     "metadata": {},
     "output_type": "display_data"
    }
   ],
   "source": [
    "result = popu_dispoAlim.loc[(popu_dispoAlim['Zone'].str.contains('Thaïlande', case=False, na=False))].copy()\n",
    "result['%_export'] = ((result['Exportations - Quantité'] / result['Production']) * 100)\n",
    "result1 = result.sort_values(by='%_export', ascending=False).head(10)\n",
    "display(result1[['Zone', 'Année', 'Produit','Exportations - Quantité', 'Production']])"
   ]
  },
  {
   "cell_type": "code",
   "execution_count": 66,
   "id": "b230b2f5",
   "metadata": {},
   "outputs": [
    {
     "data": {
      "text/plain": [
       "Text(0.5, 1.0, 'Répartition de la disponibilité intérieure des céréales')"
      ]
     },
     "execution_count": 66,
     "metadata": {},
     "output_type": "execute_result"
    },
    {
     "data": {
      "image/png": "[encoded data removed]",
      "text/plain": [
       "<Figure size 640x480 with 1 Axes>"
      ]
     },
     "metadata": {},
     "output_type": "display_data"
    }
   ],
   "source": [
    "APN = ['Aliments pour animaux', 'Pertes', 'Nourriture', 'Autres Utilisations', 'Semences', 'Traitement']\n",
    "PourcentagesAPN = []\n",
    "for element in APN:\n",
    "    resultat = round((popu_dispoAlimCere[element].sum()) / (popu_dispoAlimCere['Disponibilité intérieure'].sum()) * 100, 2)\n",
    "    PourcentagesAPN.append(resultat)\n",
    "plt.pie(PourcentagesAPN, labels=APN, autopct='%1.1f%%')\n",
    "plt.title('Répartition de la disponibilité intérieure des céréales')"
   ]
  },
  {
   "cell_type": "code",
   "execution_count": 64,
   "id": "43a4902f",
   "metadata": {},
   "outputs": [
    {
     "data": {
      "text/plain": [
       "Text(0.5, 1.0, 'Proportion de personnes en état de sous-nutrition')"
      ]
     },
     "execution_count": 64,
     "metadata": {},
     "output_type": "execute_result"
    },
    {
     "data": {
      "image/png": "[encoded data removed]",
      "text/plain": [
       "<Figure size 640x480 with 1 Axes>"
      ]
     },
     "metadata": {},
     "output_type": "display_data"
    }
   ],
   "source": [
    "SN_2017['Alimentation_normale'] = (SN_2017['Population'] - SN_2017['Sous_nutrition'])\n",
    "SN = ['Alimentation_normale','Sous_nutrition']\n",
    "PourcentagesSN = []\n",
    "for element in SN:\n",
    "    resultat = round((SN_2017[element].sum()) / (SN_2017['Population'].sum()) * 100, 2)\n",
    "    PourcentagesSN.append(resultat)\n",
    "plt.pie(PourcentagesSN, labels=SN, autopct='%1.1f%%')\n",
    "plt.title('Proportion de personnes en état de sous-nutrition')"
   ]
  },
  {
   "cell_type": "code",
   "execution_count": null,
   "id": "5b605163",
   "metadata": {},
   "outputs": [],
   "source": []
  },
  {
   "cell_type": "code",
   "execution_count": null,
   "id": "b91dc6c6",
   "metadata": {},
   "outputs": [],
   "source": []
  },
  {
   "cell_type": "code",
   "execution_count": null,
   "id": "1031848c",
   "metadata": {},
   "outputs": [],
   "source": []
  },
  {
   "cell_type": "code",
   "execution_count": null,
   "id": "9b7d1647",
   "metadata": {},
   "outputs": [],
   "source": []
  }
 ],
 "metadata": {
  "kernelspec": {
   "display_name": "Python 3 (ipykernel)",
   "language": "python",
   "name": "python3"
  },
  "language_info": {
   "codemirror_mode": {
    "name": "ipython",
    "version": 3
   },
   "file_extension": ".py",
   "mimetype": "text/x-python",
   "name": "python",
   "nbconvert_exporter": "python",
   "pygments_lexer": "ipython3",
   "version": "3.11.7"
  }
 },
 "nbformat": 4,
 "nbformat_minor": 5
}
